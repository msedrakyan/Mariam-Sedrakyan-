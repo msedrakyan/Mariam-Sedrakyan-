{
 "cells": [
  {
   "cell_type": "markdown",
   "id": "361bb081",
   "metadata": {},
   "source": [
    "## Analysis Plan\n",
    "## Mariam Sedrakyan \n",
    "\n",
    "Music is a universal language allowing artists to express their feelings and thoughts. Music has been an essential part of human existence since time immemorial. The motivation of my project is to compare and contrast to understand how music tastes have changed in the last 20 or more years in America. Music taste is an adynamic and ever-evolving aspect representing individuals based on their experience. Life is a series of experiences, and these experiences often become intertwined with specific songs or genres. A song associated with a memorable event, a period of growth, or a significant relationship can evoke powerful emotions. \n",
    "\n",
    "My final project is about how music taste changed in America, what some specific features of tracks changed, and how they affected the popularity of the music. For my data resource, I used Spotify API. It is very reliable data because what is collected is based on people's behaviors and preferences. With the Spotify app, I got __audio_features__ for tracks. This helped me to understand tracks detailed based on their \"danceability,\" \"instrumentals,\" \"speechiness,\" \"tempo,\" and act. I picked to dive into \"danceability\" and \"speechiness\" because, based on my previous reports, I found out that if more \"danceability\" the track, there is a higher chance that people will love it. I also chose \"speechiness\" because I often hear from my parents and the older generation that \"Songs back then had deeper lyrics and content; songs nowadays are just beaten with little words that have no meaning.\" \n"
   ]
  },
  {
   "cell_type": "code",
   "execution_count": 1,
   "id": "3312ad46",
   "metadata": {},
   "outputs": [],
   "source": [
    "from matplotlib import pyplot as plt\n",
    "from scipy import stats\n",
    "import pandas as pd\n",
    "import numpy as np\n",
    "import requests\n",
    "import base64\n",
    "import json\n",
    "import urllib"
   ]
  },
  {
   "cell_type": "markdown",
   "id": "109babdd",
   "metadata": {},
   "source": [
    "Below are the functions I used to get access tokens from Spotify's API. \n",
    "An access token is a string representing the authorization granted to the client. It is used in HTTP to prove the authenticity of the sender and receiver."
   ]
  },
  {
   "cell_type": "code",
   "execution_count": 2,
   "id": "335fb1f7",
   "metadata": {},
   "outputs": [],
   "source": [
    "Client_ID = pd.read_csv(\"Spotify-Keys_9-23-21.txt\")['Client_ID'].iloc[0]\n",
    "Client_Secret = pd.read_csv(\"Spotify-Keys_secret.txt\")['Client_Secret'].iloc[0]"
   ]
  },
  {
   "cell_type": "markdown",
   "id": "bf3dd4d8",
   "metadata": {},
   "source": [
    "Some of the information need to be hidden for confidentiality "
   ]
  },
  {
   "cell_type": "code",
   "execution_count": 3,
   "id": "6e559edc",
   "metadata": {},
   "outputs": [],
   "source": [
    "# Client_ID"
   ]
  },
  {
   "cell_type": "code",
   "execution_count": 4,
   "id": "fabe65ea",
   "metadata": {},
   "outputs": [],
   "source": [
    "# Client_Secret"
   ]
  },
  {
   "cell_type": "code",
   "execution_count": 5,
   "id": "3f3588c3",
   "metadata": {},
   "outputs": [],
   "source": [
    "client_cred = base64.b64encode(str(Client_ID + \":\" + Client_Secret).encode(\"ascii\"))"
   ]
  },
  {
   "cell_type": "code",
   "execution_count": 6,
   "id": "a4c0b04f",
   "metadata": {},
   "outputs": [],
   "source": [
    "# client_cred"
   ]
  },
  {
   "cell_type": "code",
   "execution_count": 7,
   "id": "1f27f71c",
   "metadata": {},
   "outputs": [],
   "source": [
    "headers = {\"Authorization\": \"Basic {}\".format(client_cred.decode(\"ascii\"))}"
   ]
  },
  {
   "cell_type": "code",
   "execution_count": 8,
   "id": "df1d7033",
   "metadata": {},
   "outputs": [],
   "source": [
    "# headers"
   ]
  },
  {
   "cell_type": "markdown",
   "id": "3f20a443",
   "metadata": {},
   "source": [
    "I am getting the access to token to check the response"
   ]
  },
  {
   "cell_type": "code",
   "execution_count": 9,
   "id": "03854bd7",
   "metadata": {},
   "outputs": [],
   "source": [
    "payload = {'grant_type' : 'client_credentials'}\n",
    "url = 'https://accounts.spotify.com/api/token'"
   ]
  },
  {
   "cell_type": "code",
   "execution_count": 10,
   "id": "06abbfd5",
   "metadata": {},
   "outputs": [],
   "source": [
    "session_key_response = requests.post(url = url, data = payload, headers = headers)"
   ]
  },
  {
   "cell_type": "code",
   "execution_count": 11,
   "id": "1142b0ee",
   "metadata": {},
   "outputs": [
    {
     "data": {
      "text/plain": [
       "200"
      ]
     },
     "execution_count": 11,
     "metadata": {},
     "output_type": "execute_result"
    }
   ],
   "source": [
    "session_key_response.status_code"
   ]
  },
  {
   "cell_type": "code",
   "execution_count": 12,
   "id": "822bf1b1",
   "metadata": {},
   "outputs": [],
   "source": [
    "# session_key_response.json()['access_token']"
   ]
  },
  {
   "cell_type": "code",
   "execution_count": 13,
   "id": "53fb93a9",
   "metadata": {
    "scrolled": true
   },
   "outputs": [],
   "source": [
    "session_header_key = session_key_response.json()"
   ]
  },
  {
   "cell_type": "code",
   "execution_count": 14,
   "id": "cb1d6810",
   "metadata": {},
   "outputs": [],
   "source": [
    "key = session_header_key['access_token']"
   ]
  },
  {
   "cell_type": "code",
   "execution_count": 15,
   "id": "8c536f0b",
   "metadata": {},
   "outputs": [],
   "source": [
    "session_headers = {\"Authorization\": \"Bearer {}\".format(key)}"
   ]
  },
  {
   "cell_type": "code",
   "execution_count": 16,
   "id": "eeeafacf",
   "metadata": {},
   "outputs": [],
   "source": [
    "# session_headers"
   ]
  },
  {
   "cell_type": "markdown",
   "id": "46be80d5",
   "metadata": {},
   "source": [
    "# Hits of early 2000s\n",
    "\n",
    "After researching, I found a playlist with all the popular hits from the early 2000s. This playlist will give me the base to move forward and narrow down to find the most popular album then."
   ]
  },
  {
   "cell_type": "markdown",
   "id": "2ec1b189",
   "metadata": {},
   "source": [
    "Playlist ID"
   ]
  },
  {
   "cell_type": "code",
   "execution_count": 17,
   "id": "e2d8ea5c",
   "metadata": {},
   "outputs": [],
   "source": [
    "early_hits_id=\"37i9dQZF1DWUZv12GM5cFk\""
   ]
  },
  {
   "cell_type": "code",
   "execution_count": 18,
   "id": "7c54d9fe",
   "metadata": {},
   "outputs": [],
   "source": [
    "early_hits_url= 'https://api.spotify.com/v1/playlists/{}'.format(early_hits_id)"
   ]
  },
  {
   "cell_type": "code",
   "execution_count": 19,
   "id": "c610ff57",
   "metadata": {},
   "outputs": [
    {
     "data": {
      "text/plain": [
       "200"
      ]
     },
     "execution_count": 19,
     "metadata": {},
     "output_type": "execute_result"
    }
   ],
   "source": [
    "early_hits_response = requests.get(url = early_hits_url, headers = session_headers)\n",
    "early_hits_response.status_code"
   ]
  },
  {
   "cell_type": "code",
   "execution_count": 20,
   "id": "c3fac9da",
   "metadata": {},
   "outputs": [],
   "source": [
    "early_hits = early_hits_response.json()"
   ]
  },
  {
   "cell_type": "code",
   "execution_count": 21,
   "id": "60f09363",
   "metadata": {},
   "outputs": [
    {
     "data": {
      "text/plain": [
       "dict_keys(['collaborative', 'description', 'external_urls', 'followers', 'href', 'id', 'images', 'name', 'owner', 'primary_color', 'public', 'snapshot_id', 'tracks', 'type', 'uri'])"
      ]
     },
     "execution_count": 21,
     "metadata": {},
     "output_type": "execute_result"
    }
   ],
   "source": [
    "early_hits.keys()"
   ]
  },
  {
   "cell_type": "code",
   "execution_count": 22,
   "id": "2adff729",
   "metadata": {},
   "outputs": [
    {
     "data": {
      "text/plain": [
       "dict_keys(['href', 'items', 'limit', 'next', 'offset', 'previous', 'total'])"
      ]
     },
     "execution_count": 22,
     "metadata": {},
     "output_type": "execute_result"
    }
   ],
   "source": [
    "early_hits['tracks'].keys()"
   ]
  },
  {
   "cell_type": "code",
   "execution_count": 23,
   "id": "d421a749",
   "metadata": {},
   "outputs": [
    {
     "data": {
      "text/plain": [
       "dict_keys(['href', 'items', 'limit', 'next', 'offset', 'previous', 'total'])"
      ]
     },
     "execution_count": 23,
     "metadata": {},
     "output_type": "execute_result"
    }
   ],
   "source": [
    "early_hits['tracks'].keys()"
   ]
  },
  {
   "cell_type": "code",
   "execution_count": 24,
   "id": "b4f54d1a",
   "metadata": {},
   "outputs": [
    {
     "data": {
      "text/plain": [
       "'2000-05-16'"
      ]
     },
     "execution_count": 24,
     "metadata": {},
     "output_type": "execute_result"
    }
   ],
   "source": [
    "early_hits['tracks']['items'][0]['track']['album']['release_date']"
   ]
  },
  {
   "cell_type": "markdown",
   "id": "73d34f63",
   "metadata": {},
   "source": [
    "My frist dataframe represents couple important information about the tracks inside playlist. "
   ]
  },
  {
   "cell_type": "markdown",
   "id": "91124408",
   "metadata": {},
   "source": [
    "I separated the most helpful parts. As we can see, the data frame is sorted from the most popular to the least popular songs. One hundred being very popular and 0 being least popular, our result shows that \"Oops!... I did it again\" is the most popular song in the playlist."
   ]
  },
  {
   "cell_type": "code",
   "execution_count": 25,
   "id": "46f70865",
   "metadata": {},
   "outputs": [
    {
     "data": {
      "text/html": [
       "<div>\n",
       "<style scoped>\n",
       "    .dataframe tbody tr th:only-of-type {\n",
       "        vertical-align: middle;\n",
       "    }\n",
       "\n",
       "    .dataframe tbody tr th {\n",
       "        vertical-align: top;\n",
       "    }\n",
       "\n",
       "    .dataframe thead th {\n",
       "        text-align: right;\n",
       "    }\n",
       "</style>\n",
       "<table border=\"1\" class=\"dataframe\">\n",
       "  <thead>\n",
       "    <tr style=\"text-align: right;\">\n",
       "      <th></th>\n",
       "      <th>name</th>\n",
       "      <th>popularity</th>\n",
       "      <th>id</th>\n",
       "      <th>type</th>\n",
       "    </tr>\n",
       "  </thead>\n",
       "  <tbody>\n",
       "    <tr>\n",
       "      <th>0</th>\n",
       "      <td>Oops!...I Did It Again</td>\n",
       "      <td>81</td>\n",
       "      <td>6naxalmIoLFWR0siv8dnQQ</td>\n",
       "      <td>track</td>\n",
       "    </tr>\n",
       "    <tr>\n",
       "      <th>1</th>\n",
       "      <td>All The Small Things</td>\n",
       "      <td>84</td>\n",
       "      <td>2m1hi0nfMR9vdGC8UcrnwU</td>\n",
       "      <td>track</td>\n",
       "    </tr>\n",
       "    <tr>\n",
       "      <th>2</th>\n",
       "      <td>Breathe</td>\n",
       "      <td>68</td>\n",
       "      <td>3y4LxiYMgDl4RethdzpmNe</td>\n",
       "      <td>track</td>\n",
       "    </tr>\n",
       "    <tr>\n",
       "      <th>3</th>\n",
       "      <td>It's My Life</td>\n",
       "      <td>82</td>\n",
       "      <td>0v1XpBHnsbkCn7iJ9Ucr1l</td>\n",
       "      <td>track</td>\n",
       "    </tr>\n",
       "    <tr>\n",
       "      <th>4</th>\n",
       "      <td>Bye Bye Bye</td>\n",
       "      <td>74</td>\n",
       "      <td>62bOmKYxYg7dhrC6gH9vFn</td>\n",
       "      <td>track</td>\n",
       "    </tr>\n",
       "  </tbody>\n",
       "</table>\n",
       "</div>"
      ],
      "text/plain": [
       "                     name  popularity                      id   type\n",
       "0  Oops!...I Did It Again          81  6naxalmIoLFWR0siv8dnQQ  track\n",
       "1    All The Small Things          84  2m1hi0nfMR9vdGC8UcrnwU  track\n",
       "2                 Breathe          68  3y4LxiYMgDl4RethdzpmNe  track\n",
       "3            It's My Life          82  0v1XpBHnsbkCn7iJ9Ucr1l  track\n",
       "4             Bye Bye Bye          74  62bOmKYxYg7dhrC6gH9vFn  track"
      ]
     },
     "execution_count": 25,
     "metadata": {},
     "output_type": "execute_result"
    }
   ],
   "source": [
    "early_hits_df = pd.DataFrame([x['track'] for x in early_hits['tracks']['items']])\n",
    "id_name_popularity_df =early_hits_df[['name','popularity','id','type']]\n",
    "id_name_popularity_df.head(5)"
   ]
  },
  {
   "cell_type": "markdown",
   "id": "11b28bb0",
   "metadata": {},
   "source": [
    "To get the date of the tracks, I need to look into the albums they were created. This is when I started to face some challenges. This graph shows me the realized date of the albums the tracks were in. My original idea was to compare two playlists; however, as we can see, the type column changed from \"track\" to \"album\" once I pulled out \"release_date.\" This means that the \"id\" column does not match anymore. One way to solve this problem was to create an Excel file and manually create data with tracks and release_date. However, because of the short time, I decided to work with my existing data to compare two albums."
   ]
  },
  {
   "cell_type": "code",
   "execution_count": 26,
   "id": "6e4328ed",
   "metadata": {},
   "outputs": [
    {
     "data": {
      "text/html": [
       "<div>\n",
       "<style scoped>\n",
       "    .dataframe tbody tr th:only-of-type {\n",
       "        vertical-align: middle;\n",
       "    }\n",
       "\n",
       "    .dataframe tbody tr th {\n",
       "        vertical-align: top;\n",
       "    }\n",
       "\n",
       "    .dataframe thead th {\n",
       "        text-align: right;\n",
       "    }\n",
       "</style>\n",
       "<table border=\"1\" class=\"dataframe\">\n",
       "  <thead>\n",
       "    <tr style=\"text-align: right;\">\n",
       "      <th></th>\n",
       "      <th>name</th>\n",
       "      <th>release_date</th>\n",
       "      <th>id</th>\n",
       "      <th>type</th>\n",
       "    </tr>\n",
       "  </thead>\n",
       "  <tbody>\n",
       "    <tr>\n",
       "      <th>1</th>\n",
       "      <td>Enema Of The State</td>\n",
       "      <td>1999-06-01</td>\n",
       "      <td>652N05EcNH1a4bIlUixQE2</td>\n",
       "      <td>album</td>\n",
       "    </tr>\n",
       "    <tr>\n",
       "      <th>2</th>\n",
       "      <td>Breathe</td>\n",
       "      <td>1999-11-09</td>\n",
       "      <td>3BGPil8BDPVoDK0lnUPtvb</td>\n",
       "      <td>album</td>\n",
       "    </tr>\n",
       "    <tr>\n",
       "      <th>3</th>\n",
       "      <td>Crush</td>\n",
       "      <td>2000-01-01</td>\n",
       "      <td>0Q9SljCrM0CL0bR23MuP69</td>\n",
       "      <td>album</td>\n",
       "    </tr>\n",
       "    <tr>\n",
       "      <th>4</th>\n",
       "      <td>No Strings Attached</td>\n",
       "      <td>2000-03-21</td>\n",
       "      <td>20RMokVwJ2wjQ0s8FOdOFC</td>\n",
       "      <td>album</td>\n",
       "    </tr>\n",
       "    <tr>\n",
       "      <th>0</th>\n",
       "      <td>Oops!... I Did It Again</td>\n",
       "      <td>2000-05-16</td>\n",
       "      <td>5PmgtkodFl2Om3hMXONDll</td>\n",
       "      <td>album</td>\n",
       "    </tr>\n",
       "  </tbody>\n",
       "</table>\n",
       "</div>"
      ],
      "text/plain": [
       "                      name release_date                      id   type\n",
       "1       Enema Of The State   1999-06-01  652N05EcNH1a4bIlUixQE2  album\n",
       "2                  Breathe   1999-11-09  3BGPil8BDPVoDK0lnUPtvb  album\n",
       "3                    Crush   2000-01-01  0Q9SljCrM0CL0bR23MuP69  album\n",
       "4      No Strings Attached   2000-03-21  20RMokVwJ2wjQ0s8FOdOFC  album\n",
       "0  Oops!... I Did It Again   2000-05-16  5PmgtkodFl2Om3hMXONDll  album"
      ]
     },
     "execution_count": 26,
     "metadata": {},
     "output_type": "execute_result"
    }
   ],
   "source": [
    "release_dates = pd.DataFrame([x['track']['album']for x in early_hits['tracks']['items']])\n",
    "album_dates_df=release_dates[['name','release_date','id','type']]\n",
    "album_dates_df.head(5).sort_values('release_date',ascending = True)"
   ]
  },
  {
   "cell_type": "markdown",
   "id": "080ea170",
   "metadata": {},
   "source": [
    "Below, we can see the albums released in the early 2000s. Use __get_albums__ endpoint to get more information about albums. This will allow me to join album IDs."
   ]
  },
  {
   "cell_type": "code",
   "execution_count": 27,
   "id": "a92e63af",
   "metadata": {},
   "outputs": [],
   "source": [
    "get_old_albums_url = 'https://api.spotify.com/v1/albums?ids={}'\\\n",
    ".format(','.join(list(album_dates_df['id'] [0:20])))"
   ]
  },
  {
   "cell_type": "code",
   "execution_count": 28,
   "id": "87e9de2b",
   "metadata": {},
   "outputs": [
    {
     "data": {
      "text/plain": [
       "200"
      ]
     },
     "execution_count": 28,
     "metadata": {},
     "output_type": "execute_result"
    }
   ],
   "source": [
    "old_album_features =requests.get(url = get_old_albums_url , headers = session_headers)\n",
    "old_album_features.status_code"
   ]
  },
  {
   "cell_type": "code",
   "execution_count": 29,
   "id": "62710efc",
   "metadata": {},
   "outputs": [],
   "source": [
    "old_album_response = old_album_features.json()"
   ]
  },
  {
   "cell_type": "code",
   "execution_count": 30,
   "id": "86e31e19",
   "metadata": {},
   "outputs": [],
   "source": [
    "old_album_response_df = pd.DataFrame(old_album_response['albums'])"
   ]
  },
  {
   "cell_type": "markdown",
   "id": "0e424971",
   "metadata": {},
   "source": [
    "I need to find the most popular album from the early 2000s to move forward. Below, we can see album name popularity, with 100 being the most popular and 0 being the least popular, ID, and type. I also want to explain why I dropped the \"Sing When You're Winning\" album because after visualizing the graph, I realized that this is the only album that was realized after 2010, which does not satisfy my analysis's requirements. "
   ]
  },
  {
   "cell_type": "code",
   "execution_count": 31,
   "id": "3639a507",
   "metadata": {
    "scrolled": true
   },
   "outputs": [
    {
     "data": {
      "text/html": [
       "<div>\n",
       "<style scoped>\n",
       "    .dataframe tbody tr th:only-of-type {\n",
       "        vertical-align: middle;\n",
       "    }\n",
       "\n",
       "    .dataframe tbody tr th {\n",
       "        vertical-align: top;\n",
       "    }\n",
       "\n",
       "    .dataframe thead th {\n",
       "        text-align: right;\n",
       "    }\n",
       "</style>\n",
       "<table border=\"1\" class=\"dataframe\">\n",
       "  <thead>\n",
       "    <tr style=\"text-align: right;\">\n",
       "      <th></th>\n",
       "      <th>name</th>\n",
       "      <th>popularity</th>\n",
       "      <th>release_date</th>\n",
       "      <th>id</th>\n",
       "      <th>type</th>\n",
       "    </tr>\n",
       "  </thead>\n",
       "  <tbody>\n",
       "    <tr>\n",
       "      <th>9</th>\n",
       "      <td>Parachutes</td>\n",
       "      <td>87</td>\n",
       "      <td>2000-07-10</td>\n",
       "      <td>6ZG5lRT77aJ3btmArcykra</td>\n",
       "      <td>album</td>\n",
       "    </tr>\n",
       "    <tr>\n",
       "      <th>10</th>\n",
       "      <td>Hybrid Theory (Bonus Edition)</td>\n",
       "      <td>86</td>\n",
       "      <td>2000-10-24</td>\n",
       "      <td>6hPkbAV3ZXpGZBGUvL6jVM</td>\n",
       "      <td>album</td>\n",
       "    </tr>\n",
       "    <tr>\n",
       "      <th>6</th>\n",
       "      <td>The Marshall Mathers LP</td>\n",
       "      <td>85</td>\n",
       "      <td>2000-05-23</td>\n",
       "      <td>6t7956yu5zYf5A829XRiHC</td>\n",
       "      <td>album</td>\n",
       "    </tr>\n",
       "    <tr>\n",
       "      <th>11</th>\n",
       "      <td>Californication (Deluxe Edition)</td>\n",
       "      <td>85</td>\n",
       "      <td>1999-06-08</td>\n",
       "      <td>2Y9IRtehByVkegoD7TcLfi</td>\n",
       "      <td>album</td>\n",
       "    </tr>\n",
       "    <tr>\n",
       "      <th>13</th>\n",
       "      <td>2001</td>\n",
       "      <td>84</td>\n",
       "      <td>1999-11-16</td>\n",
       "      <td>7q2B4M5EiBkqrlsNW8lB7N</td>\n",
       "      <td>album</td>\n",
       "    </tr>\n",
       "  </tbody>\n",
       "</table>\n",
       "</div>"
      ],
      "text/plain": [
       "                                name  popularity release_date  \\\n",
       "9                         Parachutes          87   2000-07-10   \n",
       "10     Hybrid Theory (Bonus Edition)          86   2000-10-24   \n",
       "6            The Marshall Mathers LP          85   2000-05-23   \n",
       "11  Californication (Deluxe Edition)          85   1999-06-08   \n",
       "13                              2001          84   1999-11-16   \n",
       "\n",
       "                        id   type  \n",
       "9   6ZG5lRT77aJ3btmArcykra  album  \n",
       "10  6hPkbAV3ZXpGZBGUvL6jVM  album  \n",
       "6   6t7956yu5zYf5A829XRiHC  album  \n",
       "11  2Y9IRtehByVkegoD7TcLfi  album  \n",
       "13  7q2B4M5EiBkqrlsNW8lB7N  album  "
      ]
     },
     "execution_count": 31,
     "metadata": {},
     "output_type": "execute_result"
    }
   ],
   "source": [
    "old_albums_popularity_df = pd.DataFrame(old_album_response_df[['name', 'popularity', 'release_date', 'id', 'type']])\n",
    "old_albums_popularity_df = old_albums_popularity_df.sort_values('popularity', ascending=False)\n",
    "old_albums_popularity_df = old_albums_popularity_df[old_albums_popularity_df['name'] != \"Sing When You're Winning\"]\n",
    "old_albums_popularity_df.head(5)"
   ]
  },
  {
   "cell_type": "markdown",
   "id": "40919c9e",
   "metadata": {},
   "source": [
    "For visualization I converted the 'release_date' values to Timestamps."
   ]
  },
  {
   "cell_type": "code",
   "execution_count": 32,
   "id": "9d9f0bc2",
   "metadata": {},
   "outputs": [],
   "source": [
    "old_albums_popularity_df['timestamp'] = [pd.Timestamp(x) for x in old_albums_popularity_df['release_date']]"
   ]
  },
  {
   "cell_type": "markdown",
   "id": "5c4f2afe",
   "metadata": {},
   "source": [
    "My first graph represents timestamp vs. popularity. Based on the release date, this graph shows us what album was most popular. The graph is pretty spread out. However, we can see more albums have a popularity of less than 60, and as the year grows, the popularity decreases. "
   ]
  },
  {
   "cell_type": "markdown",
   "id": "6c7cb99c",
   "metadata": {},
   "source": [
    "Based on this graph, I decided to pick a trendy album that was not released after 2001. This way, I can see the difference between"
   ]
  },
  {
   "cell_type": "code",
   "execution_count": 33,
   "id": "50f796d6",
   "metadata": {
    "scrolled": true
   },
   "outputs": [
    {
     "data": {
      "image/png": "[encoded data removed]",
      "text/plain": [
       "<Figure size 640x480 with 1 Axes>"
      ]
     },
     "metadata": {},
     "output_type": "display_data"
    }
   ],
   "source": [
    "fig1, ax1 = plt.subplots()\n",
    "ax1.scatter(old_albums_popularity_df['timestamp'], old_albums_popularity_df['popularity'], label='popularity',alpha= .5, color =\"#2F9B61\",)\n",
    "ax1.set_title('Timestamp vs Popularity')\n",
    "ax1.set_xlabel('Timestamp')\n",
    "ax1.set_ylabel('Popularity')\n",
    "#ax1.xticks ( x, 'Timestamp',rotation='vertical')\n",
    "\n",
    "plt.show()"
   ]
  },
  {
   "cell_type": "markdown",
   "id": "cb4d0921",
   "metadata": {},
   "source": [
    "I picked the albume called Californication (Deluxe Edition)"
   ]
  },
  {
   "cell_type": "code",
   "execution_count": 34,
   "id": "f4d5f3b1",
   "metadata": {},
   "outputs": [],
   "source": [
    "california_id=\"2Y9IRtehByVkegoD7TcLfi\""
   ]
  },
  {
   "cell_type": "code",
   "execution_count": 35,
   "id": "50a536cc",
   "metadata": {},
   "outputs": [],
   "source": [
    "california_tracks_url = 'https://api.spotify.com/v1/albums/{}/tracks'.format(california_id)\n"
   ]
  },
  {
   "cell_type": "code",
   "execution_count": 36,
   "id": "fb823fc5",
   "metadata": {},
   "outputs": [
    {
     "data": {
      "text/plain": [
       "200"
      ]
     },
     "execution_count": 36,
     "metadata": {},
     "output_type": "execute_result"
    }
   ],
   "source": [
    "california_album_response = requests.get(url = california_tracks_url, headers = session_headers)\n",
    "california_album_response.status_code"
   ]
  },
  {
   "cell_type": "code",
   "execution_count": 37,
   "id": "f96ae777",
   "metadata": {},
   "outputs": [],
   "source": [
    "california_of_the_state = california_album_response.json()"
   ]
  },
  {
   "cell_type": "code",
   "execution_count": 38,
   "id": "2e9023b0",
   "metadata": {},
   "outputs": [
    {
     "data": {
      "text/plain": [
       "dict_keys(['href', 'items', 'limit', 'next', 'offset', 'previous', 'total'])"
      ]
     },
     "execution_count": 38,
     "metadata": {},
     "output_type": "execute_result"
    }
   ],
   "source": [
    "california_of_the_state.keys()"
   ]
  },
  {
   "cell_type": "raw",
   "id": "b7508357",
   "metadata": {},
   "source": [
    "This dataframe is just basic information about albums track. \"Talk more about tracks for final paper\""
   ]
  },
  {
   "cell_type": "code",
   "execution_count": 39,
   "id": "04d9bb5a",
   "metadata": {},
   "outputs": [
    {
     "data": {
      "text/html": [
       "<div>\n",
       "<style scoped>\n",
       "    .dataframe tbody tr th:only-of-type {\n",
       "        vertical-align: middle;\n",
       "    }\n",
       "\n",
       "    .dataframe tbody tr th {\n",
       "        vertical-align: top;\n",
       "    }\n",
       "\n",
       "    .dataframe thead th {\n",
       "        text-align: right;\n",
       "    }\n",
       "</style>\n",
       "<table border=\"1\" class=\"dataframe\">\n",
       "  <thead>\n",
       "    <tr style=\"text-align: right;\">\n",
       "      <th></th>\n",
       "      <th>name</th>\n",
       "      <th>id</th>\n",
       "      <th>type</th>\n",
       "    </tr>\n",
       "  </thead>\n",
       "  <tbody>\n",
       "    <tr>\n",
       "      <th>0</th>\n",
       "      <td>Around the World</td>\n",
       "      <td>0aGQHMr7bc23Y9Ts84ffop</td>\n",
       "      <td>track</td>\n",
       "    </tr>\n",
       "    <tr>\n",
       "      <th>1</th>\n",
       "      <td>Parallel Universe</td>\n",
       "      <td>1Se0r96r0gnqg67kJPmESc</td>\n",
       "      <td>track</td>\n",
       "    </tr>\n",
       "    <tr>\n",
       "      <th>2</th>\n",
       "      <td>Scar Tissue</td>\n",
       "      <td>1G391cbiT3v3Cywg8T7DM1</td>\n",
       "      <td>track</td>\n",
       "    </tr>\n",
       "    <tr>\n",
       "      <th>3</th>\n",
       "      <td>Otherside</td>\n",
       "      <td>64BbK9SFKH2jk86U3dGj2P</td>\n",
       "      <td>track</td>\n",
       "    </tr>\n",
       "    <tr>\n",
       "      <th>4</th>\n",
       "      <td>Get on Top</td>\n",
       "      <td>0GcWf1Cc4ixN35D3O9VdcP</td>\n",
       "      <td>track</td>\n",
       "    </tr>\n",
       "  </tbody>\n",
       "</table>\n",
       "</div>"
      ],
      "text/plain": [
       "                name                      id   type\n",
       "0   Around the World  0aGQHMr7bc23Y9Ts84ffop  track\n",
       "1  Parallel Universe  1Se0r96r0gnqg67kJPmESc  track\n",
       "2        Scar Tissue  1G391cbiT3v3Cywg8T7DM1  track\n",
       "3          Otherside  64BbK9SFKH2jk86U3dGj2P  track\n",
       "4         Get on Top  0GcWf1Cc4ixN35D3O9VdcP  track"
      ]
     },
     "execution_count": 39,
     "metadata": {},
     "output_type": "execute_result"
    }
   ],
   "source": [
    "california_df = pd.DataFrame(california_of_the_state['items'])\n",
    "california_name_df= pd.DataFrame(california_df [['name','id','type']])\n",
    "california_name_df.head()"
   ]
  },
  {
   "cell_type": "code",
   "execution_count": 40,
   "id": "725a29ba",
   "metadata": {},
   "outputs": [],
   "source": [
    "california_audio_features = 'https://api.spotify.com/v1/audio-features?ids={}'\\\n",
    ".format(','.join(list(california_df['id'])))\n"
   ]
  },
  {
   "cell_type": "code",
   "execution_count": 41,
   "id": "ec8e710c",
   "metadata": {},
   "outputs": [
    {
     "data": {
      "text/plain": [
       "200"
      ]
     },
     "execution_count": 41,
     "metadata": {},
     "output_type": "execute_result"
    }
   ],
   "source": [
    "california_features_response = requests.get(url = california_audio_features , headers = session_headers)\n",
    "california_features_response.status_code"
   ]
  },
  {
   "cell_type": "code",
   "execution_count": 42,
   "id": "71c6ff91",
   "metadata": {},
   "outputs": [],
   "source": [
    "california_features = california_features_response.json()"
   ]
  },
  {
   "cell_type": "code",
   "execution_count": 43,
   "id": "26fa20b2",
   "metadata": {},
   "outputs": [
    {
     "data": {
      "text/plain": [
       "dict_keys(['audio_features'])"
      ]
     },
     "execution_count": 43,
     "metadata": {},
     "output_type": "execute_result"
    }
   ],
   "source": [
    "california_features.keys()"
   ]
  },
  {
   "cell_type": "markdown",
   "id": "9b764e0c",
   "metadata": {},
   "source": [
    "After joining the IDs of the tracks inside the album, I separated the \"danceability\"  and \"speechiness\" of the tracks. These are the two features I will use as my base to compare and contrast the albums. \n"
   ]
  },
  {
   "cell_type": "code",
   "execution_count": 44,
   "id": "7c82bc56",
   "metadata": {},
   "outputs": [
    {
     "data": {
      "text/html": [
       "<div>\n",
       "<style scoped>\n",
       "    .dataframe tbody tr th:only-of-type {\n",
       "        vertical-align: middle;\n",
       "    }\n",
       "\n",
       "    .dataframe tbody tr th {\n",
       "        vertical-align: top;\n",
       "    }\n",
       "\n",
       "    .dataframe thead th {\n",
       "        text-align: right;\n",
       "    }\n",
       "</style>\n",
       "<table border=\"1\" class=\"dataframe\">\n",
       "  <thead>\n",
       "    <tr style=\"text-align: right;\">\n",
       "      <th></th>\n",
       "      <th>danceability</th>\n",
       "      <th>speechiness</th>\n",
       "      <th>id</th>\n",
       "    </tr>\n",
       "  </thead>\n",
       "  <tbody>\n",
       "    <tr>\n",
       "      <th>0</th>\n",
       "      <td>0.504</td>\n",
       "      <td>0.1830</td>\n",
       "      <td>0aGQHMr7bc23Y9Ts84ffop</td>\n",
       "    </tr>\n",
       "    <tr>\n",
       "      <th>1</th>\n",
       "      <td>0.343</td>\n",
       "      <td>0.2120</td>\n",
       "      <td>1Se0r96r0gnqg67kJPmESc</td>\n",
       "    </tr>\n",
       "    <tr>\n",
       "      <th>2</th>\n",
       "      <td>0.595</td>\n",
       "      <td>0.0295</td>\n",
       "      <td>1G391cbiT3v3Cywg8T7DM1</td>\n",
       "    </tr>\n",
       "    <tr>\n",
       "      <th>3</th>\n",
       "      <td>0.458</td>\n",
       "      <td>0.0574</td>\n",
       "      <td>64BbK9SFKH2jk86U3dGj2P</td>\n",
       "    </tr>\n",
       "    <tr>\n",
       "      <th>4</th>\n",
       "      <td>0.573</td>\n",
       "      <td>0.3420</td>\n",
       "      <td>0GcWf1Cc4ixN35D3O9VdcP</td>\n",
       "    </tr>\n",
       "  </tbody>\n",
       "</table>\n",
       "</div>"
      ],
      "text/plain": [
       "   danceability  speechiness                      id\n",
       "0         0.504       0.1830  0aGQHMr7bc23Y9Ts84ffop\n",
       "1         0.343       0.2120  1Se0r96r0gnqg67kJPmESc\n",
       "2         0.595       0.0295  1G391cbiT3v3Cywg8T7DM1\n",
       "3         0.458       0.0574  64BbK9SFKH2jk86U3dGj2P\n",
       "4         0.573       0.3420  0GcWf1Cc4ixN35D3O9VdcP"
      ]
     },
     "execution_count": 44,
     "metadata": {},
     "output_type": "execute_result"
    }
   ],
   "source": [
    "california_features_df = pd.DataFrame(california_features['audio_features'])\n",
    "california_two_features_df= pd.DataFrame(california_features_df[['danceability','speechiness','id']])\n",
    "california_two_features_df.head()"
   ]
  },
  {
   "cell_type": "markdown",
   "id": "a99b0ed2",
   "metadata": {},
   "source": [
    "Here is the whole dataframe and all the important information I am going to user "
   ]
  },
  {
   "cell_type": "markdown",
   "id": "c0ff9737",
   "metadata": {},
   "source": [
    "1 is very danceable   \n",
    "0 is none danceable   \n",
    "1 is high speechiness  \n",
    "0 is low speechiness  "
   ]
  },
  {
   "cell_type": "code",
   "execution_count": 45,
   "id": "7edc16e4",
   "metadata": {},
   "outputs": [
    {
     "data": {
      "text/html": [
       "<div>\n",
       "<style scoped>\n",
       "    .dataframe tbody tr th:only-of-type {\n",
       "        vertical-align: middle;\n",
       "    }\n",
       "\n",
       "    .dataframe tbody tr th {\n",
       "        vertical-align: top;\n",
       "    }\n",
       "\n",
       "    .dataframe thead th {\n",
       "        text-align: right;\n",
       "    }\n",
       "</style>\n",
       "<table border=\"1\" class=\"dataframe\">\n",
       "  <thead>\n",
       "    <tr style=\"text-align: right;\">\n",
       "      <th></th>\n",
       "      <th>name</th>\n",
       "      <th>id</th>\n",
       "      <th>type</th>\n",
       "      <th>danceability</th>\n",
       "      <th>speechiness</th>\n",
       "    </tr>\n",
       "  </thead>\n",
       "  <tbody>\n",
       "    <tr>\n",
       "      <th>0</th>\n",
       "      <td>Around the World</td>\n",
       "      <td>0aGQHMr7bc23Y9Ts84ffop</td>\n",
       "      <td>track</td>\n",
       "      <td>0.504</td>\n",
       "      <td>0.1830</td>\n",
       "    </tr>\n",
       "    <tr>\n",
       "      <th>1</th>\n",
       "      <td>Parallel Universe</td>\n",
       "      <td>1Se0r96r0gnqg67kJPmESc</td>\n",
       "      <td>track</td>\n",
       "      <td>0.343</td>\n",
       "      <td>0.2120</td>\n",
       "    </tr>\n",
       "    <tr>\n",
       "      <th>2</th>\n",
       "      <td>Scar Tissue</td>\n",
       "      <td>1G391cbiT3v3Cywg8T7DM1</td>\n",
       "      <td>track</td>\n",
       "      <td>0.595</td>\n",
       "      <td>0.0295</td>\n",
       "    </tr>\n",
       "    <tr>\n",
       "      <th>3</th>\n",
       "      <td>Otherside</td>\n",
       "      <td>64BbK9SFKH2jk86U3dGj2P</td>\n",
       "      <td>track</td>\n",
       "      <td>0.458</td>\n",
       "      <td>0.0574</td>\n",
       "    </tr>\n",
       "    <tr>\n",
       "      <th>4</th>\n",
       "      <td>Get on Top</td>\n",
       "      <td>0GcWf1Cc4ixN35D3O9VdcP</td>\n",
       "      <td>track</td>\n",
       "      <td>0.573</td>\n",
       "      <td>0.3420</td>\n",
       "    </tr>\n",
       "  </tbody>\n",
       "</table>\n",
       "</div>"
      ],
      "text/plain": [
       "                name                      id   type  danceability  speechiness\n",
       "0   Around the World  0aGQHMr7bc23Y9Ts84ffop  track         0.504       0.1830\n",
       "1  Parallel Universe  1Se0r96r0gnqg67kJPmESc  track         0.343       0.2120\n",
       "2        Scar Tissue  1G391cbiT3v3Cywg8T7DM1  track         0.595       0.0295\n",
       "3          Otherside  64BbK9SFKH2jk86U3dGj2P  track         0.458       0.0574\n",
       "4         Get on Top  0GcWf1Cc4ixN35D3O9VdcP  track         0.573       0.3420"
      ]
     },
     "execution_count": 45,
     "metadata": {},
     "output_type": "execute_result"
    }
   ],
   "source": [
    "california_final_df= pd.merge(california_name_df, california_two_features_df, how = 'inner', on = 'id')\n",
    "california_final_df.head()"
   ]
  },
  {
   "cell_type": "markdown",
   "id": "a217ca22",
   "metadata": {},
   "source": [
    "My next graph represents the picked album's danceability vs speechiness. As we can see, my picked album has low \"speechiness,\" with only one song having a speech level of 0.35; however, the danceability is more focused around 0.6, which is higher than the average. With one song being really danceable, that reaches 0.75."
   ]
  },
  {
   "cell_type": "code",
   "execution_count": 46,
   "id": "4e93a01d",
   "metadata": {},
   "outputs": [
    {
     "data": {
      "image/png": "[encoded data removed]",
      "text/plain": [
       "<Figure size 640x480 with 1 Axes>"
      ]
     },
     "metadata": {},
     "output_type": "display_data"
    }
   ],
   "source": [
    "fig4, ax4 =  plt.subplots()\n",
    "ax4.scatter( x = california_final_df ['danceability'], \n",
    "             y = california_final_df['speechiness'],alpha= .5, color =\"#2F9B61\" )\n",
    "\n",
    "ax4.set_xlabel('Danceability')\n",
    "ax4.set_ylabel('speechiness')\n",
    "plt.show()"
   ]
  },
  {
   "cell_type": "markdown",
   "id": "30e7898d",
   "metadata": {},
   "source": [
    "### I will repeat the same process again with new playlist "
   ]
  },
  {
   "cell_type": "markdown",
   "id": "2324ddff",
   "metadata": {},
   "source": [
    "# Hits of 2022"
   ]
  },
  {
   "cell_type": "markdown",
   "id": "807636ea",
   "metadata": {},
   "source": [
    "### I repeated the first two graph for songs and album from 2022 \n"
   ]
  },
  {
   "cell_type": "code",
   "execution_count": 47,
   "id": "d92ef707",
   "metadata": {},
   "outputs": [],
   "source": [
    "new_id= \"56r5qRUv3jSxADdmBkhcz7\""
   ]
  },
  {
   "cell_type": "code",
   "execution_count": 48,
   "id": "9f200585",
   "metadata": {},
   "outputs": [],
   "source": [
    "new_playlist_url = 'https://api.spotify.com/v1/playlists/{}'.format(new_id)"
   ]
  },
  {
   "cell_type": "code",
   "execution_count": 49,
   "id": "efa321f1",
   "metadata": {},
   "outputs": [],
   "source": [
    "new_playlist_url_response = requests.get(url = new_playlist_url, headers = session_headers)\n"
   ]
  },
  {
   "cell_type": "code",
   "execution_count": 50,
   "id": "174b20d7",
   "metadata": {},
   "outputs": [],
   "source": [
    "new_playlist_url_data=new_playlist_url_response.json()"
   ]
  },
  {
   "cell_type": "code",
   "execution_count": 51,
   "id": "0c2e643e",
   "metadata": {},
   "outputs": [
    {
     "data": {
      "text/plain": [
       "dict_keys(['collaborative', 'description', 'external_urls', 'followers', 'href', 'id', 'images', 'name', 'owner', 'primary_color', 'public', 'snapshot_id', 'tracks', 'type', 'uri'])"
      ]
     },
     "execution_count": 51,
     "metadata": {},
     "output_type": "execute_result"
    }
   ],
   "source": [
    "new_playlist_url_data.keys()"
   ]
  },
  {
   "cell_type": "code",
   "execution_count": 52,
   "id": "ad794140",
   "metadata": {},
   "outputs": [
    {
     "data": {
      "text/html": [
       "<div>\n",
       "<style scoped>\n",
       "    .dataframe tbody tr th:only-of-type {\n",
       "        vertical-align: middle;\n",
       "    }\n",
       "\n",
       "    .dataframe tbody tr th {\n",
       "        vertical-align: top;\n",
       "    }\n",
       "\n",
       "    .dataframe thead th {\n",
       "        text-align: right;\n",
       "    }\n",
       "</style>\n",
       "<table border=\"1\" class=\"dataframe\">\n",
       "  <thead>\n",
       "    <tr style=\"text-align: right;\">\n",
       "      <th></th>\n",
       "      <th>album</th>\n",
       "      <th>artists</th>\n",
       "      <th>available_markets</th>\n",
       "      <th>disc_number</th>\n",
       "      <th>duration_ms</th>\n",
       "      <th>episode</th>\n",
       "      <th>explicit</th>\n",
       "      <th>external_ids</th>\n",
       "      <th>external_urls</th>\n",
       "      <th>href</th>\n",
       "      <th>id</th>\n",
       "      <th>is_local</th>\n",
       "      <th>name</th>\n",
       "      <th>popularity</th>\n",
       "      <th>preview_url</th>\n",
       "      <th>track</th>\n",
       "      <th>track_number</th>\n",
       "      <th>type</th>\n",
       "      <th>uri</th>\n",
       "    </tr>\n",
       "  </thead>\n",
       "  <tbody>\n",
       "    <tr>\n",
       "      <th>0</th>\n",
       "      <td>{'album_type': 'single', 'artists': [{'externa...</td>\n",
       "      <td>[{'external_urls': {'spotify': 'https://open.s...</td>\n",
       "      <td>[]</td>\n",
       "      <td>1</td>\n",
       "      <td>167303</td>\n",
       "      <td>False</td>\n",
       "      <td>False</td>\n",
       "      <td>{'isrc': 'USSM12200612'}</td>\n",
       "      <td>{'spotify': 'https://open.spotify.com/track/4L...</td>\n",
       "      <td>https://api.spotify.com/v1/tracks/4LRPiXqCikLl...</td>\n",
       "      <td>4LRPiXqCikLlN15c3yImP7</td>\n",
       "      <td>False</td>\n",
       "      <td>As It Was</td>\n",
       "      <td>58</td>\n",
       "      <td>None</td>\n",
       "      <td>True</td>\n",
       "      <td>1</td>\n",
       "      <td>track</td>\n",
       "      <td>spotify:track:4LRPiXqCikLlN15c3yImP7</td>\n",
       "    </tr>\n",
       "    <tr>\n",
       "      <th>1</th>\n",
       "      <td>{'album_type': 'album', 'artists': [{'external...</td>\n",
       "      <td>[{'external_urls': {'spotify': 'https://open.s...</td>\n",
       "      <td>[AR, AU, AT, BE, BO, BR, BG, CA, CL, CO, CR, C...</td>\n",
       "      <td>1</td>\n",
       "      <td>200690</td>\n",
       "      <td>False</td>\n",
       "      <td>False</td>\n",
       "      <td>{'isrc': 'USUG12205736'}</td>\n",
       "      <td>{'spotify': 'https://open.spotify.com/track/0V...</td>\n",
       "      <td>https://api.spotify.com/v1/tracks/0V3wPSX9ygBn...</td>\n",
       "      <td>0V3wPSX9ygBnCm8psDIegu</td>\n",
       "      <td>False</td>\n",
       "      <td>Anti-Hero</td>\n",
       "      <td>92</td>\n",
       "      <td>None</td>\n",
       "      <td>True</td>\n",
       "      <td>3</td>\n",
       "      <td>track</td>\n",
       "      <td>spotify:track:0V3wPSX9ygBnCm8psDIegu</td>\n",
       "    </tr>\n",
       "  </tbody>\n",
       "</table>\n",
       "</div>"
      ],
      "text/plain": [
       "                                               album  \\\n",
       "0  {'album_type': 'single', 'artists': [{'externa...   \n",
       "1  {'album_type': 'album', 'artists': [{'external...   \n",
       "\n",
       "                                             artists  \\\n",
       "0  [{'external_urls': {'spotify': 'https://open.s...   \n",
       "1  [{'external_urls': {'spotify': 'https://open.s...   \n",
       "\n",
       "                                   available_markets  disc_number  \\\n",
       "0                                                 []            1   \n",
       "1  [AR, AU, AT, BE, BO, BR, BG, CA, CL, CO, CR, C...            1   \n",
       "\n",
       "   duration_ms  episode  explicit              external_ids  \\\n",
       "0       167303    False     False  {'isrc': 'USSM12200612'}   \n",
       "1       200690    False     False  {'isrc': 'USUG12205736'}   \n",
       "\n",
       "                                       external_urls  \\\n",
       "0  {'spotify': 'https://open.spotify.com/track/4L...   \n",
       "1  {'spotify': 'https://open.spotify.com/track/0V...   \n",
       "\n",
       "                                                href                      id  \\\n",
       "0  https://api.spotify.com/v1/tracks/4LRPiXqCikLl...  4LRPiXqCikLlN15c3yImP7   \n",
       "1  https://api.spotify.com/v1/tracks/0V3wPSX9ygBn...  0V3wPSX9ygBnCm8psDIegu   \n",
       "\n",
       "   is_local       name  popularity preview_url  track  track_number   type  \\\n",
       "0     False  As It Was          58        None   True             1  track   \n",
       "1     False  Anti-Hero          92        None   True             3  track   \n",
       "\n",
       "                                    uri  \n",
       "0  spotify:track:4LRPiXqCikLlN15c3yImP7  \n",
       "1  spotify:track:0V3wPSX9ygBnCm8psDIegu  "
      ]
     },
     "execution_count": 52,
     "metadata": {},
     "output_type": "execute_result"
    }
   ],
   "source": [
    "new_playlist_df = pd.DataFrame([x['track'] for x in new_playlist_url_data['tracks']['items']])\n",
    "new_playlist_df.head(2)"
   ]
  },
  {
   "cell_type": "code",
   "execution_count": 53,
   "id": "f80f1556",
   "metadata": {},
   "outputs": [
    {
     "data": {
      "text/html": [
       "<div>\n",
       "<style scoped>\n",
       "    .dataframe tbody tr th:only-of-type {\n",
       "        vertical-align: middle;\n",
       "    }\n",
       "\n",
       "    .dataframe tbody tr th {\n",
       "        vertical-align: top;\n",
       "    }\n",
       "\n",
       "    .dataframe thead th {\n",
       "        text-align: right;\n",
       "    }\n",
       "</style>\n",
       "<table border=\"1\" class=\"dataframe\">\n",
       "  <thead>\n",
       "    <tr style=\"text-align: right;\">\n",
       "      <th></th>\n",
       "      <th>album_type</th>\n",
       "      <th>artists</th>\n",
       "      <th>available_markets</th>\n",
       "      <th>external_urls</th>\n",
       "      <th>href</th>\n",
       "      <th>id</th>\n",
       "      <th>images</th>\n",
       "      <th>name</th>\n",
       "      <th>release_date</th>\n",
       "      <th>release_date_precision</th>\n",
       "      <th>total_tracks</th>\n",
       "      <th>type</th>\n",
       "      <th>uri</th>\n",
       "    </tr>\n",
       "  </thead>\n",
       "  <tbody>\n",
       "    <tr>\n",
       "      <th>0</th>\n",
       "      <td>single</td>\n",
       "      <td>[{'external_urls': {'spotify': 'https://open.s...</td>\n",
       "      <td>[]</td>\n",
       "      <td>{'spotify': 'https://open.spotify.com/album/2p...</td>\n",
       "      <td>https://api.spotify.com/v1/albums/2pqdSWeJVsXA...</td>\n",
       "      <td>2pqdSWeJVsXAhHFuVLzuA8</td>\n",
       "      <td>[{'height': 640, 'url': 'https://i.scdn.co/ima...</td>\n",
       "      <td>As It Was</td>\n",
       "      <td>2022-03-31</td>\n",
       "      <td>day</td>\n",
       "      <td>1</td>\n",
       "      <td>album</td>\n",
       "      <td>spotify:album:2pqdSWeJVsXAhHFuVLzuA8</td>\n",
       "    </tr>\n",
       "    <tr>\n",
       "      <th>1</th>\n",
       "      <td>album</td>\n",
       "      <td>[{'external_urls': {'spotify': 'https://open.s...</td>\n",
       "      <td>[AR, AU, AT, BE, BO, BR, BG, CA, CL, CO, CR, C...</td>\n",
       "      <td>{'spotify': 'https://open.spotify.com/album/15...</td>\n",
       "      <td>https://api.spotify.com/v1/albums/151w1FgRZfnK...</td>\n",
       "      <td>151w1FgRZfnKZA9FEcg9Z3</td>\n",
       "      <td>[{'height': 640, 'url': 'https://i.scdn.co/ima...</td>\n",
       "      <td>Midnights</td>\n",
       "      <td>2022-10-21</td>\n",
       "      <td>day</td>\n",
       "      <td>13</td>\n",
       "      <td>album</td>\n",
       "      <td>spotify:album:151w1FgRZfnKZA9FEcg9Z3</td>\n",
       "    </tr>\n",
       "    <tr>\n",
       "      <th>2</th>\n",
       "      <td>album</td>\n",
       "      <td>[{'external_urls': {'spotify': 'https://open.s...</td>\n",
       "      <td>[]</td>\n",
       "      <td>{'spotify': 'https://open.spotify.com/album/0K...</td>\n",
       "      <td>https://api.spotify.com/v1/albums/0KTj6k94XZh0...</td>\n",
       "      <td>0KTj6k94XZh0c6IEMfxeWV</td>\n",
       "      <td>[{'height': 640, 'url': 'https://i.scdn.co/ima...</td>\n",
       "      <td>Dreamland (+ Bonus Levels)</td>\n",
       "      <td>2020-08-06</td>\n",
       "      <td>day</td>\n",
       "      <td>18</td>\n",
       "      <td>album</td>\n",
       "      <td>spotify:album:0KTj6k94XZh0c6IEMfxeWV</td>\n",
       "    </tr>\n",
       "    <tr>\n",
       "      <th>3</th>\n",
       "      <td>single</td>\n",
       "      <td>[{'external_urls': {'spotify': 'https://open.s...</td>\n",
       "      <td>[AR, AU, AT, BE, BO, BR, BG, CA, CL, CO, CR, C...</td>\n",
       "      <td>{'spotify': 'https://open.spotify.com/album/0g...</td>\n",
       "      <td>https://api.spotify.com/v1/albums/0gX9tkL5njRa...</td>\n",
       "      <td>0gX9tkL5njRax8ymWcXARi</td>\n",
       "      <td>[{'height': 640, 'url': 'https://i.scdn.co/ima...</td>\n",
       "      <td>Unholy (feat. Kim Petras)</td>\n",
       "      <td>2022-09-22</td>\n",
       "      <td>day</td>\n",
       "      <td>1</td>\n",
       "      <td>album</td>\n",
       "      <td>spotify:album:0gX9tkL5njRax8ymWcXARi</td>\n",
       "    </tr>\n",
       "    <tr>\n",
       "      <th>4</th>\n",
       "      <td>album</td>\n",
       "      <td>[{'external_urls': {'spotify': 'https://open.s...</td>\n",
       "      <td>[AR, AU, AT, BE, BO, BR, BG, CA, CL, CO, CR, C...</td>\n",
       "      <td>{'spotify': 'https://open.spotify.com/album/3R...</td>\n",
       "      <td>https://api.spotify.com/v1/albums/3RQQmkQEvNCY...</td>\n",
       "      <td>3RQQmkQEvNCY4prGKE6oc5</td>\n",
       "      <td>[{'height': 640, 'url': 'https://i.scdn.co/ima...</td>\n",
       "      <td>Un Verano Sin Ti</td>\n",
       "      <td>2022-05-06</td>\n",
       "      <td>day</td>\n",
       "      <td>23</td>\n",
       "      <td>album</td>\n",
       "      <td>spotify:album:3RQQmkQEvNCY4prGKE6oc5</td>\n",
       "    </tr>\n",
       "  </tbody>\n",
       "</table>\n",
       "</div>"
      ],
      "text/plain": [
       "  album_type                                            artists  \\\n",
       "0     single  [{'external_urls': {'spotify': 'https://open.s...   \n",
       "1      album  [{'external_urls': {'spotify': 'https://open.s...   \n",
       "2      album  [{'external_urls': {'spotify': 'https://open.s...   \n",
       "3     single  [{'external_urls': {'spotify': 'https://open.s...   \n",
       "4      album  [{'external_urls': {'spotify': 'https://open.s...   \n",
       "\n",
       "                                   available_markets  \\\n",
       "0                                                 []   \n",
       "1  [AR, AU, AT, BE, BO, BR, BG, CA, CL, CO, CR, C...   \n",
       "2                                                 []   \n",
       "3  [AR, AU, AT, BE, BO, BR, BG, CA, CL, CO, CR, C...   \n",
       "4  [AR, AU, AT, BE, BO, BR, BG, CA, CL, CO, CR, C...   \n",
       "\n",
       "                                       external_urls  \\\n",
       "0  {'spotify': 'https://open.spotify.com/album/2p...   \n",
       "1  {'spotify': 'https://open.spotify.com/album/15...   \n",
       "2  {'spotify': 'https://open.spotify.com/album/0K...   \n",
       "3  {'spotify': 'https://open.spotify.com/album/0g...   \n",
       "4  {'spotify': 'https://open.spotify.com/album/3R...   \n",
       "\n",
       "                                                href                      id  \\\n",
       "0  https://api.spotify.com/v1/albums/2pqdSWeJVsXA...  2pqdSWeJVsXAhHFuVLzuA8   \n",
       "1  https://api.spotify.com/v1/albums/151w1FgRZfnK...  151w1FgRZfnKZA9FEcg9Z3   \n",
       "2  https://api.spotify.com/v1/albums/0KTj6k94XZh0...  0KTj6k94XZh0c6IEMfxeWV   \n",
       "3  https://api.spotify.com/v1/albums/0gX9tkL5njRa...  0gX9tkL5njRax8ymWcXARi   \n",
       "4  https://api.spotify.com/v1/albums/3RQQmkQEvNCY...  3RQQmkQEvNCY4prGKE6oc5   \n",
       "\n",
       "                                              images  \\\n",
       "0  [{'height': 640, 'url': 'https://i.scdn.co/ima...   \n",
       "1  [{'height': 640, 'url': 'https://i.scdn.co/ima...   \n",
       "2  [{'height': 640, 'url': 'https://i.scdn.co/ima...   \n",
       "3  [{'height': 640, 'url': 'https://i.scdn.co/ima...   \n",
       "4  [{'height': 640, 'url': 'https://i.scdn.co/ima...   \n",
       "\n",
       "                         name release_date release_date_precision  \\\n",
       "0                   As It Was   2022-03-31                    day   \n",
       "1                   Midnights   2022-10-21                    day   \n",
       "2  Dreamland (+ Bonus Levels)   2020-08-06                    day   \n",
       "3   Unholy (feat. Kim Petras)   2022-09-22                    day   \n",
       "4            Un Verano Sin Ti   2022-05-06                    day   \n",
       "\n",
       "   total_tracks   type                                   uri  \n",
       "0             1  album  spotify:album:2pqdSWeJVsXAhHFuVLzuA8  \n",
       "1            13  album  spotify:album:151w1FgRZfnKZA9FEcg9Z3  \n",
       "2            18  album  spotify:album:0KTj6k94XZh0c6IEMfxeWV  \n",
       "3             1  album  spotify:album:0gX9tkL5njRax8ymWcXARi  \n",
       "4            23  album  spotify:album:3RQQmkQEvNCY4prGKE6oc5  "
      ]
     },
     "execution_count": 53,
     "metadata": {},
     "output_type": "execute_result"
    }
   ],
   "source": [
    "new_release_dates = pd.DataFrame([x['track']['album']for x in new_playlist_url_data['tracks']['items']])\n",
    "new_release_dates.head()"
   ]
  },
  {
   "cell_type": "code",
   "execution_count": 54,
   "id": "2922cba7",
   "metadata": {},
   "outputs": [
    {
     "data": {
      "text/html": [
       "<div>\n",
       "<style scoped>\n",
       "    .dataframe tbody tr th:only-of-type {\n",
       "        vertical-align: middle;\n",
       "    }\n",
       "\n",
       "    .dataframe tbody tr th {\n",
       "        vertical-align: top;\n",
       "    }\n",
       "\n",
       "    .dataframe thead th {\n",
       "        text-align: right;\n",
       "    }\n",
       "</style>\n",
       "<table border=\"1\" class=\"dataframe\">\n",
       "  <thead>\n",
       "    <tr style=\"text-align: right;\">\n",
       "      <th></th>\n",
       "      <th>name</th>\n",
       "      <th>release_date</th>\n",
       "      <th>id</th>\n",
       "      <th>type</th>\n",
       "    </tr>\n",
       "  </thead>\n",
       "  <tbody>\n",
       "    <tr>\n",
       "      <th>1</th>\n",
       "      <td>Midnights</td>\n",
       "      <td>2022-10-21</td>\n",
       "      <td>151w1FgRZfnKZA9FEcg9Z3</td>\n",
       "      <td>album</td>\n",
       "    </tr>\n",
       "    <tr>\n",
       "      <th>3</th>\n",
       "      <td>Unholy (feat. Kim Petras)</td>\n",
       "      <td>2022-09-22</td>\n",
       "      <td>0gX9tkL5njRax8ymWcXARi</td>\n",
       "      <td>album</td>\n",
       "    </tr>\n",
       "    <tr>\n",
       "      <th>4</th>\n",
       "      <td>Un Verano Sin Ti</td>\n",
       "      <td>2022-05-06</td>\n",
       "      <td>3RQQmkQEvNCY4prGKE6oc5</td>\n",
       "      <td>album</td>\n",
       "    </tr>\n",
       "    <tr>\n",
       "      <th>0</th>\n",
       "      <td>As It Was</td>\n",
       "      <td>2022-03-31</td>\n",
       "      <td>2pqdSWeJVsXAhHFuVLzuA8</td>\n",
       "      <td>album</td>\n",
       "    </tr>\n",
       "    <tr>\n",
       "      <th>2</th>\n",
       "      <td>Dreamland (+ Bonus Levels)</td>\n",
       "      <td>2020-08-06</td>\n",
       "      <td>0KTj6k94XZh0c6IEMfxeWV</td>\n",
       "      <td>album</td>\n",
       "    </tr>\n",
       "  </tbody>\n",
       "</table>\n",
       "</div>"
      ],
      "text/plain": [
       "                         name release_date                      id   type\n",
       "1                   Midnights   2022-10-21  151w1FgRZfnKZA9FEcg9Z3  album\n",
       "3   Unholy (feat. Kim Petras)   2022-09-22  0gX9tkL5njRax8ymWcXARi  album\n",
       "4            Un Verano Sin Ti   2022-05-06  3RQQmkQEvNCY4prGKE6oc5  album\n",
       "0                   As It Was   2022-03-31  2pqdSWeJVsXAhHFuVLzuA8  album\n",
       "2  Dreamland (+ Bonus Levels)   2020-08-06  0KTj6k94XZh0c6IEMfxeWV  album"
      ]
     },
     "execution_count": 54,
     "metadata": {},
     "output_type": "execute_result"
    }
   ],
   "source": [
    "new_albums_dates= pd.DataFrame (new_release_dates[['name','release_date','id','type']])\n",
    "new_albums_dates.head(5).sort_values('release_date',ascending = False)"
   ]
  },
  {
   "cell_type": "code",
   "execution_count": 55,
   "id": "bc292b20",
   "metadata": {},
   "outputs": [],
   "source": [
    "get_new_albums_url = 'https://api.spotify.com/v1/albums?ids={}'\\\n",
    ".format(','.join(list(new_albums_dates['id'] [0:20])))"
   ]
  },
  {
   "cell_type": "code",
   "execution_count": 56,
   "id": "961bd32d",
   "metadata": {},
   "outputs": [
    {
     "data": {
      "text/plain": [
       "'https://api.spotify.com/v1/albums?ids=2pqdSWeJVsXAhHFuVLzuA8,151w1FgRZfnKZA9FEcg9Z3,0KTj6k94XZh0c6IEMfxeWV,0gX9tkL5njRax8ymWcXARi,3RQQmkQEvNCY4prGKE6oc5,6FJxoadUE4JNVwWHghBwnb,3OYnManu1Nlxnw9OMng7BH,6ZZvx0aefZV3LKa053fn71,6tUQPKlpR4x1gjrXTtOImI,3Ks0eeH0GWpY4AU20D5HPD,4PNqWiJAfjj32hVvlchV5u,4uVXrwE4aSV2L2aqAHSOXa,5dGWwsZ9iB2Xc3UKR0gif2,4JApkbiesQxv5drdEZRlZC,5r36AJ6VOJtp00oxSkBZ5h,6s84u2TUpR3wdUv4NgKA2j,3RQQmkQEvNCY4prGKE6oc5,0h5MuD9O9o1VoN07mQmwMQ,622NFw5Yk0OReMJ2XWcXUh,5omNd3Mkij9C3ZeW19rRmv'"
      ]
     },
     "execution_count": 56,
     "metadata": {},
     "output_type": "execute_result"
    }
   ],
   "source": [
    "get_new_albums_url"
   ]
  },
  {
   "cell_type": "code",
   "execution_count": 57,
   "id": "3cd141fd",
   "metadata": {},
   "outputs": [
    {
     "data": {
      "text/plain": [
       "200"
      ]
     },
     "execution_count": 57,
     "metadata": {},
     "output_type": "execute_result"
    }
   ],
   "source": [
    "new_album_features =requests.get(url = get_new_albums_url , headers = session_headers)\n",
    "new_album_features.status_code"
   ]
  },
  {
   "cell_type": "code",
   "execution_count": 58,
   "id": "6975b8b1",
   "metadata": {},
   "outputs": [],
   "source": [
    "new_album_response = new_album_features.json()"
   ]
  },
  {
   "cell_type": "code",
   "execution_count": 59,
   "id": "e4010a4c",
   "metadata": {},
   "outputs": [
    {
     "data": {
      "text/plain": [
       "dict_keys(['albums'])"
      ]
     },
     "execution_count": 59,
     "metadata": {},
     "output_type": "execute_result"
    }
   ],
   "source": [
    "new_album_response.keys()"
   ]
  },
  {
   "cell_type": "code",
   "execution_count": 60,
   "id": "0c545ecb",
   "metadata": {},
   "outputs": [],
   "source": [
    "new_album_response_df = pd.DataFrame(new_album_response['albums'])"
   ]
  },
  {
   "cell_type": "code",
   "execution_count": 61,
   "id": "78a0cdde",
   "metadata": {},
   "outputs": [
    {
     "data": {
      "text/html": [
       "<div>\n",
       "<style scoped>\n",
       "    .dataframe tbody tr th:only-of-type {\n",
       "        vertical-align: middle;\n",
       "    }\n",
       "\n",
       "    .dataframe tbody tr th {\n",
       "        vertical-align: top;\n",
       "    }\n",
       "\n",
       "    .dataframe thead th {\n",
       "        text-align: right;\n",
       "    }\n",
       "</style>\n",
       "<table border=\"1\" class=\"dataframe\">\n",
       "  <thead>\n",
       "    <tr style=\"text-align: right;\">\n",
       "      <th></th>\n",
       "      <th>name</th>\n",
       "      <th>popularity</th>\n",
       "      <th>release_date</th>\n",
       "      <th>id</th>\n",
       "      <th>type</th>\n",
       "    </tr>\n",
       "  </thead>\n",
       "  <tbody>\n",
       "    <tr>\n",
       "      <th>4</th>\n",
       "      <td>Un Verano Sin Ti</td>\n",
       "      <td>94</td>\n",
       "      <td>2022-05-06</td>\n",
       "      <td>3RQQmkQEvNCY4prGKE6oc5</td>\n",
       "      <td>album</td>\n",
       "    </tr>\n",
       "    <tr>\n",
       "      <th>1</th>\n",
       "      <td>Midnights</td>\n",
       "      <td>93</td>\n",
       "      <td>2022-10-21</td>\n",
       "      <td>151w1FgRZfnKZA9FEcg9Z3</td>\n",
       "      <td>album</td>\n",
       "    </tr>\n",
       "    <tr>\n",
       "      <th>5</th>\n",
       "      <td>RENAISSANCE</td>\n",
       "      <td>86</td>\n",
       "      <td>2022-07-29</td>\n",
       "      <td>6FJxoadUE4JNVwWHghBwnb</td>\n",
       "      <td>album</td>\n",
       "    </tr>\n",
       "    <tr>\n",
       "      <th>3</th>\n",
       "      <td>Unholy (feat. Kim Petras)</td>\n",
       "      <td>75</td>\n",
       "      <td>2022-09-22</td>\n",
       "      <td>0gX9tkL5njRax8ymWcXARi</td>\n",
       "      <td>album</td>\n",
       "    </tr>\n",
       "    <tr>\n",
       "      <th>0</th>\n",
       "      <td>As It Was</td>\n",
       "      <td>49</td>\n",
       "      <td>2022-03-31</td>\n",
       "      <td>2pqdSWeJVsXAhHFuVLzuA8</td>\n",
       "      <td>album</td>\n",
       "    </tr>\n",
       "    <tr>\n",
       "      <th>2</th>\n",
       "      <td>Dreamland (+ Bonus Levels)</td>\n",
       "      <td>18</td>\n",
       "      <td>2020-08-06</td>\n",
       "      <td>0KTj6k94XZh0c6IEMfxeWV</td>\n",
       "      <td>album</td>\n",
       "    </tr>\n",
       "  </tbody>\n",
       "</table>\n",
       "</div>"
      ],
      "text/plain": [
       "                         name  popularity release_date  \\\n",
       "4            Un Verano Sin Ti          94   2022-05-06   \n",
       "1                   Midnights          93   2022-10-21   \n",
       "5                 RENAISSANCE          86   2022-07-29   \n",
       "3   Unholy (feat. Kim Petras)          75   2022-09-22   \n",
       "0                   As It Was          49   2022-03-31   \n",
       "2  Dreamland (+ Bonus Levels)          18   2020-08-06   \n",
       "\n",
       "                       id   type  \n",
       "4  3RQQmkQEvNCY4prGKE6oc5  album  \n",
       "1  151w1FgRZfnKZA9FEcg9Z3  album  \n",
       "5  6FJxoadUE4JNVwWHghBwnb  album  \n",
       "3  0gX9tkL5njRax8ymWcXARi  album  \n",
       "0  2pqdSWeJVsXAhHFuVLzuA8  album  \n",
       "2  0KTj6k94XZh0c6IEMfxeWV  album  "
      ]
     },
     "execution_count": 61,
     "metadata": {},
     "output_type": "execute_result"
    }
   ],
   "source": [
    "new_albums_popularity_df= pd.DataFrame (new_album_response_df[['name','popularity','release_date','id','type']])\n",
    "new_albums_popularity_df.head(6).sort_values('popularity',ascending = False)"
   ]
  },
  {
   "cell_type": "code",
   "execution_count": 62,
   "id": "03e6f4fa",
   "metadata": {},
   "outputs": [],
   "source": [
    "new_albums_popularity_df['timestamp'] = pd.to_datetime(new_albums_popularity_df['release_date'])"
   ]
  },
  {
   "cell_type": "markdown",
   "id": "cf220349",
   "metadata": {},
   "source": [
    "As we can see, the albums from 2020 to 2022 are top-rated, with only two albums with a popularity >20. The most famous albums were released from mid-2022 to early 2023. As we can see, there is a dramatic difference between the popularity of \"albums from the early 2000s and 2020s\". WHY? "
   ]
  },
  {
   "cell_type": "code",
   "execution_count": 63,
   "id": "7882adde",
   "metadata": {},
   "outputs": [
    {
     "data": {
      "image/png": "[encoded data removed]",
      "text/plain": [
       "<Figure size 640x480 with 1 Axes>"
      ]
     },
     "metadata": {},
     "output_type": "display_data"
    }
   ],
   "source": [
    "fig2, ax2 = plt.subplots()\n",
    "ax2.scatter(new_albums_popularity_df['timestamp'], new_albums_popularity_df['popularity'], label='popularity',alpha= .5, color='#E3001E',)\n",
    "ax2.set_xlim(pd.Timestamp('2020-01-01'), pd.Timestamp('2023-12-31'))\n",
    "ax2.set_title('Timestamp vs Popularity')\n",
    "ax2.set_xlabel('Timestamp')\n",
    "ax2.set_ylabel('Popularity')\n",
    "\n",
    "plt.show()"
   ]
  },
  {
   "cell_type": "markdown",
   "id": "d513bd0d",
   "metadata": {},
   "source": [
    "It was hard to pick one album because all the albums were so popular and danced on one. The most popular song that was released mid 2022 was \"Midnights\" by Taylor Swift "
   ]
  },
  {
   "cell_type": "code",
   "execution_count": 64,
   "id": "c343e047",
   "metadata": {},
   "outputs": [],
   "source": [
    "new_album_id = \"151w1FgRZfnKZA9FEcg9Z3\""
   ]
  },
  {
   "cell_type": "code",
   "execution_count": 65,
   "id": "dae6e8da",
   "metadata": {},
   "outputs": [],
   "source": [
    "mid_album_url = 'https://api.spotify.com/v1/albums/{}/tracks'.format(new_album_id)\n"
   ]
  },
  {
   "cell_type": "code",
   "execution_count": 66,
   "id": "e2644932",
   "metadata": {},
   "outputs": [
    {
     "data": {
      "text/plain": [
       "200"
      ]
     },
     "execution_count": 66,
     "metadata": {},
     "output_type": "execute_result"
    }
   ],
   "source": [
    "mid_album_response = requests.get(url = mid_album_url, headers = session_headers)\n",
    "mid_album_response.status_code"
   ]
  },
  {
   "cell_type": "code",
   "execution_count": 67,
   "id": "06e0d92b",
   "metadata": {},
   "outputs": [],
   "source": [
    "mid_of_the_state = mid_album_response.json()"
   ]
  },
  {
   "cell_type": "markdown",
   "id": "f630b4ec",
   "metadata": {},
   "source": [
    "I repeated the same steps to visualize and organize the \"Midnights\" albums. Again, I pulled the details about tracks that are relevant to my analysis.  \n",
    "\"Talk about the tracks \""
   ]
  },
  {
   "cell_type": "code",
   "execution_count": 68,
   "id": "af48403c",
   "metadata": {},
   "outputs": [
    {
     "data": {
      "text/html": [
       "<div>\n",
       "<style scoped>\n",
       "    .dataframe tbody tr th:only-of-type {\n",
       "        vertical-align: middle;\n",
       "    }\n",
       "\n",
       "    .dataframe tbody tr th {\n",
       "        vertical-align: top;\n",
       "    }\n",
       "\n",
       "    .dataframe thead th {\n",
       "        text-align: right;\n",
       "    }\n",
       "</style>\n",
       "<table border=\"1\" class=\"dataframe\">\n",
       "  <thead>\n",
       "    <tr style=\"text-align: right;\">\n",
       "      <th></th>\n",
       "      <th>name</th>\n",
       "      <th>id</th>\n",
       "      <th>type</th>\n",
       "    </tr>\n",
       "  </thead>\n",
       "  <tbody>\n",
       "    <tr>\n",
       "      <th>0</th>\n",
       "      <td>Lavender Haze</td>\n",
       "      <td>5jQI2r1RdgtuT8S3iG8zFC</td>\n",
       "      <td>track</td>\n",
       "    </tr>\n",
       "    <tr>\n",
       "      <th>1</th>\n",
       "      <td>Maroon</td>\n",
       "      <td>3eX0NZfLtGzoLUxPNvRfqm</td>\n",
       "      <td>track</td>\n",
       "    </tr>\n",
       "    <tr>\n",
       "      <th>2</th>\n",
       "      <td>Anti-Hero</td>\n",
       "      <td>0V3wPSX9ygBnCm8psDIegu</td>\n",
       "      <td>track</td>\n",
       "    </tr>\n",
       "    <tr>\n",
       "      <th>3</th>\n",
       "      <td>Snow On The Beach (feat. Lana Del Rey)</td>\n",
       "      <td>1wtOxkiel43cVs0Yux5Q4h</td>\n",
       "      <td>track</td>\n",
       "    </tr>\n",
       "    <tr>\n",
       "      <th>4</th>\n",
       "      <td>You're On Your Own, Kid</td>\n",
       "      <td>4D7BCuvgdJlYvlX5WlN54t</td>\n",
       "      <td>track</td>\n",
       "    </tr>\n",
       "  </tbody>\n",
       "</table>\n",
       "</div>"
      ],
      "text/plain": [
       "                                     name                      id   type\n",
       "0                           Lavender Haze  5jQI2r1RdgtuT8S3iG8zFC  track\n",
       "1                                  Maroon  3eX0NZfLtGzoLUxPNvRfqm  track\n",
       "2                               Anti-Hero  0V3wPSX9ygBnCm8psDIegu  track\n",
       "3  Snow On The Beach (feat. Lana Del Rey)  1wtOxkiel43cVs0Yux5Q4h  track\n",
       "4                 You're On Your Own, Kid  4D7BCuvgdJlYvlX5WlN54t  track"
      ]
     },
     "execution_count": 68,
     "metadata": {},
     "output_type": "execute_result"
    }
   ],
   "source": [
    "mid_df = pd.DataFrame(mid_of_the_state['items'])\n",
    "mid_name_df= pd.DataFrame(mid_df [['name','id','type', ]])\n",
    "mid_name_df.head()"
   ]
  },
  {
   "cell_type": "markdown",
   "id": "8ac048f9",
   "metadata": {},
   "source": [
    "My next step is to combine the track's IDs and get the details about their structure. I used __audio_features__ endpoint to get information, and I joined the ids. "
   ]
  },
  {
   "cell_type": "code",
   "execution_count": 69,
   "id": "15c8add8",
   "metadata": {},
   "outputs": [],
   "source": [
    "mid_audio_features = 'https://api.spotify.com/v1/audio-features?ids={}'\\\n",
    ".format(','.join(list(mid_df['id'])))"
   ]
  },
  {
   "cell_type": "code",
   "execution_count": 70,
   "id": "b0b0c0a4",
   "metadata": {},
   "outputs": [
    {
     "data": {
      "text/plain": [
       "200"
      ]
     },
     "execution_count": 70,
     "metadata": {},
     "output_type": "execute_result"
    }
   ],
   "source": [
    "mid_features_response = requests.get(url = mid_audio_features , headers = session_headers)\n",
    "mid_features_response.status_code"
   ]
  },
  {
   "cell_type": "code",
   "execution_count": 71,
   "id": "fb49fd58",
   "metadata": {},
   "outputs": [],
   "source": [
    "mid_features = mid_features_response.json()"
   ]
  },
  {
   "cell_type": "code",
   "execution_count": 72,
   "id": "b2b80120",
   "metadata": {},
   "outputs": [
    {
     "data": {
      "text/html": [
       "<div>\n",
       "<style scoped>\n",
       "    .dataframe tbody tr th:only-of-type {\n",
       "        vertical-align: middle;\n",
       "    }\n",
       "\n",
       "    .dataframe tbody tr th {\n",
       "        vertical-align: top;\n",
       "    }\n",
       "\n",
       "    .dataframe thead th {\n",
       "        text-align: right;\n",
       "    }\n",
       "</style>\n",
       "<table border=\"1\" class=\"dataframe\">\n",
       "  <thead>\n",
       "    <tr style=\"text-align: right;\">\n",
       "      <th></th>\n",
       "      <th>danceability</th>\n",
       "      <th>speechiness</th>\n",
       "      <th>id</th>\n",
       "    </tr>\n",
       "  </thead>\n",
       "  <tbody>\n",
       "    <tr>\n",
       "      <th>0</th>\n",
       "      <td>0.733</td>\n",
       "      <td>0.0800</td>\n",
       "      <td>5jQI2r1RdgtuT8S3iG8zFC</td>\n",
       "    </tr>\n",
       "    <tr>\n",
       "      <th>1</th>\n",
       "      <td>0.637</td>\n",
       "      <td>0.0564</td>\n",
       "      <td>3eX0NZfLtGzoLUxPNvRfqm</td>\n",
       "    </tr>\n",
       "    <tr>\n",
       "      <th>2</th>\n",
       "      <td>0.637</td>\n",
       "      <td>0.0519</td>\n",
       "      <td>0V3wPSX9ygBnCm8psDIegu</td>\n",
       "    </tr>\n",
       "    <tr>\n",
       "      <th>3</th>\n",
       "      <td>0.663</td>\n",
       "      <td>0.0375</td>\n",
       "      <td>1wtOxkiel43cVs0Yux5Q4h</td>\n",
       "    </tr>\n",
       "    <tr>\n",
       "      <th>4</th>\n",
       "      <td>0.696</td>\n",
       "      <td>0.0656</td>\n",
       "      <td>4D7BCuvgdJlYvlX5WlN54t</td>\n",
       "    </tr>\n",
       "  </tbody>\n",
       "</table>\n",
       "</div>"
      ],
      "text/plain": [
       "   danceability  speechiness                      id\n",
       "0         0.733       0.0800  5jQI2r1RdgtuT8S3iG8zFC\n",
       "1         0.637       0.0564  3eX0NZfLtGzoLUxPNvRfqm\n",
       "2         0.637       0.0519  0V3wPSX9ygBnCm8psDIegu\n",
       "3         0.663       0.0375  1wtOxkiel43cVs0Yux5Q4h\n",
       "4         0.696       0.0656  4D7BCuvgdJlYvlX5WlN54t"
      ]
     },
     "execution_count": 72,
     "metadata": {},
     "output_type": "execute_result"
    }
   ],
   "source": [
    "mid_features_df = pd.DataFrame(mid_features['audio_features'])\n",
    "mid_two_features_df= pd.DataFrame(mid_features_df[['danceability','speechiness','id']])\n",
    "mid_two_features_df.head()"
   ]
  },
  {
   "cell_type": "markdown",
   "id": "7fc0c3cd",
   "metadata": {},
   "source": [
    "From my final data frame for \"Midnights,\" we can get a vague idea there are some danceable and some not-so-danceable songs and many songs with low \"speechiness.\" Later, I will use visualization to understand the relationship better. "
   ]
  },
  {
   "cell_type": "code",
   "execution_count": 73,
   "id": "a4989850",
   "metadata": {},
   "outputs": [
    {
     "data": {
      "text/html": [
       "<div>\n",
       "<style scoped>\n",
       "    .dataframe tbody tr th:only-of-type {\n",
       "        vertical-align: middle;\n",
       "    }\n",
       "\n",
       "    .dataframe tbody tr th {\n",
       "        vertical-align: top;\n",
       "    }\n",
       "\n",
       "    .dataframe thead th {\n",
       "        text-align: right;\n",
       "    }\n",
       "</style>\n",
       "<table border=\"1\" class=\"dataframe\">\n",
       "  <thead>\n",
       "    <tr style=\"text-align: right;\">\n",
       "      <th></th>\n",
       "      <th>name</th>\n",
       "      <th>id</th>\n",
       "      <th>type</th>\n",
       "      <th>danceability</th>\n",
       "      <th>speechiness</th>\n",
       "    </tr>\n",
       "  </thead>\n",
       "  <tbody>\n",
       "    <tr>\n",
       "      <th>0</th>\n",
       "      <td>Lavender Haze</td>\n",
       "      <td>5jQI2r1RdgtuT8S3iG8zFC</td>\n",
       "      <td>track</td>\n",
       "      <td>0.733</td>\n",
       "      <td>0.0800</td>\n",
       "    </tr>\n",
       "    <tr>\n",
       "      <th>1</th>\n",
       "      <td>Maroon</td>\n",
       "      <td>3eX0NZfLtGzoLUxPNvRfqm</td>\n",
       "      <td>track</td>\n",
       "      <td>0.637</td>\n",
       "      <td>0.0564</td>\n",
       "    </tr>\n",
       "    <tr>\n",
       "      <th>2</th>\n",
       "      <td>Anti-Hero</td>\n",
       "      <td>0V3wPSX9ygBnCm8psDIegu</td>\n",
       "      <td>track</td>\n",
       "      <td>0.637</td>\n",
       "      <td>0.0519</td>\n",
       "    </tr>\n",
       "    <tr>\n",
       "      <th>3</th>\n",
       "      <td>Snow On The Beach (feat. Lana Del Rey)</td>\n",
       "      <td>1wtOxkiel43cVs0Yux5Q4h</td>\n",
       "      <td>track</td>\n",
       "      <td>0.663</td>\n",
       "      <td>0.0375</td>\n",
       "    </tr>\n",
       "    <tr>\n",
       "      <th>4</th>\n",
       "      <td>You're On Your Own, Kid</td>\n",
       "      <td>4D7BCuvgdJlYvlX5WlN54t</td>\n",
       "      <td>track</td>\n",
       "      <td>0.696</td>\n",
       "      <td>0.0656</td>\n",
       "    </tr>\n",
       "    <tr>\n",
       "      <th>5</th>\n",
       "      <td>Midnight Rain</td>\n",
       "      <td>3rWDp9tBPQR9z6U5YyRSK4</td>\n",
       "      <td>track</td>\n",
       "      <td>0.643</td>\n",
       "      <td>0.0767</td>\n",
       "    </tr>\n",
       "    <tr>\n",
       "      <th>6</th>\n",
       "      <td>Question...?</td>\n",
       "      <td>0heeNYlwOGuUSe7TgUD27B</td>\n",
       "      <td>track</td>\n",
       "      <td>0.751</td>\n",
       "      <td>0.1670</td>\n",
       "    </tr>\n",
       "    <tr>\n",
       "      <th>7</th>\n",
       "      <td>Vigilante Shit</td>\n",
       "      <td>1xwAWUI6Dj0WGC3KiUPN0O</td>\n",
       "      <td>track</td>\n",
       "      <td>0.798</td>\n",
       "      <td>0.3900</td>\n",
       "    </tr>\n",
       "    <tr>\n",
       "      <th>8</th>\n",
       "      <td>Bejeweled</td>\n",
       "      <td>3qoftcUZaUOncvIYjFSPdE</td>\n",
       "      <td>track</td>\n",
       "      <td>0.696</td>\n",
       "      <td>0.0693</td>\n",
       "    </tr>\n",
       "    <tr>\n",
       "      <th>9</th>\n",
       "      <td>Labyrinth</td>\n",
       "      <td>0A1JLUlkZkp2EFrosoNQi0</td>\n",
       "      <td>track</td>\n",
       "      <td>0.406</td>\n",
       "      <td>0.0517</td>\n",
       "    </tr>\n",
       "  </tbody>\n",
       "</table>\n",
       "</div>"
      ],
      "text/plain": [
       "                                     name                      id   type  \\\n",
       "0                           Lavender Haze  5jQI2r1RdgtuT8S3iG8zFC  track   \n",
       "1                                  Maroon  3eX0NZfLtGzoLUxPNvRfqm  track   \n",
       "2                               Anti-Hero  0V3wPSX9ygBnCm8psDIegu  track   \n",
       "3  Snow On The Beach (feat. Lana Del Rey)  1wtOxkiel43cVs0Yux5Q4h  track   \n",
       "4                 You're On Your Own, Kid  4D7BCuvgdJlYvlX5WlN54t  track   \n",
       "5                           Midnight Rain  3rWDp9tBPQR9z6U5YyRSK4  track   \n",
       "6                            Question...?  0heeNYlwOGuUSe7TgUD27B  track   \n",
       "7                          Vigilante Shit  1xwAWUI6Dj0WGC3KiUPN0O  track   \n",
       "8                               Bejeweled  3qoftcUZaUOncvIYjFSPdE  track   \n",
       "9                               Labyrinth  0A1JLUlkZkp2EFrosoNQi0  track   \n",
       "\n",
       "   danceability  speechiness  \n",
       "0         0.733       0.0800  \n",
       "1         0.637       0.0564  \n",
       "2         0.637       0.0519  \n",
       "3         0.663       0.0375  \n",
       "4         0.696       0.0656  \n",
       "5         0.643       0.0767  \n",
       "6         0.751       0.1670  \n",
       "7         0.798       0.3900  \n",
       "8         0.696       0.0693  \n",
       "9         0.406       0.0517  "
      ]
     },
     "execution_count": 73,
     "metadata": {},
     "output_type": "execute_result"
    }
   ],
   "source": [
    "mid_final_df= pd.merge(mid_name_df, mid_two_features_df, how = 'inner', on = 'id')\n",
    "mid_final_df.head(10)"
   ]
  },
  {
   "cell_type": "markdown",
   "id": "1f14e7f3",
   "metadata": {},
   "source": [
    "I used a Scatter plot to visualize the relationship between Speechiness vs. danceability. As suspected, the album has most songs with low \"Speechiness\" and only one that is below average, about> 0.40. However, the majority of songs are very danceable. Average danceability is about 0.65 to 0.7, which is above average. There is only one song with high danceability and high speechiness. \n",
    "\n",
    "\"Add the name of the songs on the graph to visualize the graph better.\""
   ]
  },
  {
   "cell_type": "code",
   "execution_count": 74,
   "id": "32a29410",
   "metadata": {},
   "outputs": [
    {
     "data": {
      "image/png": "[encoded data removed]",
      "text/plain": [
       "<Figure size 640x480 with 1 Axes>"
      ]
     },
     "metadata": {},
     "output_type": "display_data"
    }
   ],
   "source": [
    "fig3, ax3 =  plt.subplots()\n",
    "ax3.scatter( x = mid_final_df ['danceability'], \n",
    "             y = mid_final_df['speechiness'],alpha= .5, color='#E3001E' )\n",
    "\n",
    "ax3.set_xlabel('Danceability')\n",
    "ax3.set_ylabel('speechiness')\n",
    "plt.show()"
   ]
  },
  {
   "cell_type": "markdown",
   "id": "03eb70bc",
   "metadata": {},
   "source": [
    "I used a scatter plot to show the relationship between the two albums better. The graph represents two albums together based on their danceability vs. speechiness. We can see a similar pattern in terms of \"speechiness.\" Only a few songs have relatively high \"speechiness,\" and the rate is> 0.40. However, we can notice that the \"Midnight\" album has lower speechiness than the \"California\" album. For Midnight, there are only two songs below 0.45. The \"California\" album is more spread; however danceability is >0.73"
   ]
  },
  {
   "cell_type": "code",
   "execution_count": 75,
   "id": "eda24982",
   "metadata": {},
   "outputs": [
    {
     "data": {
      "image/png": "[encoded data removed]",
      "text/plain": [
       "<Figure size 640x480 with 1 Axes>"
      ]
     },
     "metadata": {},
     "output_type": "display_data"
    }
   ],
   "source": [
    "fig5, ax5 =  plt.subplots()\n",
    "ax5.scatter( x = california_final_df  ['danceability'], \n",
    "             y = california_final_df ['speechiness'],\n",
    "            label = 'california Of The State',\n",
    "            color = '#2F9B61',\n",
    "            marker ='*')\n",
    "ax5.scatter( x = mid_final_df ['danceability'], \n",
    "             y = mid_final_df  ['speechiness'],\n",
    "            label = 'Midnight',\n",
    "            alpha= .5, \n",
    "            marker ='8',\n",
    "           color = '#E3001E')\n",
    "\n",
    "ax5.set_title('Midnight vs California')\n",
    "ax5.set_xlabel('Danceability')\n",
    "ax5.set_ylabel('speechiness')\n",
    "ax5.legend()\n",
    "\n",
    "plt.show()"
   ]
  },
  {
   "cell_type": "markdown",
   "id": "e4d10ff6",
   "metadata": {},
   "source": [
    "Also, I compared the features of the two albums separately to get a clearer view of the relationship. As we can see, the \"danceability\" between the two albums is dramatically different. \"Midnight\" is mostly popular, and \"Californa\" is spread out between 0.1 to 0.75. The mid for \"midnight\" is 0.68, and for \"California,\" 0.55"
   ]
  },
  {
   "cell_type": "code",
   "execution_count": 76,
   "id": "da7bca11",
   "metadata": {},
   "outputs": [
    {
     "data": {
      "image/png": "[encoded data removed]",
      "text/plain": [
       "<Figure size 640x480 with 1 Axes>"
      ]
     },
     "metadata": {},
     "output_type": "display_data"
    }
   ],
   "source": [
    "california_speech= california_final_df   ['danceability']\n",
    "mid_speech = mid_final_df['danceability']\n",
    "\n",
    "california_ax = [1]*len(california_speech)\n",
    "mid_ax = [2]*len(mid_speech )\n",
    "\n",
    "bur_x_jitter = np.random.uniform(-0.10,0.10,len (california_ax))\n",
    "chr_x_jitter = np.random.uniform(-0.10,0.10,len (mid_ax))\n",
    "\n",
    "fig8, ax8=  plt.subplots()\n",
    "ax8.boxplot(california_speech,positions= [1])\n",
    "ax8.boxplot(mid_speech,positions= [2])\n",
    "ax8.scatter(california_ax + bur_x_jitter, california_speech, alpha=0.5, color='#E3001E', marker ='8')\n",
    "ax8.scatter(mid_ax + chr_x_jitter, mid_speech, alpha=0.5, color='#2F9B61',marker ='*')\n",
    "\n",
    "\n",
    "ax5.legend()\n",
    "plt.show()\n"
   ]
  },
  {
   "cell_type": "code",
   "execution_count": 77,
   "id": "30690dd1",
   "metadata": {},
   "outputs": [
    {
     "data": {
      "image/png": "[encoded data removed]",
      "text/plain": [
       "<Figure size 640x480 with 1 Axes>"
      ]
     },
     "metadata": {},
     "output_type": "display_data"
    }
   ],
   "source": [
    "california_speech= california_final_df   ['speechiness']\n",
    "mid_speech = mid_final_df['speechiness']\n",
    "\n",
    "california_ax = [1]*len(california_speech)\n",
    "mid_ax = [2]*len(mid_speech )\n",
    "\n",
    "bur_x_jitter = np.random.uniform(-0.10,0.10,len (california_ax))\n",
    "chr_x_jitter = np.random.uniform(-0.10,0.10,len (mid_ax))\n",
    "\n",
    "fig8, ax8=  plt.subplots()\n",
    "ax8.boxplot(california_speech,positions= [1])\n",
    "ax8.boxplot(mid_speech,positions= [2])\n",
    "ax8.scatter(california_ax + bur_x_jitter, california_speech, alpha=0.5, color='#E3001E', marker ='8', label='Aguilera')\n",
    "ax8.scatter(mid_ax + chr_x_jitter, mid_speech, alpha=0.5, color='#2F9B61',marker ='*', label='Sia')\n",
    "plt.show()"
   ]
  },
  {
   "cell_type": "markdown",
   "id": "2ca39b1e",
   "metadata": {},
   "source": [
    "# Conclution \n",
    "\n",
    "I want to talk about the limitations of my project.\n",
    "1. it is hard to assume by comparing only two features that describe the tracks. I picked \"danceability\" because, from my previous analysis throughout the semester, I learned that the more danceable the song is, the more popular it is, and for my analysis, I wanted to compare albums that were hit during the realized year. I also picked \"speechiness\" because there are a lot of stereotypes that nowadays have no meaning and proper lyrics. Artists repeat the same thing or play some beats instead of singing. However, these more than two features are needed to make a perfect conclusion about the overall picture. Later, to make the analysis more accurate, I would like to add more features to the data to compare and contrast more features. \n",
    "2. Realise date. I faced a challenge when I was trying to get the realized data for my tracks from the picked playlist. However, instead of giving me the release date of the stack, Spotify API gave me the release date of the album the track was in. This limited my window into comparing to albums rather than playlists. In the future, I would like to collect released data specifically for tracks by either doing it manually or learning new ways to fix this problem. \n",
    "3. Spotify. Spotify was founded around 2006, so the albums from the early 2000s and late 1999s were not in Spotify when they came out. In the first part, when I had to pick the most popular song and then the album of the early 2000s, the data was mostly collected from people born after the 2000s."
   ]
  },
  {
   "cell_type": "code",
   "execution_count": null,
   "id": "8342ad13",
   "metadata": {},
   "outputs": [],
   "source": []
  }
 ],
 "metadata": {
  "kernelspec": {
   "display_name": "Python 3 (ipykernel)",
   "language": "python",
   "name": "python3"
  },
  "language_info": {
   "codemirror_mode": {
    "name": "ipython",
    "version": 3
   },
   "file_extension": ".py",
   "mimetype": "text/x-python",
   "name": "python",
   "nbconvert_exporter": "python",
   "pygments_lexer": "ipython3",
   "version": "3.11.4"
  }
 },
 "nbformat": 4,
 "nbformat_minor": 5
}
