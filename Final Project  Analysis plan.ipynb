{
 "cells": [
  {
   "cell_type": "markdown",
   "id": "361bb081",
   "metadata": {},
   "source": [
    "## Analysis Plan\n",
    "## Mariam Sedrakyan \n",
    "\n",
    "For my second step, I collected all the data I needed in order to complete my final project. The motivation of my project is to compare and contrast the changes in the taste of hot music in America. Below, I will present some data frames that I will use later to analyze my hypothesis.\n",
    "\n",
    "For my third step, I would like to introduce my analysis plan. For my final project, I am going to analyze how music taste changed in America based on the __Danceability and speechiness__ over the past 20 years. To visualize my data, I will use boxplot and scatter. "
   ]
  },
  {
   "cell_type": "code",
   "execution_count": 1,
   "id": "3312ad46",
   "metadata": {},
   "outputs": [],
   "source": [
    "from matplotlib import pyplot as plt\n",
    "from scipy import stats\n",
    "import pandas as pd\n",
    "import numpy as np\n",
    "import requests\n",
    "import base64\n",
    "import json\n",
    "import urllib"
   ]
  },
  {
   "cell_type": "code",
   "execution_count": 2,
   "id": "335fb1f7",
   "metadata": {},
   "outputs": [],
   "source": [
    "Client_ID = pd.read_csv(\"Spotify-Keys_9-23-21.txt\")['Client_ID'].iloc[0]\n",
    "Client_Secret = pd.read_csv(\"Spotify-Keys_secret.txt\")['Client_Secret'].iloc[0]"
   ]
  },
  {
   "cell_type": "code",
   "execution_count": 3,
   "id": "6e559edc",
   "metadata": {},
   "outputs": [],
   "source": [
    "# Client_ID"
   ]
  },
  {
   "cell_type": "code",
   "execution_count": 4,
   "id": "fabe65ea",
   "metadata": {},
   "outputs": [],
   "source": [
    "# Client_Secret"
   ]
  },
  {
   "cell_type": "code",
   "execution_count": 5,
   "id": "3f3588c3",
   "metadata": {},
   "outputs": [],
   "source": [
    "client_cred = base64.b64encode(str(Client_ID + \":\" + Client_Secret).encode(\"ascii\"))"
   ]
  },
  {
   "cell_type": "code",
   "execution_count": 6,
   "id": "a4c0b04f",
   "metadata": {},
   "outputs": [],
   "source": [
    "# client_cred"
   ]
  },
  {
   "cell_type": "code",
   "execution_count": 7,
   "id": "1f27f71c",
   "metadata": {},
   "outputs": [],
   "source": [
    "headers = {\"Authorization\": \"Basic {}\".format(client_cred.decode(\"ascii\"))}"
   ]
  },
  {
   "cell_type": "code",
   "execution_count": 8,
   "id": "df1d7033",
   "metadata": {},
   "outputs": [],
   "source": [
    "# headers"
   ]
  },
  {
   "cell_type": "code",
   "execution_count": 9,
   "id": "03854bd7",
   "metadata": {},
   "outputs": [],
   "source": [
    "payload = {'grant_type' : 'client_credentials'}\n",
    "url = 'https://accounts.spotify.com/api/token'"
   ]
  },
  {
   "cell_type": "code",
   "execution_count": 10,
   "id": "06abbfd5",
   "metadata": {},
   "outputs": [],
   "source": [
    "session_key_response = requests.post(url = url, data = payload, headers = headers)"
   ]
  },
  {
   "cell_type": "code",
   "execution_count": 11,
   "id": "1142b0ee",
   "metadata": {},
   "outputs": [
    {
     "data": {
      "text/plain": [
       "200"
      ]
     },
     "execution_count": 11,
     "metadata": {},
     "output_type": "execute_result"
    }
   ],
   "source": [
    "session_key_response.status_code"
   ]
  },
  {
   "cell_type": "code",
   "execution_count": 12,
   "id": "822bf1b1",
   "metadata": {},
   "outputs": [],
   "source": [
    "# session_key_response.json()['access_token']"
   ]
  },
  {
   "cell_type": "code",
   "execution_count": 13,
   "id": "53fb93a9",
   "metadata": {
    "scrolled": true
   },
   "outputs": [],
   "source": [
    "session_header_key = session_key_response.json()"
   ]
  },
  {
   "cell_type": "code",
   "execution_count": 14,
   "id": "cb1d6810",
   "metadata": {},
   "outputs": [],
   "source": [
    "key = session_header_key['access_token']"
   ]
  },
  {
   "cell_type": "code",
   "execution_count": 15,
   "id": "8c536f0b",
   "metadata": {},
   "outputs": [],
   "source": [
    "session_headers = {\"Authorization\": \"Bearer {}\".format(key)}"
   ]
  },
  {
   "cell_type": "code",
   "execution_count": 16,
   "id": "eeeafacf",
   "metadata": {},
   "outputs": [],
   "source": [
    "# session_headers"
   ]
  },
  {
   "cell_type": "markdown",
   "id": "46be80d5",
   "metadata": {},
   "source": [
    "# Hits of early 2000s"
   ]
  },
  {
   "cell_type": "markdown",
   "id": "bfc352e7",
   "metadata": {},
   "source": [
    "First playlist is has all the popular songs early 2000s"
   ]
  },
  {
   "cell_type": "code",
   "execution_count": 17,
   "id": "e2d8ea5c",
   "metadata": {},
   "outputs": [],
   "source": [
    "early_hits_id=\"37i9dQZF1DWUZv12GM5cFk\""
   ]
  },
  {
   "cell_type": "code",
   "execution_count": 18,
   "id": "7c54d9fe",
   "metadata": {},
   "outputs": [],
   "source": [
    "early_hits_url= 'https://api.spotify.com/v1/playlists/{}'.format(early_hits_id)"
   ]
  },
  {
   "cell_type": "code",
   "execution_count": 19,
   "id": "c610ff57",
   "metadata": {},
   "outputs": [
    {
     "data": {
      "text/plain": [
       "200"
      ]
     },
     "execution_count": 19,
     "metadata": {},
     "output_type": "execute_result"
    }
   ],
   "source": [
    "early_hits_response = requests.get(url = early_hits_url, headers = session_headers)\n",
    "early_hits_response.status_code"
   ]
  },
  {
   "cell_type": "code",
   "execution_count": 20,
   "id": "c3fac9da",
   "metadata": {},
   "outputs": [],
   "source": [
    "early_hits = early_hits_response.json()"
   ]
  },
  {
   "cell_type": "code",
   "execution_count": 21,
   "id": "60f09363",
   "metadata": {},
   "outputs": [
    {
     "data": {
      "text/plain": [
       "dict_keys(['collaborative', 'description', 'external_urls', 'followers', 'href', 'id', 'images', 'name', 'owner', 'primary_color', 'public', 'snapshot_id', 'tracks', 'type', 'uri'])"
      ]
     },
     "execution_count": 21,
     "metadata": {},
     "output_type": "execute_result"
    }
   ],
   "source": [
    "early_hits.keys()"
   ]
  },
  {
   "cell_type": "code",
   "execution_count": 22,
   "id": "2adff729",
   "metadata": {},
   "outputs": [
    {
     "data": {
      "text/plain": [
       "dict_keys(['href', 'items', 'limit', 'next', 'offset', 'previous', 'total'])"
      ]
     },
     "execution_count": 22,
     "metadata": {},
     "output_type": "execute_result"
    }
   ],
   "source": [
    "early_hits['tracks'].keys()"
   ]
  },
  {
   "cell_type": "code",
   "execution_count": 23,
   "id": "d421a749",
   "metadata": {},
   "outputs": [
    {
     "data": {
      "text/plain": [
       "dict_keys(['href', 'items', 'limit', 'next', 'offset', 'previous', 'total'])"
      ]
     },
     "execution_count": 23,
     "metadata": {},
     "output_type": "execute_result"
    }
   ],
   "source": [
    "early_hits['tracks'].keys()"
   ]
  },
  {
   "cell_type": "code",
   "execution_count": 24,
   "id": "b4f54d1a",
   "metadata": {},
   "outputs": [
    {
     "data": {
      "text/plain": [
       "'2000-05-16'"
      ]
     },
     "execution_count": 24,
     "metadata": {},
     "output_type": "execute_result"
    }
   ],
   "source": [
    "early_hits['tracks']['items'][0]['track']['album']['release_date']"
   ]
  },
  {
   "cell_type": "markdown",
   "id": "73d34f63",
   "metadata": {},
   "source": [
    "creating dataframe to get the popularity and id's of the tracks"
   ]
  },
  {
   "cell_type": "code",
   "execution_count": 25,
   "id": "46f70865",
   "metadata": {},
   "outputs": [
    {
     "data": {
      "text/html": [
       "<div>\n",
       "<style scoped>\n",
       "    .dataframe tbody tr th:only-of-type {\n",
       "        vertical-align: middle;\n",
       "    }\n",
       "\n",
       "    .dataframe tbody tr th {\n",
       "        vertical-align: top;\n",
       "    }\n",
       "\n",
       "    .dataframe thead th {\n",
       "        text-align: right;\n",
       "    }\n",
       "</style>\n",
       "<table border=\"1\" class=\"dataframe\">\n",
       "  <thead>\n",
       "    <tr style=\"text-align: right;\">\n",
       "      <th></th>\n",
       "      <th>album</th>\n",
       "      <th>artists</th>\n",
       "      <th>available_markets</th>\n",
       "      <th>disc_number</th>\n",
       "      <th>duration_ms</th>\n",
       "      <th>episode</th>\n",
       "      <th>explicit</th>\n",
       "      <th>external_ids</th>\n",
       "      <th>external_urls</th>\n",
       "      <th>href</th>\n",
       "      <th>id</th>\n",
       "      <th>is_local</th>\n",
       "      <th>name</th>\n",
       "      <th>popularity</th>\n",
       "      <th>preview_url</th>\n",
       "      <th>track</th>\n",
       "      <th>track_number</th>\n",
       "      <th>type</th>\n",
       "      <th>uri</th>\n",
       "    </tr>\n",
       "  </thead>\n",
       "  <tbody>\n",
       "    <tr>\n",
       "      <th>0</th>\n",
       "      <td>{'album_type': 'album', 'artists': [{'external...</td>\n",
       "      <td>[{'external_urls': {'spotify': 'https://open.s...</td>\n",
       "      <td>[AR, AU, AT, BE, BO, BR, BG, CA, CL, CO, CR, C...</td>\n",
       "      <td>1</td>\n",
       "      <td>211160</td>\n",
       "      <td>False</td>\n",
       "      <td>False</td>\n",
       "      <td>{'isrc': 'USJI10000100'}</td>\n",
       "      <td>{'spotify': 'https://open.spotify.com/track/6n...</td>\n",
       "      <td>https://api.spotify.com/v1/tracks/6naxalmIoLFW...</td>\n",
       "      <td>6naxalmIoLFWR0siv8dnQQ</td>\n",
       "      <td>False</td>\n",
       "      <td>Oops!...I Did It Again</td>\n",
       "      <td>81</td>\n",
       "      <td>https://p.scdn.co/mp3-preview/66a5cf0f69b1bb1e...</td>\n",
       "      <td>True</td>\n",
       "      <td>1</td>\n",
       "      <td>track</td>\n",
       "      <td>spotify:track:6naxalmIoLFWR0siv8dnQQ</td>\n",
       "    </tr>\n",
       "    <tr>\n",
       "      <th>1</th>\n",
       "      <td>{'album_type': 'album', 'artists': [{'external...</td>\n",
       "      <td>[{'external_urls': {'spotify': 'https://open.s...</td>\n",
       "      <td>[AR, AU, AT, BE, BO, BR, BG, CA, CL, CO, CR, C...</td>\n",
       "      <td>1</td>\n",
       "      <td>167066</td>\n",
       "      <td>False</td>\n",
       "      <td>False</td>\n",
       "      <td>{'isrc': 'USMC19959123'}</td>\n",
       "      <td>{'spotify': 'https://open.spotify.com/track/2m...</td>\n",
       "      <td>https://api.spotify.com/v1/tracks/2m1hi0nfMR9v...</td>\n",
       "      <td>2m1hi0nfMR9vdGC8UcrnwU</td>\n",
       "      <td>False</td>\n",
       "      <td>All The Small Things</td>\n",
       "      <td>84</td>\n",
       "      <td>None</td>\n",
       "      <td>True</td>\n",
       "      <td>8</td>\n",
       "      <td>track</td>\n",
       "      <td>spotify:track:2m1hi0nfMR9vdGC8UcrnwU</td>\n",
       "    </tr>\n",
       "  </tbody>\n",
       "</table>\n",
       "</div>"
      ],
      "text/plain": [
       "                                               album  \\\n",
       "0  {'album_type': 'album', 'artists': [{'external...   \n",
       "1  {'album_type': 'album', 'artists': [{'external...   \n",
       "\n",
       "                                             artists  \\\n",
       "0  [{'external_urls': {'spotify': 'https://open.s...   \n",
       "1  [{'external_urls': {'spotify': 'https://open.s...   \n",
       "\n",
       "                                   available_markets  disc_number  \\\n",
       "0  [AR, AU, AT, BE, BO, BR, BG, CA, CL, CO, CR, C...            1   \n",
       "1  [AR, AU, AT, BE, BO, BR, BG, CA, CL, CO, CR, C...            1   \n",
       "\n",
       "   duration_ms  episode  explicit              external_ids  \\\n",
       "0       211160    False     False  {'isrc': 'USJI10000100'}   \n",
       "1       167066    False     False  {'isrc': 'USMC19959123'}   \n",
       "\n",
       "                                       external_urls  \\\n",
       "0  {'spotify': 'https://open.spotify.com/track/6n...   \n",
       "1  {'spotify': 'https://open.spotify.com/track/2m...   \n",
       "\n",
       "                                                href                      id  \\\n",
       "0  https://api.spotify.com/v1/tracks/6naxalmIoLFW...  6naxalmIoLFWR0siv8dnQQ   \n",
       "1  https://api.spotify.com/v1/tracks/2m1hi0nfMR9v...  2m1hi0nfMR9vdGC8UcrnwU   \n",
       "\n",
       "   is_local                    name  popularity  \\\n",
       "0     False  Oops!...I Did It Again          81   \n",
       "1     False    All The Small Things          84   \n",
       "\n",
       "                                         preview_url  track  track_number  \\\n",
       "0  https://p.scdn.co/mp3-preview/66a5cf0f69b1bb1e...   True             1   \n",
       "1                                               None   True             8   \n",
       "\n",
       "    type                                   uri  \n",
       "0  track  spotify:track:6naxalmIoLFWR0siv8dnQQ  \n",
       "1  track  spotify:track:2m1hi0nfMR9vdGC8UcrnwU  "
      ]
     },
     "execution_count": 25,
     "metadata": {},
     "output_type": "execute_result"
    }
   ],
   "source": [
    "early_hits_df = pd.DataFrame([x['track'] for x in early_hits['tracks']['items']])\n",
    "early_hits_df.head(2)"
   ]
  },
  {
   "cell_type": "code",
   "execution_count": 26,
   "id": "bf604221",
   "metadata": {},
   "outputs": [],
   "source": [
    "id_name_popularity_df =early_hits_df[['name','popularity','id','type']]"
   ]
  },
  {
   "cell_type": "markdown",
   "id": "91124408",
   "metadata": {},
   "source": [
    "I seperated important the parts from graph to understand the popularity of tracks "
   ]
  },
  {
   "cell_type": "code",
   "execution_count": 27,
   "id": "b6c28ae0",
   "metadata": {},
   "outputs": [
    {
     "data": {
      "text/html": [
       "<div>\n",
       "<style scoped>\n",
       "    .dataframe tbody tr th:only-of-type {\n",
       "        vertical-align: middle;\n",
       "    }\n",
       "\n",
       "    .dataframe tbody tr th {\n",
       "        vertical-align: top;\n",
       "    }\n",
       "\n",
       "    .dataframe thead th {\n",
       "        text-align: right;\n",
       "    }\n",
       "</style>\n",
       "<table border=\"1\" class=\"dataframe\">\n",
       "  <thead>\n",
       "    <tr style=\"text-align: right;\">\n",
       "      <th></th>\n",
       "      <th>name</th>\n",
       "      <th>popularity</th>\n",
       "      <th>id</th>\n",
       "      <th>type</th>\n",
       "    </tr>\n",
       "  </thead>\n",
       "  <tbody>\n",
       "    <tr>\n",
       "      <th>0</th>\n",
       "      <td>Oops!...I Did It Again</td>\n",
       "      <td>81</td>\n",
       "      <td>6naxalmIoLFWR0siv8dnQQ</td>\n",
       "      <td>track</td>\n",
       "    </tr>\n",
       "    <tr>\n",
       "      <th>1</th>\n",
       "      <td>All The Small Things</td>\n",
       "      <td>84</td>\n",
       "      <td>2m1hi0nfMR9vdGC8UcrnwU</td>\n",
       "      <td>track</td>\n",
       "    </tr>\n",
       "    <tr>\n",
       "      <th>2</th>\n",
       "      <td>Breathe</td>\n",
       "      <td>68</td>\n",
       "      <td>3y4LxiYMgDl4RethdzpmNe</td>\n",
       "      <td>track</td>\n",
       "    </tr>\n",
       "    <tr>\n",
       "      <th>3</th>\n",
       "      <td>It's My Life</td>\n",
       "      <td>82</td>\n",
       "      <td>0v1XpBHnsbkCn7iJ9Ucr1l</td>\n",
       "      <td>track</td>\n",
       "    </tr>\n",
       "    <tr>\n",
       "      <th>4</th>\n",
       "      <td>Bye Bye Bye</td>\n",
       "      <td>74</td>\n",
       "      <td>62bOmKYxYg7dhrC6gH9vFn</td>\n",
       "      <td>track</td>\n",
       "    </tr>\n",
       "  </tbody>\n",
       "</table>\n",
       "</div>"
      ],
      "text/plain": [
       "                     name  popularity                      id   type\n",
       "0  Oops!...I Did It Again          81  6naxalmIoLFWR0siv8dnQQ  track\n",
       "1    All The Small Things          84  2m1hi0nfMR9vdGC8UcrnwU  track\n",
       "2                 Breathe          68  3y4LxiYMgDl4RethdzpmNe  track\n",
       "3            It's My Life          82  0v1XpBHnsbkCn7iJ9Ucr1l  track\n",
       "4             Bye Bye Bye          74  62bOmKYxYg7dhrC6gH9vFn  track"
      ]
     },
     "execution_count": 27,
     "metadata": {},
     "output_type": "execute_result"
    }
   ],
   "source": [
    "id_name_popularity_df.head(5)"
   ]
  },
  {
   "cell_type": "markdown",
   "id": "11b28bb0",
   "metadata": {},
   "source": [
    "To get the date of the tracks, I need to look into the albums they were created. "
   ]
  },
  {
   "cell_type": "code",
   "execution_count": 28,
   "id": "6e4328ed",
   "metadata": {},
   "outputs": [
    {
     "data": {
      "text/html": [
       "<div>\n",
       "<style scoped>\n",
       "    .dataframe tbody tr th:only-of-type {\n",
       "        vertical-align: middle;\n",
       "    }\n",
       "\n",
       "    .dataframe tbody tr th {\n",
       "        vertical-align: top;\n",
       "    }\n",
       "\n",
       "    .dataframe thead th {\n",
       "        text-align: right;\n",
       "    }\n",
       "</style>\n",
       "<table border=\"1\" class=\"dataframe\">\n",
       "  <thead>\n",
       "    <tr style=\"text-align: right;\">\n",
       "      <th></th>\n",
       "      <th>album_type</th>\n",
       "      <th>artists</th>\n",
       "      <th>available_markets</th>\n",
       "      <th>external_urls</th>\n",
       "      <th>href</th>\n",
       "      <th>id</th>\n",
       "      <th>images</th>\n",
       "      <th>name</th>\n",
       "      <th>release_date</th>\n",
       "      <th>release_date_precision</th>\n",
       "      <th>total_tracks</th>\n",
       "      <th>type</th>\n",
       "      <th>uri</th>\n",
       "    </tr>\n",
       "  </thead>\n",
       "  <tbody>\n",
       "    <tr>\n",
       "      <th>0</th>\n",
       "      <td>album</td>\n",
       "      <td>[{'external_urls': {'spotify': 'https://open.s...</td>\n",
       "      <td>[AR, AU, AT, BE, BO, BR, BG, CA, CL, CO, CR, C...</td>\n",
       "      <td>{'spotify': 'https://open.spotify.com/album/5P...</td>\n",
       "      <td>https://api.spotify.com/v1/albums/5PmgtkodFl2O...</td>\n",
       "      <td>5PmgtkodFl2Om3hMXONDll</td>\n",
       "      <td>[{'height': 640, 'url': 'https://i.scdn.co/ima...</td>\n",
       "      <td>Oops!... I Did It Again</td>\n",
       "      <td>2000-05-16</td>\n",
       "      <td>day</td>\n",
       "      <td>12</td>\n",
       "      <td>album</td>\n",
       "      <td>spotify:album:5PmgtkodFl2Om3hMXONDll</td>\n",
       "    </tr>\n",
       "    <tr>\n",
       "      <th>1</th>\n",
       "      <td>album</td>\n",
       "      <td>[{'external_urls': {'spotify': 'https://open.s...</td>\n",
       "      <td>[AR, AU, AT, BE, BO, BR, BG, CA, CL, CO, CR, C...</td>\n",
       "      <td>{'spotify': 'https://open.spotify.com/album/65...</td>\n",
       "      <td>https://api.spotify.com/v1/albums/652N05EcNH1a...</td>\n",
       "      <td>652N05EcNH1a4bIlUixQE2</td>\n",
       "      <td>[{'height': 640, 'url': 'https://i.scdn.co/ima...</td>\n",
       "      <td>Enema Of The State</td>\n",
       "      <td>1999-06-01</td>\n",
       "      <td>day</td>\n",
       "      <td>12</td>\n",
       "      <td>album</td>\n",
       "      <td>spotify:album:652N05EcNH1a4bIlUixQE2</td>\n",
       "    </tr>\n",
       "  </tbody>\n",
       "</table>\n",
       "</div>"
      ],
      "text/plain": [
       "  album_type                                            artists  \\\n",
       "0      album  [{'external_urls': {'spotify': 'https://open.s...   \n",
       "1      album  [{'external_urls': {'spotify': 'https://open.s...   \n",
       "\n",
       "                                   available_markets  \\\n",
       "0  [AR, AU, AT, BE, BO, BR, BG, CA, CL, CO, CR, C...   \n",
       "1  [AR, AU, AT, BE, BO, BR, BG, CA, CL, CO, CR, C...   \n",
       "\n",
       "                                       external_urls  \\\n",
       "0  {'spotify': 'https://open.spotify.com/album/5P...   \n",
       "1  {'spotify': 'https://open.spotify.com/album/65...   \n",
       "\n",
       "                                                href                      id  \\\n",
       "0  https://api.spotify.com/v1/albums/5PmgtkodFl2O...  5PmgtkodFl2Om3hMXONDll   \n",
       "1  https://api.spotify.com/v1/albums/652N05EcNH1a...  652N05EcNH1a4bIlUixQE2   \n",
       "\n",
       "                                              images                     name  \\\n",
       "0  [{'height': 640, 'url': 'https://i.scdn.co/ima...  Oops!... I Did It Again   \n",
       "1  [{'height': 640, 'url': 'https://i.scdn.co/ima...       Enema Of The State   \n",
       "\n",
       "  release_date release_date_precision  total_tracks   type  \\\n",
       "0   2000-05-16                    day            12  album   \n",
       "1   1999-06-01                    day            12  album   \n",
       "\n",
       "                                    uri  \n",
       "0  spotify:album:5PmgtkodFl2Om3hMXONDll  \n",
       "1  spotify:album:652N05EcNH1a4bIlUixQE2  "
      ]
     },
     "execution_count": 28,
     "metadata": {},
     "output_type": "execute_result"
    }
   ],
   "source": [
    "release_dates = pd.DataFrame([x['track']['album']for x in early_hits['tracks']['items']])\n",
    "release_dates.head(2)"
   ]
  },
  {
   "cell_type": "markdown",
   "id": "080ea170",
   "metadata": {},
   "source": [
    "Below we can see the albums released early 2000s. I will select the one that was realised the earliest "
   ]
  },
  {
   "cell_type": "code",
   "execution_count": 29,
   "id": "45a25494",
   "metadata": {},
   "outputs": [
    {
     "data": {
      "text/html": [
       "<div>\n",
       "<style scoped>\n",
       "    .dataframe tbody tr th:only-of-type {\n",
       "        vertical-align: middle;\n",
       "    }\n",
       "\n",
       "    .dataframe tbody tr th {\n",
       "        vertical-align: top;\n",
       "    }\n",
       "\n",
       "    .dataframe thead th {\n",
       "        text-align: right;\n",
       "    }\n",
       "</style>\n",
       "<table border=\"1\" class=\"dataframe\">\n",
       "  <thead>\n",
       "    <tr style=\"text-align: right;\">\n",
       "      <th></th>\n",
       "      <th>name</th>\n",
       "      <th>release_date</th>\n",
       "      <th>id</th>\n",
       "      <th>type</th>\n",
       "    </tr>\n",
       "  </thead>\n",
       "  <tbody>\n",
       "    <tr>\n",
       "      <th>1</th>\n",
       "      <td>Enema Of The State</td>\n",
       "      <td>1999-06-01</td>\n",
       "      <td>652N05EcNH1a4bIlUixQE2</td>\n",
       "      <td>album</td>\n",
       "    </tr>\n",
       "    <tr>\n",
       "      <th>2</th>\n",
       "      <td>Breathe</td>\n",
       "      <td>1999-11-09</td>\n",
       "      <td>3BGPil8BDPVoDK0lnUPtvb</td>\n",
       "      <td>album</td>\n",
       "    </tr>\n",
       "    <tr>\n",
       "      <th>3</th>\n",
       "      <td>Crush</td>\n",
       "      <td>2000-01-01</td>\n",
       "      <td>0Q9SljCrM0CL0bR23MuP69</td>\n",
       "      <td>album</td>\n",
       "    </tr>\n",
       "    <tr>\n",
       "      <th>4</th>\n",
       "      <td>No Strings Attached</td>\n",
       "      <td>2000-03-21</td>\n",
       "      <td>20RMokVwJ2wjQ0s8FOdOFC</td>\n",
       "      <td>album</td>\n",
       "    </tr>\n",
       "    <tr>\n",
       "      <th>0</th>\n",
       "      <td>Oops!... I Did It Again</td>\n",
       "      <td>2000-05-16</td>\n",
       "      <td>5PmgtkodFl2Om3hMXONDll</td>\n",
       "      <td>album</td>\n",
       "    </tr>\n",
       "  </tbody>\n",
       "</table>\n",
       "</div>"
      ],
      "text/plain": [
       "                      name release_date                      id   type\n",
       "1       Enema Of The State   1999-06-01  652N05EcNH1a4bIlUixQE2  album\n",
       "2                  Breathe   1999-11-09  3BGPil8BDPVoDK0lnUPtvb  album\n",
       "3                    Crush   2000-01-01  0Q9SljCrM0CL0bR23MuP69  album\n",
       "4      No Strings Attached   2000-03-21  20RMokVwJ2wjQ0s8FOdOFC  album\n",
       "0  Oops!... I Did It Again   2000-05-16  5PmgtkodFl2Om3hMXONDll  album"
      ]
     },
     "execution_count": 29,
     "metadata": {},
     "output_type": "execute_result"
    }
   ],
   "source": [
    "album_dates_df=release_dates[['name','release_date','id','type']]\n",
    "album_dates_df.head(5).sort_values('release_date',ascending = True)"
   ]
  },
  {
   "cell_type": "code",
   "execution_count": 30,
   "id": "a92e63af",
   "metadata": {},
   "outputs": [],
   "source": [
    "get_old_albums_url = 'https://api.spotify.com/v1/albums?ids={}'\\\n",
    ".format(','.join(list(album_dates_df['id'] [0:20])))"
   ]
  },
  {
   "cell_type": "code",
   "execution_count": 31,
   "id": "87e9de2b",
   "metadata": {},
   "outputs": [
    {
     "data": {
      "text/plain": [
       "200"
      ]
     },
     "execution_count": 31,
     "metadata": {},
     "output_type": "execute_result"
    }
   ],
   "source": [
    "old_album_features =requests.get(url = get_old_albums_url , headers = session_headers)\n",
    "old_album_features.status_code"
   ]
  },
  {
   "cell_type": "code",
   "execution_count": 32,
   "id": "62710efc",
   "metadata": {},
   "outputs": [],
   "source": [
    "old_album_response = old_album_features.json()"
   ]
  },
  {
   "cell_type": "code",
   "execution_count": 33,
   "id": "86e31e19",
   "metadata": {},
   "outputs": [],
   "source": [
    "old_album_response_df = pd.DataFrame(old_album_response['albums'])"
   ]
  },
  {
   "cell_type": "code",
   "execution_count": 34,
   "id": "3639a507",
   "metadata": {},
   "outputs": [
    {
     "data": {
      "text/html": [
       "<div>\n",
       "<style scoped>\n",
       "    .dataframe tbody tr th:only-of-type {\n",
       "        vertical-align: middle;\n",
       "    }\n",
       "\n",
       "    .dataframe tbody tr th {\n",
       "        vertical-align: top;\n",
       "    }\n",
       "\n",
       "    .dataframe thead th {\n",
       "        text-align: right;\n",
       "    }\n",
       "</style>\n",
       "<table border=\"1\" class=\"dataframe\">\n",
       "  <thead>\n",
       "    <tr style=\"text-align: right;\">\n",
       "      <th></th>\n",
       "      <th>name</th>\n",
       "      <th>popularity</th>\n",
       "      <th>release_date</th>\n",
       "      <th>id</th>\n",
       "      <th>type</th>\n",
       "    </tr>\n",
       "  </thead>\n",
       "  <tbody>\n",
       "    <tr>\n",
       "      <th>1</th>\n",
       "      <td>Enema Of The State</td>\n",
       "      <td>80</td>\n",
       "      <td>1999-06-01</td>\n",
       "      <td>652N05EcNH1a4bIlUixQE2</td>\n",
       "      <td>album</td>\n",
       "    </tr>\n",
       "    <tr>\n",
       "      <th>0</th>\n",
       "      <td>Oops!... I Did It Again</td>\n",
       "      <td>74</td>\n",
       "      <td>2000-05-16</td>\n",
       "      <td>5PmgtkodFl2Om3hMXONDll</td>\n",
       "      <td>album</td>\n",
       "    </tr>\n",
       "    <tr>\n",
       "      <th>3</th>\n",
       "      <td>Crush</td>\n",
       "      <td>73</td>\n",
       "      <td>2000-01-01</td>\n",
       "      <td>0Q9SljCrM0CL0bR23MuP69</td>\n",
       "      <td>album</td>\n",
       "    </tr>\n",
       "    <tr>\n",
       "      <th>4</th>\n",
       "      <td>No Strings Attached</td>\n",
       "      <td>71</td>\n",
       "      <td>2000-03-21</td>\n",
       "      <td>20RMokVwJ2wjQ0s8FOdOFC</td>\n",
       "      <td>album</td>\n",
       "    </tr>\n",
       "    <tr>\n",
       "      <th>5</th>\n",
       "      <td>Unleash The Dragon</td>\n",
       "      <td>65</td>\n",
       "      <td>1999-11-30</td>\n",
       "      <td>0nyora4kbjBGE4d1B9gxnm</td>\n",
       "      <td>album</td>\n",
       "    </tr>\n",
       "    <tr>\n",
       "      <th>2</th>\n",
       "      <td>Breathe</td>\n",
       "      <td>60</td>\n",
       "      <td>1999-11-09</td>\n",
       "      <td>3BGPil8BDPVoDK0lnUPtvb</td>\n",
       "      <td>album</td>\n",
       "    </tr>\n",
       "  </tbody>\n",
       "</table>\n",
       "</div>"
      ],
      "text/plain": [
       "                      name  popularity release_date                      id  \\\n",
       "1       Enema Of The State          80   1999-06-01  652N05EcNH1a4bIlUixQE2   \n",
       "0  Oops!... I Did It Again          74   2000-05-16  5PmgtkodFl2Om3hMXONDll   \n",
       "3                    Crush          73   2000-01-01  0Q9SljCrM0CL0bR23MuP69   \n",
       "4      No Strings Attached          71   2000-03-21  20RMokVwJ2wjQ0s8FOdOFC   \n",
       "5       Unleash The Dragon          65   1999-11-30  0nyora4kbjBGE4d1B9gxnm   \n",
       "2                  Breathe          60   1999-11-09  3BGPil8BDPVoDK0lnUPtvb   \n",
       "\n",
       "    type  \n",
       "1  album  \n",
       "0  album  \n",
       "3  album  \n",
       "4  album  \n",
       "5  album  \n",
       "2  album  "
      ]
     },
     "execution_count": 34,
     "metadata": {},
     "output_type": "execute_result"
    }
   ],
   "source": [
    "old_albums_popularity_df= pd.DataFrame (old_album_response_df[['name','popularity','release_date','id','type']])\n",
    "old_albums_popularity_df.head(6).sort_values('popularity',ascending = False)"
   ]
  },
  {
   "cell_type": "markdown",
   "id": "53865dad",
   "metadata": {},
   "source": [
    "My first graph visualizes popular albums from 1999 to 2013 based on their popularity. "
   ]
  },
  {
   "cell_type": "code",
   "execution_count": 35,
   "id": "96f2b61b",
   "metadata": {},
   "outputs": [
    {
     "data": {
      "image/png": "[encoded data removed]",
      "text/plain": [
       "<Figure size 640x480 with 1 Axes>"
      ]
     },
     "metadata": {},
     "output_type": "display_data"
    }
   ],
   "source": [
    "fig1, ax1 =  plt.subplots()\n",
    "ax1.scatter( x = old_albums_popularity_df ['popularity'], \n",
    "             y = old_albums_popularity_df['release_date'],\n",
    "            alpha= .5, color =\"#2F9B61\")\n",
    "\n",
    "ax1.set_xlabel('Popularity')\n",
    "ax1.set_ylabel('Release Date')\n",
    "plt.show()"
   ]
  },
  {
   "cell_type": "code",
   "execution_count": 36,
   "id": "f4d5f3b1",
   "metadata": {},
   "outputs": [],
   "source": [
    "Enma_id=\"652N05EcNH1a4bIlUixQE2\""
   ]
  },
  {
   "cell_type": "code",
   "execution_count": 37,
   "id": "50a536cc",
   "metadata": {},
   "outputs": [],
   "source": [
    "Enema_tracks_url = 'https://api.spotify.com/v1/albums/{}/tracks'.format(Enma_id)\n"
   ]
  },
  {
   "cell_type": "code",
   "execution_count": 38,
   "id": "fb823fc5",
   "metadata": {},
   "outputs": [
    {
     "data": {
      "text/plain": [
       "200"
      ]
     },
     "execution_count": 38,
     "metadata": {},
     "output_type": "execute_result"
    }
   ],
   "source": [
    "Enema_album_response = requests.get(url = Enema_tracks_url, headers = session_headers)\n",
    "Enema_album_response.status_code"
   ]
  },
  {
   "cell_type": "code",
   "execution_count": 39,
   "id": "f96ae777",
   "metadata": {},
   "outputs": [],
   "source": [
    "Enema_of_the_state = Enema_album_response.json()"
   ]
  },
  {
   "cell_type": "code",
   "execution_count": 40,
   "id": "2e9023b0",
   "metadata": {},
   "outputs": [
    {
     "data": {
      "text/plain": [
       "dict_keys(['href', 'items', 'limit', 'next', 'offset', 'previous', 'total'])"
      ]
     },
     "execution_count": 40,
     "metadata": {},
     "output_type": "execute_result"
    }
   ],
   "source": [
    "Enema_of_the_state.keys()"
   ]
  },
  {
   "cell_type": "code",
   "execution_count": 41,
   "id": "04d9bb5a",
   "metadata": {},
   "outputs": [
    {
     "data": {
      "text/html": [
       "<div>\n",
       "<style scoped>\n",
       "    .dataframe tbody tr th:only-of-type {\n",
       "        vertical-align: middle;\n",
       "    }\n",
       "\n",
       "    .dataframe tbody tr th {\n",
       "        vertical-align: top;\n",
       "    }\n",
       "\n",
       "    .dataframe thead th {\n",
       "        text-align: right;\n",
       "    }\n",
       "</style>\n",
       "<table border=\"1\" class=\"dataframe\">\n",
       "  <thead>\n",
       "    <tr style=\"text-align: right;\">\n",
       "      <th></th>\n",
       "      <th>artists</th>\n",
       "      <th>available_markets</th>\n",
       "      <th>disc_number</th>\n",
       "      <th>duration_ms</th>\n",
       "      <th>explicit</th>\n",
       "      <th>external_urls</th>\n",
       "      <th>href</th>\n",
       "      <th>id</th>\n",
       "      <th>is_local</th>\n",
       "      <th>name</th>\n",
       "      <th>preview_url</th>\n",
       "      <th>track_number</th>\n",
       "      <th>type</th>\n",
       "      <th>uri</th>\n",
       "    </tr>\n",
       "  </thead>\n",
       "  <tbody>\n",
       "    <tr>\n",
       "      <th>0</th>\n",
       "      <td>[{'external_urls': {'spotify': 'https://open.s...</td>\n",
       "      <td>[AR, AU, AT, BE, BO, BR, BG, CA, CL, CO, CR, C...</td>\n",
       "      <td>1</td>\n",
       "      <td>143893</td>\n",
       "      <td>True</td>\n",
       "      <td>{'spotify': 'https://open.spotify.com/track/5S...</td>\n",
       "      <td>https://api.spotify.com/v1/tracks/5SlKhaPcdIfS...</td>\n",
       "      <td>5SlKhaPcdIfSjpoM2QtM4C</td>\n",
       "      <td>False</td>\n",
       "      <td>Dumpweed</td>\n",
       "      <td>None</td>\n",
       "      <td>1</td>\n",
       "      <td>track</td>\n",
       "      <td>spotify:track:5SlKhaPcdIfSjpoM2QtM4C</td>\n",
       "    </tr>\n",
       "    <tr>\n",
       "      <th>1</th>\n",
       "      <td>[{'external_urls': {'spotify': 'https://open.s...</td>\n",
       "      <td>[AR, AU, AT, BE, BO, BR, BG, CA, CL, CO, CR, C...</td>\n",
       "      <td>1</td>\n",
       "      <td>143573</td>\n",
       "      <td>False</td>\n",
       "      <td>{'spotify': 'https://open.spotify.com/track/1I...</td>\n",
       "      <td>https://api.spotify.com/v1/tracks/1IAeSajljaXA...</td>\n",
       "      <td>1IAeSajljaXAkLZKXBZnE8</td>\n",
       "      <td>False</td>\n",
       "      <td>Don't Leave Me</td>\n",
       "      <td>None</td>\n",
       "      <td>2</td>\n",
       "      <td>track</td>\n",
       "      <td>spotify:track:1IAeSajljaXAkLZKXBZnE8</td>\n",
       "    </tr>\n",
       "    <tr>\n",
       "      <th>2</th>\n",
       "      <td>[{'external_urls': {'spotify': 'https://open.s...</td>\n",
       "      <td>[AR, AU, AT, BE, BO, BR, BG, CA, CL, CO, CR, C...</td>\n",
       "      <td>1</td>\n",
       "      <td>193000</td>\n",
       "      <td>False</td>\n",
       "      <td>{'spotify': 'https://open.spotify.com/track/3n...</td>\n",
       "      <td>https://api.spotify.com/v1/tracks/3nqm3DdVskqb...</td>\n",
       "      <td>3nqm3DdVskqbHhmb8S8hMd</td>\n",
       "      <td>False</td>\n",
       "      <td>Aliens Exist</td>\n",
       "      <td>None</td>\n",
       "      <td>3</td>\n",
       "      <td>track</td>\n",
       "      <td>spotify:track:3nqm3DdVskqbHhmb8S8hMd</td>\n",
       "    </tr>\n",
       "    <tr>\n",
       "      <th>3</th>\n",
       "      <td>[{'external_urls': {'spotify': 'https://open.s...</td>\n",
       "      <td>[AR, AU, AT, BE, BO, BR, BG, CA, CL, CO, CR, C...</td>\n",
       "      <td>1</td>\n",
       "      <td>179333</td>\n",
       "      <td>False</td>\n",
       "      <td>{'spotify': 'https://open.spotify.com/track/4T...</td>\n",
       "      <td>https://api.spotify.com/v1/tracks/4TofVhKSYwFX...</td>\n",
       "      <td>4TofVhKSYwFXRtbYo5M3h4</td>\n",
       "      <td>False</td>\n",
       "      <td>Going Away To College</td>\n",
       "      <td>None</td>\n",
       "      <td>4</td>\n",
       "      <td>track</td>\n",
       "      <td>spotify:track:4TofVhKSYwFXRtbYo5M3h4</td>\n",
       "    </tr>\n",
       "    <tr>\n",
       "      <th>4</th>\n",
       "      <td>[{'external_urls': {'spotify': 'https://open.s...</td>\n",
       "      <td>[AR, AU, AT, BE, BO, BR, BG, CA, CL, CO, CR, C...</td>\n",
       "      <td>1</td>\n",
       "      <td>148360</td>\n",
       "      <td>True</td>\n",
       "      <td>{'spotify': 'https://open.spotify.com/track/4L...</td>\n",
       "      <td>https://api.spotify.com/v1/tracks/4LJhJ6DQS7Nw...</td>\n",
       "      <td>4LJhJ6DQS7NwE7UKtvcM52</td>\n",
       "      <td>False</td>\n",
       "      <td>What's My Age Again?</td>\n",
       "      <td>None</td>\n",
       "      <td>5</td>\n",
       "      <td>track</td>\n",
       "      <td>spotify:track:4LJhJ6DQS7NwE7UKtvcM52</td>\n",
       "    </tr>\n",
       "  </tbody>\n",
       "</table>\n",
       "</div>"
      ],
      "text/plain": [
       "                                             artists  \\\n",
       "0  [{'external_urls': {'spotify': 'https://open.s...   \n",
       "1  [{'external_urls': {'spotify': 'https://open.s...   \n",
       "2  [{'external_urls': {'spotify': 'https://open.s...   \n",
       "3  [{'external_urls': {'spotify': 'https://open.s...   \n",
       "4  [{'external_urls': {'spotify': 'https://open.s...   \n",
       "\n",
       "                                   available_markets  disc_number  \\\n",
       "0  [AR, AU, AT, BE, BO, BR, BG, CA, CL, CO, CR, C...            1   \n",
       "1  [AR, AU, AT, BE, BO, BR, BG, CA, CL, CO, CR, C...            1   \n",
       "2  [AR, AU, AT, BE, BO, BR, BG, CA, CL, CO, CR, C...            1   \n",
       "3  [AR, AU, AT, BE, BO, BR, BG, CA, CL, CO, CR, C...            1   \n",
       "4  [AR, AU, AT, BE, BO, BR, BG, CA, CL, CO, CR, C...            1   \n",
       "\n",
       "   duration_ms  explicit                                      external_urls  \\\n",
       "0       143893      True  {'spotify': 'https://open.spotify.com/track/5S...   \n",
       "1       143573     False  {'spotify': 'https://open.spotify.com/track/1I...   \n",
       "2       193000     False  {'spotify': 'https://open.spotify.com/track/3n...   \n",
       "3       179333     False  {'spotify': 'https://open.spotify.com/track/4T...   \n",
       "4       148360      True  {'spotify': 'https://open.spotify.com/track/4L...   \n",
       "\n",
       "                                                href                      id  \\\n",
       "0  https://api.spotify.com/v1/tracks/5SlKhaPcdIfS...  5SlKhaPcdIfSjpoM2QtM4C   \n",
       "1  https://api.spotify.com/v1/tracks/1IAeSajljaXA...  1IAeSajljaXAkLZKXBZnE8   \n",
       "2  https://api.spotify.com/v1/tracks/3nqm3DdVskqb...  3nqm3DdVskqbHhmb8S8hMd   \n",
       "3  https://api.spotify.com/v1/tracks/4TofVhKSYwFX...  4TofVhKSYwFXRtbYo5M3h4   \n",
       "4  https://api.spotify.com/v1/tracks/4LJhJ6DQS7Nw...  4LJhJ6DQS7NwE7UKtvcM52   \n",
       "\n",
       "   is_local                   name preview_url  track_number   type  \\\n",
       "0     False               Dumpweed        None             1  track   \n",
       "1     False         Don't Leave Me        None             2  track   \n",
       "2     False           Aliens Exist        None             3  track   \n",
       "3     False  Going Away To College        None             4  track   \n",
       "4     False   What's My Age Again?        None             5  track   \n",
       "\n",
       "                                    uri  \n",
       "0  spotify:track:5SlKhaPcdIfSjpoM2QtM4C  \n",
       "1  spotify:track:1IAeSajljaXAkLZKXBZnE8  \n",
       "2  spotify:track:3nqm3DdVskqbHhmb8S8hMd  \n",
       "3  spotify:track:4TofVhKSYwFXRtbYo5M3h4  \n",
       "4  spotify:track:4LJhJ6DQS7NwE7UKtvcM52  "
      ]
     },
     "execution_count": 41,
     "metadata": {},
     "output_type": "execute_result"
    }
   ],
   "source": [
    "Enema_df = pd.DataFrame(Enema_of_the_state['items'])\n",
    "Enema_df.head()"
   ]
  },
  {
   "cell_type": "code",
   "execution_count": 42,
   "id": "32f67ba4",
   "metadata": {},
   "outputs": [
    {
     "data": {
      "text/html": [
       "<div>\n",
       "<style scoped>\n",
       "    .dataframe tbody tr th:only-of-type {\n",
       "        vertical-align: middle;\n",
       "    }\n",
       "\n",
       "    .dataframe tbody tr th {\n",
       "        vertical-align: top;\n",
       "    }\n",
       "\n",
       "    .dataframe thead th {\n",
       "        text-align: right;\n",
       "    }\n",
       "</style>\n",
       "<table border=\"1\" class=\"dataframe\">\n",
       "  <thead>\n",
       "    <tr style=\"text-align: right;\">\n",
       "      <th></th>\n",
       "      <th>name</th>\n",
       "      <th>id</th>\n",
       "      <th>type</th>\n",
       "    </tr>\n",
       "  </thead>\n",
       "  <tbody>\n",
       "    <tr>\n",
       "      <th>0</th>\n",
       "      <td>Dumpweed</td>\n",
       "      <td>5SlKhaPcdIfSjpoM2QtM4C</td>\n",
       "      <td>track</td>\n",
       "    </tr>\n",
       "    <tr>\n",
       "      <th>1</th>\n",
       "      <td>Don't Leave Me</td>\n",
       "      <td>1IAeSajljaXAkLZKXBZnE8</td>\n",
       "      <td>track</td>\n",
       "    </tr>\n",
       "    <tr>\n",
       "      <th>2</th>\n",
       "      <td>Aliens Exist</td>\n",
       "      <td>3nqm3DdVskqbHhmb8S8hMd</td>\n",
       "      <td>track</td>\n",
       "    </tr>\n",
       "    <tr>\n",
       "      <th>3</th>\n",
       "      <td>Going Away To College</td>\n",
       "      <td>4TofVhKSYwFXRtbYo5M3h4</td>\n",
       "      <td>track</td>\n",
       "    </tr>\n",
       "    <tr>\n",
       "      <th>4</th>\n",
       "      <td>What's My Age Again?</td>\n",
       "      <td>4LJhJ6DQS7NwE7UKtvcM52</td>\n",
       "      <td>track</td>\n",
       "    </tr>\n",
       "  </tbody>\n",
       "</table>\n",
       "</div>"
      ],
      "text/plain": [
       "                    name                      id   type\n",
       "0               Dumpweed  5SlKhaPcdIfSjpoM2QtM4C  track\n",
       "1         Don't Leave Me  1IAeSajljaXAkLZKXBZnE8  track\n",
       "2           Aliens Exist  3nqm3DdVskqbHhmb8S8hMd  track\n",
       "3  Going Away To College  4TofVhKSYwFXRtbYo5M3h4  track\n",
       "4   What's My Age Again?  4LJhJ6DQS7NwE7UKtvcM52  track"
      ]
     },
     "execution_count": 42,
     "metadata": {},
     "output_type": "execute_result"
    }
   ],
   "source": [
    "enema_name_df= pd.DataFrame(Enema_df [['name','id','type']])\n",
    "enema_name_df.head()"
   ]
  },
  {
   "cell_type": "code",
   "execution_count": 43,
   "id": "725a29ba",
   "metadata": {},
   "outputs": [],
   "source": [
    "Enema_audio_features = 'https://api.spotify.com/v1/audio-features?ids={}'\\\n",
    ".format(','.join(list(Enema_df['id'])))\n"
   ]
  },
  {
   "cell_type": "code",
   "execution_count": 44,
   "id": "ec8e710c",
   "metadata": {},
   "outputs": [
    {
     "data": {
      "text/plain": [
       "200"
      ]
     },
     "execution_count": 44,
     "metadata": {},
     "output_type": "execute_result"
    }
   ],
   "source": [
    "Enema_features_response = requests.get(url = Enema_audio_features , headers = session_headers)\n",
    "Enema_features_response.status_code"
   ]
  },
  {
   "cell_type": "code",
   "execution_count": 45,
   "id": "71c6ff91",
   "metadata": {},
   "outputs": [],
   "source": [
    "enema_features = Enema_features_response.json()"
   ]
  },
  {
   "cell_type": "code",
   "execution_count": 46,
   "id": "26fa20b2",
   "metadata": {},
   "outputs": [
    {
     "data": {
      "text/plain": [
       "dict_keys(['audio_features'])"
      ]
     },
     "execution_count": 46,
     "metadata": {},
     "output_type": "execute_result"
    }
   ],
   "source": [
    "enema_features.keys()"
   ]
  },
  {
   "cell_type": "code",
   "execution_count": 47,
   "id": "7c82bc56",
   "metadata": {},
   "outputs": [
    {
     "data": {
      "text/html": [
       "<div>\n",
       "<style scoped>\n",
       "    .dataframe tbody tr th:only-of-type {\n",
       "        vertical-align: middle;\n",
       "    }\n",
       "\n",
       "    .dataframe tbody tr th {\n",
       "        vertical-align: top;\n",
       "    }\n",
       "\n",
       "    .dataframe thead th {\n",
       "        text-align: right;\n",
       "    }\n",
       "</style>\n",
       "<table border=\"1\" class=\"dataframe\">\n",
       "  <thead>\n",
       "    <tr style=\"text-align: right;\">\n",
       "      <th></th>\n",
       "      <th>danceability</th>\n",
       "      <th>energy</th>\n",
       "      <th>key</th>\n",
       "      <th>loudness</th>\n",
       "      <th>mode</th>\n",
       "      <th>speechiness</th>\n",
       "      <th>acousticness</th>\n",
       "      <th>instrumentalness</th>\n",
       "      <th>liveness</th>\n",
       "      <th>valence</th>\n",
       "      <th>tempo</th>\n",
       "      <th>type</th>\n",
       "      <th>id</th>\n",
       "      <th>uri</th>\n",
       "      <th>track_href</th>\n",
       "      <th>analysis_url</th>\n",
       "      <th>duration_ms</th>\n",
       "      <th>time_signature</th>\n",
       "    </tr>\n",
       "  </thead>\n",
       "  <tbody>\n",
       "    <tr>\n",
       "      <th>0</th>\n",
       "      <td>0.451</td>\n",
       "      <td>0.937</td>\n",
       "      <td>4</td>\n",
       "      <td>-5.524</td>\n",
       "      <td>1</td>\n",
       "      <td>0.0952</td>\n",
       "      <td>0.002440</td>\n",
       "      <td>0.000112</td>\n",
       "      <td>0.1480</td>\n",
       "      <td>0.591</td>\n",
       "      <td>100.601</td>\n",
       "      <td>audio_features</td>\n",
       "      <td>5SlKhaPcdIfSjpoM2QtM4C</td>\n",
       "      <td>spotify:track:5SlKhaPcdIfSjpoM2QtM4C</td>\n",
       "      <td>https://api.spotify.com/v1/tracks/5SlKhaPcdIfS...</td>\n",
       "      <td>https://api.spotify.com/v1/audio-analysis/5SlK...</td>\n",
       "      <td>143893</td>\n",
       "      <td>4</td>\n",
       "    </tr>\n",
       "    <tr>\n",
       "      <th>1</th>\n",
       "      <td>0.343</td>\n",
       "      <td>0.940</td>\n",
       "      <td>9</td>\n",
       "      <td>-7.094</td>\n",
       "      <td>1</td>\n",
       "      <td>0.0907</td>\n",
       "      <td>0.008620</td>\n",
       "      <td>0.000005</td>\n",
       "      <td>0.3040</td>\n",
       "      <td>0.243</td>\n",
       "      <td>145.513</td>\n",
       "      <td>audio_features</td>\n",
       "      <td>1IAeSajljaXAkLZKXBZnE8</td>\n",
       "      <td>spotify:track:1IAeSajljaXAkLZKXBZnE8</td>\n",
       "      <td>https://api.spotify.com/v1/tracks/1IAeSajljaXA...</td>\n",
       "      <td>https://api.spotify.com/v1/audio-analysis/1IAe...</td>\n",
       "      <td>143573</td>\n",
       "      <td>4</td>\n",
       "    </tr>\n",
       "    <tr>\n",
       "      <th>2</th>\n",
       "      <td>0.470</td>\n",
       "      <td>0.915</td>\n",
       "      <td>11</td>\n",
       "      <td>-6.787</td>\n",
       "      <td>1</td>\n",
       "      <td>0.1000</td>\n",
       "      <td>0.000954</td>\n",
       "      <td>0.000008</td>\n",
       "      <td>0.3500</td>\n",
       "      <td>0.690</td>\n",
       "      <td>107.569</td>\n",
       "      <td>audio_features</td>\n",
       "      <td>3nqm3DdVskqbHhmb8S8hMd</td>\n",
       "      <td>spotify:track:3nqm3DdVskqbHhmb8S8hMd</td>\n",
       "      <td>https://api.spotify.com/v1/tracks/3nqm3DdVskqb...</td>\n",
       "      <td>https://api.spotify.com/v1/audio-analysis/3nqm...</td>\n",
       "      <td>193000</td>\n",
       "      <td>4</td>\n",
       "    </tr>\n",
       "    <tr>\n",
       "      <th>3</th>\n",
       "      <td>0.532</td>\n",
       "      <td>0.753</td>\n",
       "      <td>11</td>\n",
       "      <td>-6.481</td>\n",
       "      <td>1</td>\n",
       "      <td>0.0322</td>\n",
       "      <td>0.010500</td>\n",
       "      <td>0.000000</td>\n",
       "      <td>0.3890</td>\n",
       "      <td>0.575</td>\n",
       "      <td>104.522</td>\n",
       "      <td>audio_features</td>\n",
       "      <td>4TofVhKSYwFXRtbYo5M3h4</td>\n",
       "      <td>spotify:track:4TofVhKSYwFXRtbYo5M3h4</td>\n",
       "      <td>https://api.spotify.com/v1/tracks/4TofVhKSYwFX...</td>\n",
       "      <td>https://api.spotify.com/v1/audio-analysis/4Tof...</td>\n",
       "      <td>179333</td>\n",
       "      <td>4</td>\n",
       "    </tr>\n",
       "    <tr>\n",
       "      <th>4</th>\n",
       "      <td>0.391</td>\n",
       "      <td>0.951</td>\n",
       "      <td>6</td>\n",
       "      <td>-7.419</td>\n",
       "      <td>1</td>\n",
       "      <td>0.0692</td>\n",
       "      <td>0.012600</td>\n",
       "      <td>0.000378</td>\n",
       "      <td>0.0878</td>\n",
       "      <td>0.468</td>\n",
       "      <td>157.660</td>\n",
       "      <td>audio_features</td>\n",
       "      <td>4LJhJ6DQS7NwE7UKtvcM52</td>\n",
       "      <td>spotify:track:4LJhJ6DQS7NwE7UKtvcM52</td>\n",
       "      <td>https://api.spotify.com/v1/tracks/4LJhJ6DQS7Nw...</td>\n",
       "      <td>https://api.spotify.com/v1/audio-analysis/4LJh...</td>\n",
       "      <td>148360</td>\n",
       "      <td>4</td>\n",
       "    </tr>\n",
       "  </tbody>\n",
       "</table>\n",
       "</div>"
      ],
      "text/plain": [
       "   danceability  energy  key  loudness  mode  speechiness  acousticness  \\\n",
       "0         0.451   0.937    4    -5.524     1       0.0952      0.002440   \n",
       "1         0.343   0.940    9    -7.094     1       0.0907      0.008620   \n",
       "2         0.470   0.915   11    -6.787     1       0.1000      0.000954   \n",
       "3         0.532   0.753   11    -6.481     1       0.0322      0.010500   \n",
       "4         0.391   0.951    6    -7.419     1       0.0692      0.012600   \n",
       "\n",
       "   instrumentalness  liveness  valence    tempo            type  \\\n",
       "0          0.000112    0.1480    0.591  100.601  audio_features   \n",
       "1          0.000005    0.3040    0.243  145.513  audio_features   \n",
       "2          0.000008    0.3500    0.690  107.569  audio_features   \n",
       "3          0.000000    0.3890    0.575  104.522  audio_features   \n",
       "4          0.000378    0.0878    0.468  157.660  audio_features   \n",
       "\n",
       "                       id                                   uri  \\\n",
       "0  5SlKhaPcdIfSjpoM2QtM4C  spotify:track:5SlKhaPcdIfSjpoM2QtM4C   \n",
       "1  1IAeSajljaXAkLZKXBZnE8  spotify:track:1IAeSajljaXAkLZKXBZnE8   \n",
       "2  3nqm3DdVskqbHhmb8S8hMd  spotify:track:3nqm3DdVskqbHhmb8S8hMd   \n",
       "3  4TofVhKSYwFXRtbYo5M3h4  spotify:track:4TofVhKSYwFXRtbYo5M3h4   \n",
       "4  4LJhJ6DQS7NwE7UKtvcM52  spotify:track:4LJhJ6DQS7NwE7UKtvcM52   \n",
       "\n",
       "                                          track_href  \\\n",
       "0  https://api.spotify.com/v1/tracks/5SlKhaPcdIfS...   \n",
       "1  https://api.spotify.com/v1/tracks/1IAeSajljaXA...   \n",
       "2  https://api.spotify.com/v1/tracks/3nqm3DdVskqb...   \n",
       "3  https://api.spotify.com/v1/tracks/4TofVhKSYwFX...   \n",
       "4  https://api.spotify.com/v1/tracks/4LJhJ6DQS7Nw...   \n",
       "\n",
       "                                        analysis_url  duration_ms  \\\n",
       "0  https://api.spotify.com/v1/audio-analysis/5SlK...       143893   \n",
       "1  https://api.spotify.com/v1/audio-analysis/1IAe...       143573   \n",
       "2  https://api.spotify.com/v1/audio-analysis/3nqm...       193000   \n",
       "3  https://api.spotify.com/v1/audio-analysis/4Tof...       179333   \n",
       "4  https://api.spotify.com/v1/audio-analysis/4LJh...       148360   \n",
       "\n",
       "   time_signature  \n",
       "0               4  \n",
       "1               4  \n",
       "2               4  \n",
       "3               4  \n",
       "4               4  "
      ]
     },
     "execution_count": 47,
     "metadata": {},
     "output_type": "execute_result"
    }
   ],
   "source": [
    "enema_features_df = pd.DataFrame(enema_features['audio_features'])\n",
    "enema_features_df.head()"
   ]
  },
  {
   "cell_type": "code",
   "execution_count": 48,
   "id": "96a6187e",
   "metadata": {
    "scrolled": true
   },
   "outputs": [
    {
     "data": {
      "text/html": [
       "<div>\n",
       "<style scoped>\n",
       "    .dataframe tbody tr th:only-of-type {\n",
       "        vertical-align: middle;\n",
       "    }\n",
       "\n",
       "    .dataframe tbody tr th {\n",
       "        vertical-align: top;\n",
       "    }\n",
       "\n",
       "    .dataframe thead th {\n",
       "        text-align: right;\n",
       "    }\n",
       "</style>\n",
       "<table border=\"1\" class=\"dataframe\">\n",
       "  <thead>\n",
       "    <tr style=\"text-align: right;\">\n",
       "      <th></th>\n",
       "      <th>danceability</th>\n",
       "      <th>speechiness</th>\n",
       "      <th>id</th>\n",
       "    </tr>\n",
       "  </thead>\n",
       "  <tbody>\n",
       "    <tr>\n",
       "      <th>0</th>\n",
       "      <td>0.451</td>\n",
       "      <td>0.0952</td>\n",
       "      <td>5SlKhaPcdIfSjpoM2QtM4C</td>\n",
       "    </tr>\n",
       "    <tr>\n",
       "      <th>1</th>\n",
       "      <td>0.343</td>\n",
       "      <td>0.0907</td>\n",
       "      <td>1IAeSajljaXAkLZKXBZnE8</td>\n",
       "    </tr>\n",
       "    <tr>\n",
       "      <th>2</th>\n",
       "      <td>0.470</td>\n",
       "      <td>0.1000</td>\n",
       "      <td>3nqm3DdVskqbHhmb8S8hMd</td>\n",
       "    </tr>\n",
       "    <tr>\n",
       "      <th>3</th>\n",
       "      <td>0.532</td>\n",
       "      <td>0.0322</td>\n",
       "      <td>4TofVhKSYwFXRtbYo5M3h4</td>\n",
       "    </tr>\n",
       "    <tr>\n",
       "      <th>4</th>\n",
       "      <td>0.391</td>\n",
       "      <td>0.0692</td>\n",
       "      <td>4LJhJ6DQS7NwE7UKtvcM52</td>\n",
       "    </tr>\n",
       "  </tbody>\n",
       "</table>\n",
       "</div>"
      ],
      "text/plain": [
       "   danceability  speechiness                      id\n",
       "0         0.451       0.0952  5SlKhaPcdIfSjpoM2QtM4C\n",
       "1         0.343       0.0907  1IAeSajljaXAkLZKXBZnE8\n",
       "2         0.470       0.1000  3nqm3DdVskqbHhmb8S8hMd\n",
       "3         0.532       0.0322  4TofVhKSYwFXRtbYo5M3h4\n",
       "4         0.391       0.0692  4LJhJ6DQS7NwE7UKtvcM52"
      ]
     },
     "execution_count": 48,
     "metadata": {},
     "output_type": "execute_result"
    }
   ],
   "source": [
    "enema_two_features_df= pd.DataFrame(enema_features_df[['danceability','speechiness','id']])\n",
    "enema_two_features_df.head()"
   ]
  },
  {
   "cell_type": "code",
   "execution_count": 49,
   "id": "7edc16e4",
   "metadata": {},
   "outputs": [
    {
     "data": {
      "text/html": [
       "<div>\n",
       "<style scoped>\n",
       "    .dataframe tbody tr th:only-of-type {\n",
       "        vertical-align: middle;\n",
       "    }\n",
       "\n",
       "    .dataframe tbody tr th {\n",
       "        vertical-align: top;\n",
       "    }\n",
       "\n",
       "    .dataframe thead th {\n",
       "        text-align: right;\n",
       "    }\n",
       "</style>\n",
       "<table border=\"1\" class=\"dataframe\">\n",
       "  <thead>\n",
       "    <tr style=\"text-align: right;\">\n",
       "      <th></th>\n",
       "      <th>name</th>\n",
       "      <th>id</th>\n",
       "      <th>type</th>\n",
       "      <th>danceability</th>\n",
       "      <th>speechiness</th>\n",
       "    </tr>\n",
       "  </thead>\n",
       "  <tbody>\n",
       "    <tr>\n",
       "      <th>0</th>\n",
       "      <td>Dumpweed</td>\n",
       "      <td>5SlKhaPcdIfSjpoM2QtM4C</td>\n",
       "      <td>track</td>\n",
       "      <td>0.451</td>\n",
       "      <td>0.0952</td>\n",
       "    </tr>\n",
       "    <tr>\n",
       "      <th>1</th>\n",
       "      <td>Don't Leave Me</td>\n",
       "      <td>1IAeSajljaXAkLZKXBZnE8</td>\n",
       "      <td>track</td>\n",
       "      <td>0.343</td>\n",
       "      <td>0.0907</td>\n",
       "    </tr>\n",
       "    <tr>\n",
       "      <th>2</th>\n",
       "      <td>Aliens Exist</td>\n",
       "      <td>3nqm3DdVskqbHhmb8S8hMd</td>\n",
       "      <td>track</td>\n",
       "      <td>0.470</td>\n",
       "      <td>0.1000</td>\n",
       "    </tr>\n",
       "    <tr>\n",
       "      <th>3</th>\n",
       "      <td>Going Away To College</td>\n",
       "      <td>4TofVhKSYwFXRtbYo5M3h4</td>\n",
       "      <td>track</td>\n",
       "      <td>0.532</td>\n",
       "      <td>0.0322</td>\n",
       "    </tr>\n",
       "    <tr>\n",
       "      <th>4</th>\n",
       "      <td>What's My Age Again?</td>\n",
       "      <td>4LJhJ6DQS7NwE7UKtvcM52</td>\n",
       "      <td>track</td>\n",
       "      <td>0.391</td>\n",
       "      <td>0.0692</td>\n",
       "    </tr>\n",
       "  </tbody>\n",
       "</table>\n",
       "</div>"
      ],
      "text/plain": [
       "                    name                      id   type  danceability  \\\n",
       "0               Dumpweed  5SlKhaPcdIfSjpoM2QtM4C  track         0.451   \n",
       "1         Don't Leave Me  1IAeSajljaXAkLZKXBZnE8  track         0.343   \n",
       "2           Aliens Exist  3nqm3DdVskqbHhmb8S8hMd  track         0.470   \n",
       "3  Going Away To College  4TofVhKSYwFXRtbYo5M3h4  track         0.532   \n",
       "4   What's My Age Again?  4LJhJ6DQS7NwE7UKtvcM52  track         0.391   \n",
       "\n",
       "   speechiness  \n",
       "0       0.0952  \n",
       "1       0.0907  \n",
       "2       0.1000  \n",
       "3       0.0322  \n",
       "4       0.0692  "
      ]
     },
     "execution_count": 49,
     "metadata": {},
     "output_type": "execute_result"
    }
   ],
   "source": [
    "enema_final_df= pd.merge(enema_name_df, enema_two_features_df, how = 'inner', on = 'id')\n",
    "enema_final_df.head()"
   ]
  },
  {
   "cell_type": "markdown",
   "id": "a217ca22",
   "metadata": {},
   "source": [
    "My next graph represents the picked album's danceability vs speechiness. As we can see, a popular album from the early 2000s could have been more danceable, with low speeches."
   ]
  },
  {
   "cell_type": "code",
   "execution_count": 50,
   "id": "4e93a01d",
   "metadata": {},
   "outputs": [
    {
     "data": {
      "image/png": "[encoded data removed]",
      "text/plain": [
       "<Figure size 640x480 with 1 Axes>"
      ]
     },
     "metadata": {},
     "output_type": "display_data"
    }
   ],
   "source": [
    "fig4, ax4 =  plt.subplots()\n",
    "ax4.scatter( x = enema_final_df ['danceability'], \n",
    "             y = enema_final_df['speechiness'],alpha= .5, color =\"#2F9B61\" )\n",
    "\n",
    "ax4.set_xlabel('Danceability')\n",
    "ax4.set_ylabel('speechiness')\n",
    "plt.show()"
   ]
  },
  {
   "cell_type": "markdown",
   "id": "6c9ed4e7",
   "metadata": {},
   "source": [
    "to get more information about tracks I used audio-features endpoint. This will help me to understand what type of tracks people liked back in 2000s"
   ]
  },
  {
   "cell_type": "markdown",
   "id": "30e7898d",
   "metadata": {},
   "source": [
    "### I will repeat the same process again with new playlist "
   ]
  },
  {
   "cell_type": "markdown",
   "id": "2324ddff",
   "metadata": {},
   "source": [
    "# Hits of 2022"
   ]
  },
  {
   "cell_type": "markdown",
   "id": "807636ea",
   "metadata": {},
   "source": [
    "### I repeated the first two graph for songs and album from 2022 "
   ]
  },
  {
   "cell_type": "code",
   "execution_count": 51,
   "id": "d92ef707",
   "metadata": {},
   "outputs": [],
   "source": [
    "new_id= \"56r5qRUv3jSxADdmBkhcz7\""
   ]
  },
  {
   "cell_type": "code",
   "execution_count": 52,
   "id": "9f200585",
   "metadata": {},
   "outputs": [],
   "source": [
    "new_playlist_url = 'https://api.spotify.com/v1/playlists/{}'.format(new_id)"
   ]
  },
  {
   "cell_type": "code",
   "execution_count": 53,
   "id": "efa321f1",
   "metadata": {},
   "outputs": [],
   "source": [
    "new_playlist_url_response = requests.get(url = new_playlist_url, headers = session_headers)\n"
   ]
  },
  {
   "cell_type": "code",
   "execution_count": 54,
   "id": "174b20d7",
   "metadata": {},
   "outputs": [],
   "source": [
    "new_playlist_url_data=new_playlist_url_response.json()"
   ]
  },
  {
   "cell_type": "code",
   "execution_count": 55,
   "id": "0c2e643e",
   "metadata": {},
   "outputs": [
    {
     "data": {
      "text/plain": [
       "dict_keys(['collaborative', 'description', 'external_urls', 'followers', 'href', 'id', 'images', 'name', 'owner', 'primary_color', 'public', 'snapshot_id', 'tracks', 'type', 'uri'])"
      ]
     },
     "execution_count": 55,
     "metadata": {},
     "output_type": "execute_result"
    }
   ],
   "source": [
    "new_playlist_url_data.keys()"
   ]
  },
  {
   "cell_type": "code",
   "execution_count": 56,
   "id": "ad794140",
   "metadata": {},
   "outputs": [
    {
     "data": {
      "text/html": [
       "<div>\n",
       "<style scoped>\n",
       "    .dataframe tbody tr th:only-of-type {\n",
       "        vertical-align: middle;\n",
       "    }\n",
       "\n",
       "    .dataframe tbody tr th {\n",
       "        vertical-align: top;\n",
       "    }\n",
       "\n",
       "    .dataframe thead th {\n",
       "        text-align: right;\n",
       "    }\n",
       "</style>\n",
       "<table border=\"1\" class=\"dataframe\">\n",
       "  <thead>\n",
       "    <tr style=\"text-align: right;\">\n",
       "      <th></th>\n",
       "      <th>album</th>\n",
       "      <th>artists</th>\n",
       "      <th>available_markets</th>\n",
       "      <th>disc_number</th>\n",
       "      <th>duration_ms</th>\n",
       "      <th>episode</th>\n",
       "      <th>explicit</th>\n",
       "      <th>external_ids</th>\n",
       "      <th>external_urls</th>\n",
       "      <th>href</th>\n",
       "      <th>id</th>\n",
       "      <th>is_local</th>\n",
       "      <th>name</th>\n",
       "      <th>popularity</th>\n",
       "      <th>preview_url</th>\n",
       "      <th>track</th>\n",
       "      <th>track_number</th>\n",
       "      <th>type</th>\n",
       "      <th>uri</th>\n",
       "    </tr>\n",
       "  </thead>\n",
       "  <tbody>\n",
       "    <tr>\n",
       "      <th>0</th>\n",
       "      <td>{'album_type': 'single', 'artists': [{'externa...</td>\n",
       "      <td>[{'external_urls': {'spotify': 'https://open.s...</td>\n",
       "      <td>[]</td>\n",
       "      <td>1</td>\n",
       "      <td>167303</td>\n",
       "      <td>False</td>\n",
       "      <td>False</td>\n",
       "      <td>{'isrc': 'USSM12200612'}</td>\n",
       "      <td>{'spotify': 'https://open.spotify.com/track/4L...</td>\n",
       "      <td>https://api.spotify.com/v1/tracks/4LRPiXqCikLl...</td>\n",
       "      <td>4LRPiXqCikLlN15c3yImP7</td>\n",
       "      <td>False</td>\n",
       "      <td>As It Was</td>\n",
       "      <td>60</td>\n",
       "      <td>None</td>\n",
       "      <td>True</td>\n",
       "      <td>1</td>\n",
       "      <td>track</td>\n",
       "      <td>spotify:track:4LRPiXqCikLlN15c3yImP7</td>\n",
       "    </tr>\n",
       "    <tr>\n",
       "      <th>1</th>\n",
       "      <td>{'album_type': 'album', 'artists': [{'external...</td>\n",
       "      <td>[{'external_urls': {'spotify': 'https://open.s...</td>\n",
       "      <td>[AR, AU, AT, BE, BO, BR, BG, CA, CL, CO, CR, C...</td>\n",
       "      <td>1</td>\n",
       "      <td>200690</td>\n",
       "      <td>False</td>\n",
       "      <td>False</td>\n",
       "      <td>{'isrc': 'USUG12205736'}</td>\n",
       "      <td>{'spotify': 'https://open.spotify.com/track/0V...</td>\n",
       "      <td>https://api.spotify.com/v1/tracks/0V3wPSX9ygBn...</td>\n",
       "      <td>0V3wPSX9ygBnCm8psDIegu</td>\n",
       "      <td>False</td>\n",
       "      <td>Anti-Hero</td>\n",
       "      <td>92</td>\n",
       "      <td>None</td>\n",
       "      <td>True</td>\n",
       "      <td>3</td>\n",
       "      <td>track</td>\n",
       "      <td>spotify:track:0V3wPSX9ygBnCm8psDIegu</td>\n",
       "    </tr>\n",
       "  </tbody>\n",
       "</table>\n",
       "</div>"
      ],
      "text/plain": [
       "                                               album  \\\n",
       "0  {'album_type': 'single', 'artists': [{'externa...   \n",
       "1  {'album_type': 'album', 'artists': [{'external...   \n",
       "\n",
       "                                             artists  \\\n",
       "0  [{'external_urls': {'spotify': 'https://open.s...   \n",
       "1  [{'external_urls': {'spotify': 'https://open.s...   \n",
       "\n",
       "                                   available_markets  disc_number  \\\n",
       "0                                                 []            1   \n",
       "1  [AR, AU, AT, BE, BO, BR, BG, CA, CL, CO, CR, C...            1   \n",
       "\n",
       "   duration_ms  episode  explicit              external_ids  \\\n",
       "0       167303    False     False  {'isrc': 'USSM12200612'}   \n",
       "1       200690    False     False  {'isrc': 'USUG12205736'}   \n",
       "\n",
       "                                       external_urls  \\\n",
       "0  {'spotify': 'https://open.spotify.com/track/4L...   \n",
       "1  {'spotify': 'https://open.spotify.com/track/0V...   \n",
       "\n",
       "                                                href                      id  \\\n",
       "0  https://api.spotify.com/v1/tracks/4LRPiXqCikLl...  4LRPiXqCikLlN15c3yImP7   \n",
       "1  https://api.spotify.com/v1/tracks/0V3wPSX9ygBn...  0V3wPSX9ygBnCm8psDIegu   \n",
       "\n",
       "   is_local       name  popularity preview_url  track  track_number   type  \\\n",
       "0     False  As It Was          60        None   True             1  track   \n",
       "1     False  Anti-Hero          92        None   True             3  track   \n",
       "\n",
       "                                    uri  \n",
       "0  spotify:track:4LRPiXqCikLlN15c3yImP7  \n",
       "1  spotify:track:0V3wPSX9ygBnCm8psDIegu  "
      ]
     },
     "execution_count": 56,
     "metadata": {},
     "output_type": "execute_result"
    }
   ],
   "source": [
    "new_playlist_df = pd.DataFrame([x['track'] for x in new_playlist_url_data['tracks']['items']])\n",
    "new_playlist_df.head(2)"
   ]
  },
  {
   "cell_type": "code",
   "execution_count": 57,
   "id": "f80f1556",
   "metadata": {},
   "outputs": [
    {
     "data": {
      "text/html": [
       "<div>\n",
       "<style scoped>\n",
       "    .dataframe tbody tr th:only-of-type {\n",
       "        vertical-align: middle;\n",
       "    }\n",
       "\n",
       "    .dataframe tbody tr th {\n",
       "        vertical-align: top;\n",
       "    }\n",
       "\n",
       "    .dataframe thead th {\n",
       "        text-align: right;\n",
       "    }\n",
       "</style>\n",
       "<table border=\"1\" class=\"dataframe\">\n",
       "  <thead>\n",
       "    <tr style=\"text-align: right;\">\n",
       "      <th></th>\n",
       "      <th>album_type</th>\n",
       "      <th>artists</th>\n",
       "      <th>available_markets</th>\n",
       "      <th>external_urls</th>\n",
       "      <th>href</th>\n",
       "      <th>id</th>\n",
       "      <th>images</th>\n",
       "      <th>name</th>\n",
       "      <th>release_date</th>\n",
       "      <th>release_date_precision</th>\n",
       "      <th>total_tracks</th>\n",
       "      <th>type</th>\n",
       "      <th>uri</th>\n",
       "    </tr>\n",
       "  </thead>\n",
       "  <tbody>\n",
       "    <tr>\n",
       "      <th>0</th>\n",
       "      <td>single</td>\n",
       "      <td>[{'external_urls': {'spotify': 'https://open.s...</td>\n",
       "      <td>[]</td>\n",
       "      <td>{'spotify': 'https://open.spotify.com/album/2p...</td>\n",
       "      <td>https://api.spotify.com/v1/albums/2pqdSWeJVsXA...</td>\n",
       "      <td>2pqdSWeJVsXAhHFuVLzuA8</td>\n",
       "      <td>[{'height': 640, 'url': 'https://i.scdn.co/ima...</td>\n",
       "      <td>As It Was</td>\n",
       "      <td>2022-03-31</td>\n",
       "      <td>day</td>\n",
       "      <td>1</td>\n",
       "      <td>album</td>\n",
       "      <td>spotify:album:2pqdSWeJVsXAhHFuVLzuA8</td>\n",
       "    </tr>\n",
       "    <tr>\n",
       "      <th>1</th>\n",
       "      <td>album</td>\n",
       "      <td>[{'external_urls': {'spotify': 'https://open.s...</td>\n",
       "      <td>[AR, AU, AT, BE, BO, BR, BG, CA, CL, CO, CR, C...</td>\n",
       "      <td>{'spotify': 'https://open.spotify.com/album/15...</td>\n",
       "      <td>https://api.spotify.com/v1/albums/151w1FgRZfnK...</td>\n",
       "      <td>151w1FgRZfnKZA9FEcg9Z3</td>\n",
       "      <td>[{'height': 640, 'url': 'https://i.scdn.co/ima...</td>\n",
       "      <td>Midnights</td>\n",
       "      <td>2022-10-21</td>\n",
       "      <td>day</td>\n",
       "      <td>13</td>\n",
       "      <td>album</td>\n",
       "      <td>spotify:album:151w1FgRZfnKZA9FEcg9Z3</td>\n",
       "    </tr>\n",
       "    <tr>\n",
       "      <th>2</th>\n",
       "      <td>album</td>\n",
       "      <td>[{'external_urls': {'spotify': 'https://open.s...</td>\n",
       "      <td>[]</td>\n",
       "      <td>{'spotify': 'https://open.spotify.com/album/0K...</td>\n",
       "      <td>https://api.spotify.com/v1/albums/0KTj6k94XZh0...</td>\n",
       "      <td>0KTj6k94XZh0c6IEMfxeWV</td>\n",
       "      <td>[{'height': 640, 'url': 'https://i.scdn.co/ima...</td>\n",
       "      <td>Dreamland (+ Bonus Levels)</td>\n",
       "      <td>2020-08-06</td>\n",
       "      <td>day</td>\n",
       "      <td>18</td>\n",
       "      <td>album</td>\n",
       "      <td>spotify:album:0KTj6k94XZh0c6IEMfxeWV</td>\n",
       "    </tr>\n",
       "    <tr>\n",
       "      <th>3</th>\n",
       "      <td>single</td>\n",
       "      <td>[{'external_urls': {'spotify': 'https://open.s...</td>\n",
       "      <td>[AR, AU, AT, BE, BO, BR, BG, CA, CL, CO, CR, C...</td>\n",
       "      <td>{'spotify': 'https://open.spotify.com/album/0g...</td>\n",
       "      <td>https://api.spotify.com/v1/albums/0gX9tkL5njRa...</td>\n",
       "      <td>0gX9tkL5njRax8ymWcXARi</td>\n",
       "      <td>[{'height': 640, 'url': 'https://i.scdn.co/ima...</td>\n",
       "      <td>Unholy (feat. Kim Petras)</td>\n",
       "      <td>2022-09-22</td>\n",
       "      <td>day</td>\n",
       "      <td>1</td>\n",
       "      <td>album</td>\n",
       "      <td>spotify:album:0gX9tkL5njRax8ymWcXARi</td>\n",
       "    </tr>\n",
       "    <tr>\n",
       "      <th>4</th>\n",
       "      <td>album</td>\n",
       "      <td>[{'external_urls': {'spotify': 'https://open.s...</td>\n",
       "      <td>[AR, AU, AT, BE, BO, BR, BG, CA, CL, CO, CR, C...</td>\n",
       "      <td>{'spotify': 'https://open.spotify.com/album/3R...</td>\n",
       "      <td>https://api.spotify.com/v1/albums/3RQQmkQEvNCY...</td>\n",
       "      <td>3RQQmkQEvNCY4prGKE6oc5</td>\n",
       "      <td>[{'height': 640, 'url': 'https://i.scdn.co/ima...</td>\n",
       "      <td>Un Verano Sin Ti</td>\n",
       "      <td>2022-05-06</td>\n",
       "      <td>day</td>\n",
       "      <td>23</td>\n",
       "      <td>album</td>\n",
       "      <td>spotify:album:3RQQmkQEvNCY4prGKE6oc5</td>\n",
       "    </tr>\n",
       "  </tbody>\n",
       "</table>\n",
       "</div>"
      ],
      "text/plain": [
       "  album_type                                            artists  \\\n",
       "0     single  [{'external_urls': {'spotify': 'https://open.s...   \n",
       "1      album  [{'external_urls': {'spotify': 'https://open.s...   \n",
       "2      album  [{'external_urls': {'spotify': 'https://open.s...   \n",
       "3     single  [{'external_urls': {'spotify': 'https://open.s...   \n",
       "4      album  [{'external_urls': {'spotify': 'https://open.s...   \n",
       "\n",
       "                                   available_markets  \\\n",
       "0                                                 []   \n",
       "1  [AR, AU, AT, BE, BO, BR, BG, CA, CL, CO, CR, C...   \n",
       "2                                                 []   \n",
       "3  [AR, AU, AT, BE, BO, BR, BG, CA, CL, CO, CR, C...   \n",
       "4  [AR, AU, AT, BE, BO, BR, BG, CA, CL, CO, CR, C...   \n",
       "\n",
       "                                       external_urls  \\\n",
       "0  {'spotify': 'https://open.spotify.com/album/2p...   \n",
       "1  {'spotify': 'https://open.spotify.com/album/15...   \n",
       "2  {'spotify': 'https://open.spotify.com/album/0K...   \n",
       "3  {'spotify': 'https://open.spotify.com/album/0g...   \n",
       "4  {'spotify': 'https://open.spotify.com/album/3R...   \n",
       "\n",
       "                                                href                      id  \\\n",
       "0  https://api.spotify.com/v1/albums/2pqdSWeJVsXA...  2pqdSWeJVsXAhHFuVLzuA8   \n",
       "1  https://api.spotify.com/v1/albums/151w1FgRZfnK...  151w1FgRZfnKZA9FEcg9Z3   \n",
       "2  https://api.spotify.com/v1/albums/0KTj6k94XZh0...  0KTj6k94XZh0c6IEMfxeWV   \n",
       "3  https://api.spotify.com/v1/albums/0gX9tkL5njRa...  0gX9tkL5njRax8ymWcXARi   \n",
       "4  https://api.spotify.com/v1/albums/3RQQmkQEvNCY...  3RQQmkQEvNCY4prGKE6oc5   \n",
       "\n",
       "                                              images  \\\n",
       "0  [{'height': 640, 'url': 'https://i.scdn.co/ima...   \n",
       "1  [{'height': 640, 'url': 'https://i.scdn.co/ima...   \n",
       "2  [{'height': 640, 'url': 'https://i.scdn.co/ima...   \n",
       "3  [{'height': 640, 'url': 'https://i.scdn.co/ima...   \n",
       "4  [{'height': 640, 'url': 'https://i.scdn.co/ima...   \n",
       "\n",
       "                         name release_date release_date_precision  \\\n",
       "0                   As It Was   2022-03-31                    day   \n",
       "1                   Midnights   2022-10-21                    day   \n",
       "2  Dreamland (+ Bonus Levels)   2020-08-06                    day   \n",
       "3   Unholy (feat. Kim Petras)   2022-09-22                    day   \n",
       "4            Un Verano Sin Ti   2022-05-06                    day   \n",
       "\n",
       "   total_tracks   type                                   uri  \n",
       "0             1  album  spotify:album:2pqdSWeJVsXAhHFuVLzuA8  \n",
       "1            13  album  spotify:album:151w1FgRZfnKZA9FEcg9Z3  \n",
       "2            18  album  spotify:album:0KTj6k94XZh0c6IEMfxeWV  \n",
       "3             1  album  spotify:album:0gX9tkL5njRax8ymWcXARi  \n",
       "4            23  album  spotify:album:3RQQmkQEvNCY4prGKE6oc5  "
      ]
     },
     "execution_count": 57,
     "metadata": {},
     "output_type": "execute_result"
    }
   ],
   "source": [
    "new_release_dates = pd.DataFrame([x['track']['album']for x in new_playlist_url_data['tracks']['items']])\n",
    "new_release_dates.head()"
   ]
  },
  {
   "cell_type": "code",
   "execution_count": 58,
   "id": "2922cba7",
   "metadata": {},
   "outputs": [
    {
     "data": {
      "text/html": [
       "<div>\n",
       "<style scoped>\n",
       "    .dataframe tbody tr th:only-of-type {\n",
       "        vertical-align: middle;\n",
       "    }\n",
       "\n",
       "    .dataframe tbody tr th {\n",
       "        vertical-align: top;\n",
       "    }\n",
       "\n",
       "    .dataframe thead th {\n",
       "        text-align: right;\n",
       "    }\n",
       "</style>\n",
       "<table border=\"1\" class=\"dataframe\">\n",
       "  <thead>\n",
       "    <tr style=\"text-align: right;\">\n",
       "      <th></th>\n",
       "      <th>name</th>\n",
       "      <th>release_date</th>\n",
       "      <th>id</th>\n",
       "      <th>type</th>\n",
       "    </tr>\n",
       "  </thead>\n",
       "  <tbody>\n",
       "    <tr>\n",
       "      <th>1</th>\n",
       "      <td>Midnights</td>\n",
       "      <td>2022-10-21</td>\n",
       "      <td>151w1FgRZfnKZA9FEcg9Z3</td>\n",
       "      <td>album</td>\n",
       "    </tr>\n",
       "    <tr>\n",
       "      <th>3</th>\n",
       "      <td>Unholy (feat. Kim Petras)</td>\n",
       "      <td>2022-09-22</td>\n",
       "      <td>0gX9tkL5njRax8ymWcXARi</td>\n",
       "      <td>album</td>\n",
       "    </tr>\n",
       "    <tr>\n",
       "      <th>4</th>\n",
       "      <td>Un Verano Sin Ti</td>\n",
       "      <td>2022-05-06</td>\n",
       "      <td>3RQQmkQEvNCY4prGKE6oc5</td>\n",
       "      <td>album</td>\n",
       "    </tr>\n",
       "    <tr>\n",
       "      <th>0</th>\n",
       "      <td>As It Was</td>\n",
       "      <td>2022-03-31</td>\n",
       "      <td>2pqdSWeJVsXAhHFuVLzuA8</td>\n",
       "      <td>album</td>\n",
       "    </tr>\n",
       "    <tr>\n",
       "      <th>2</th>\n",
       "      <td>Dreamland (+ Bonus Levels)</td>\n",
       "      <td>2020-08-06</td>\n",
       "      <td>0KTj6k94XZh0c6IEMfxeWV</td>\n",
       "      <td>album</td>\n",
       "    </tr>\n",
       "  </tbody>\n",
       "</table>\n",
       "</div>"
      ],
      "text/plain": [
       "                         name release_date                      id   type\n",
       "1                   Midnights   2022-10-21  151w1FgRZfnKZA9FEcg9Z3  album\n",
       "3   Unholy (feat. Kim Petras)   2022-09-22  0gX9tkL5njRax8ymWcXARi  album\n",
       "4            Un Verano Sin Ti   2022-05-06  3RQQmkQEvNCY4prGKE6oc5  album\n",
       "0                   As It Was   2022-03-31  2pqdSWeJVsXAhHFuVLzuA8  album\n",
       "2  Dreamland (+ Bonus Levels)   2020-08-06  0KTj6k94XZh0c6IEMfxeWV  album"
      ]
     },
     "execution_count": 58,
     "metadata": {},
     "output_type": "execute_result"
    }
   ],
   "source": [
    "new_albums_dates= pd.DataFrame (new_release_dates[['name','release_date','id','type']])\n",
    "new_albums_dates.head(5).sort_values('release_date',ascending = False)"
   ]
  },
  {
   "cell_type": "code",
   "execution_count": 59,
   "id": "bc292b20",
   "metadata": {},
   "outputs": [],
   "source": [
    "get_new_albums_url = 'https://api.spotify.com/v1/albums?ids={}'\\\n",
    ".format(','.join(list(new_albums_dates['id'] [0:20])))"
   ]
  },
  {
   "cell_type": "code",
   "execution_count": 60,
   "id": "961bd32d",
   "metadata": {},
   "outputs": [
    {
     "data": {
      "text/plain": [
       "'https://api.spotify.com/v1/albums?ids=2pqdSWeJVsXAhHFuVLzuA8,151w1FgRZfnKZA9FEcg9Z3,0KTj6k94XZh0c6IEMfxeWV,0gX9tkL5njRax8ymWcXARi,3RQQmkQEvNCY4prGKE6oc5,6FJxoadUE4JNVwWHghBwnb,3OYnManu1Nlxnw9OMng7BH,6ZZvx0aefZV3LKa053fn71,6tUQPKlpR4x1gjrXTtOImI,3Ks0eeH0GWpY4AU20D5HPD,4PNqWiJAfjj32hVvlchV5u,4uVXrwE4aSV2L2aqAHSOXa,5dGWwsZ9iB2Xc3UKR0gif2,4JApkbiesQxv5drdEZRlZC,5r36AJ6VOJtp00oxSkBZ5h,6s84u2TUpR3wdUv4NgKA2j,3RQQmkQEvNCY4prGKE6oc5,0h5MuD9O9o1VoN07mQmwMQ,622NFw5Yk0OReMJ2XWcXUh,5omNd3Mkij9C3ZeW19rRmv'"
      ]
     },
     "execution_count": 60,
     "metadata": {},
     "output_type": "execute_result"
    }
   ],
   "source": [
    "get_new_albums_url"
   ]
  },
  {
   "cell_type": "code",
   "execution_count": 61,
   "id": "3cd141fd",
   "metadata": {},
   "outputs": [
    {
     "data": {
      "text/plain": [
       "200"
      ]
     },
     "execution_count": 61,
     "metadata": {},
     "output_type": "execute_result"
    }
   ],
   "source": [
    "new_album_features =requests.get(url = get_new_albums_url , headers = session_headers)\n",
    "new_album_features.status_code"
   ]
  },
  {
   "cell_type": "code",
   "execution_count": 62,
   "id": "6975b8b1",
   "metadata": {},
   "outputs": [],
   "source": [
    "new_album_response = new_album_features.json()"
   ]
  },
  {
   "cell_type": "code",
   "execution_count": 63,
   "id": "e4010a4c",
   "metadata": {},
   "outputs": [
    {
     "data": {
      "text/plain": [
       "dict_keys(['albums'])"
      ]
     },
     "execution_count": 63,
     "metadata": {},
     "output_type": "execute_result"
    }
   ],
   "source": [
    "new_album_response.keys()"
   ]
  },
  {
   "cell_type": "code",
   "execution_count": 64,
   "id": "0c545ecb",
   "metadata": {},
   "outputs": [],
   "source": [
    "new_album_response_df = pd.DataFrame(new_album_response['albums'])"
   ]
  },
  {
   "cell_type": "code",
   "execution_count": 65,
   "id": "78a0cdde",
   "metadata": {},
   "outputs": [
    {
     "data": {
      "text/html": [
       "<div>\n",
       "<style scoped>\n",
       "    .dataframe tbody tr th:only-of-type {\n",
       "        vertical-align: middle;\n",
       "    }\n",
       "\n",
       "    .dataframe tbody tr th {\n",
       "        vertical-align: top;\n",
       "    }\n",
       "\n",
       "    .dataframe thead th {\n",
       "        text-align: right;\n",
       "    }\n",
       "</style>\n",
       "<table border=\"1\" class=\"dataframe\">\n",
       "  <thead>\n",
       "    <tr style=\"text-align: right;\">\n",
       "      <th></th>\n",
       "      <th>name</th>\n",
       "      <th>popularity</th>\n",
       "      <th>release_date</th>\n",
       "      <th>id</th>\n",
       "      <th>type</th>\n",
       "    </tr>\n",
       "  </thead>\n",
       "  <tbody>\n",
       "    <tr>\n",
       "      <th>4</th>\n",
       "      <td>Un Verano Sin Ti</td>\n",
       "      <td>94</td>\n",
       "      <td>2022-05-06</td>\n",
       "      <td>3RQQmkQEvNCY4prGKE6oc5</td>\n",
       "      <td>album</td>\n",
       "    </tr>\n",
       "    <tr>\n",
       "      <th>1</th>\n",
       "      <td>Midnights</td>\n",
       "      <td>92</td>\n",
       "      <td>2022-10-21</td>\n",
       "      <td>151w1FgRZfnKZA9FEcg9Z3</td>\n",
       "      <td>album</td>\n",
       "    </tr>\n",
       "    <tr>\n",
       "      <th>5</th>\n",
       "      <td>RENAISSANCE</td>\n",
       "      <td>85</td>\n",
       "      <td>2022-07-29</td>\n",
       "      <td>6FJxoadUE4JNVwWHghBwnb</td>\n",
       "      <td>album</td>\n",
       "    </tr>\n",
       "    <tr>\n",
       "      <th>3</th>\n",
       "      <td>Unholy (feat. Kim Petras)</td>\n",
       "      <td>75</td>\n",
       "      <td>2022-09-22</td>\n",
       "      <td>0gX9tkL5njRax8ymWcXARi</td>\n",
       "      <td>album</td>\n",
       "    </tr>\n",
       "    <tr>\n",
       "      <th>0</th>\n",
       "      <td>As It Was</td>\n",
       "      <td>50</td>\n",
       "      <td>2022-03-31</td>\n",
       "      <td>2pqdSWeJVsXAhHFuVLzuA8</td>\n",
       "      <td>album</td>\n",
       "    </tr>\n",
       "    <tr>\n",
       "      <th>2</th>\n",
       "      <td>Dreamland (+ Bonus Levels)</td>\n",
       "      <td>17</td>\n",
       "      <td>2020-08-06</td>\n",
       "      <td>0KTj6k94XZh0c6IEMfxeWV</td>\n",
       "      <td>album</td>\n",
       "    </tr>\n",
       "  </tbody>\n",
       "</table>\n",
       "</div>"
      ],
      "text/plain": [
       "                         name  popularity release_date  \\\n",
       "4            Un Verano Sin Ti          94   2022-05-06   \n",
       "1                   Midnights          92   2022-10-21   \n",
       "5                 RENAISSANCE          85   2022-07-29   \n",
       "3   Unholy (feat. Kim Petras)          75   2022-09-22   \n",
       "0                   As It Was          50   2022-03-31   \n",
       "2  Dreamland (+ Bonus Levels)          17   2020-08-06   \n",
       "\n",
       "                       id   type  \n",
       "4  3RQQmkQEvNCY4prGKE6oc5  album  \n",
       "1  151w1FgRZfnKZA9FEcg9Z3  album  \n",
       "5  6FJxoadUE4JNVwWHghBwnb  album  \n",
       "3  0gX9tkL5njRax8ymWcXARi  album  \n",
       "0  2pqdSWeJVsXAhHFuVLzuA8  album  \n",
       "2  0KTj6k94XZh0c6IEMfxeWV  album  "
      ]
     },
     "execution_count": 65,
     "metadata": {},
     "output_type": "execute_result"
    }
   ],
   "source": [
    "new_albums_popularity_df= pd.DataFrame (new_album_response_df[['name','popularity','release_date','id','type']])\n",
    "new_albums_popularity_df.head(6).sort_values('popularity',ascending = False)"
   ]
  },
  {
   "cell_type": "code",
   "execution_count": 66,
   "id": "e5ed2d42",
   "metadata": {},
   "outputs": [
    {
     "data": {
      "image/png": "[encoded data removed]",
      "text/plain": [
       "<Figure size 640x480 with 1 Axes>"
      ]
     },
     "metadata": {},
     "output_type": "display_data"
    }
   ],
   "source": [
    "fig2, ax2 =  plt.subplots()\n",
    "ax2.scatter( x = new_albums_popularity_df ['popularity'], \n",
    "             y = new_albums_popularity_df['release_date'],alpha= .5, color='#E3001E')\n",
    "\n",
    "ax2.set_xlabel('Popularity')\n",
    "ax2.set_ylabel('Release Date')\n",
    "plt.show()"
   ]
  },
  {
   "cell_type": "code",
   "execution_count": 67,
   "id": "c343e047",
   "metadata": {},
   "outputs": [],
   "source": [
    "new_album_id = \"151w1FgRZfnKZA9FEcg9Z3\""
   ]
  },
  {
   "cell_type": "code",
   "execution_count": 68,
   "id": "dae6e8da",
   "metadata": {},
   "outputs": [],
   "source": [
    "mid_album_url = 'https://api.spotify.com/v1/albums/{}/tracks'.format(new_album_id)\n"
   ]
  },
  {
   "cell_type": "code",
   "execution_count": 69,
   "id": "e2644932",
   "metadata": {},
   "outputs": [
    {
     "data": {
      "text/plain": [
       "200"
      ]
     },
     "execution_count": 69,
     "metadata": {},
     "output_type": "execute_result"
    }
   ],
   "source": [
    "mid_album_response = requests.get(url = mid_album_url, headers = session_headers)\n",
    "mid_album_response.status_code"
   ]
  },
  {
   "cell_type": "code",
   "execution_count": 70,
   "id": "06e0d92b",
   "metadata": {},
   "outputs": [],
   "source": [
    "mid_of_the_state = mid_album_response.json()"
   ]
  },
  {
   "cell_type": "code",
   "execution_count": 71,
   "id": "af48403c",
   "metadata": {},
   "outputs": [
    {
     "data": {
      "text/html": [
       "<div>\n",
       "<style scoped>\n",
       "    .dataframe tbody tr th:only-of-type {\n",
       "        vertical-align: middle;\n",
       "    }\n",
       "\n",
       "    .dataframe tbody tr th {\n",
       "        vertical-align: top;\n",
       "    }\n",
       "\n",
       "    .dataframe thead th {\n",
       "        text-align: right;\n",
       "    }\n",
       "</style>\n",
       "<table border=\"1\" class=\"dataframe\">\n",
       "  <thead>\n",
       "    <tr style=\"text-align: right;\">\n",
       "      <th></th>\n",
       "      <th>artists</th>\n",
       "      <th>available_markets</th>\n",
       "      <th>disc_number</th>\n",
       "      <th>duration_ms</th>\n",
       "      <th>explicit</th>\n",
       "      <th>external_urls</th>\n",
       "      <th>href</th>\n",
       "      <th>id</th>\n",
       "      <th>is_local</th>\n",
       "      <th>name</th>\n",
       "      <th>preview_url</th>\n",
       "      <th>track_number</th>\n",
       "      <th>type</th>\n",
       "      <th>uri</th>\n",
       "    </tr>\n",
       "  </thead>\n",
       "  <tbody>\n",
       "    <tr>\n",
       "      <th>0</th>\n",
       "      <td>[{'external_urls': {'spotify': 'https://open.s...</td>\n",
       "      <td>[AR, AU, AT, BE, BO, BR, BG, CA, CL, CO, CR, C...</td>\n",
       "      <td>1</td>\n",
       "      <td>202395</td>\n",
       "      <td>True</td>\n",
       "      <td>{'spotify': 'https://open.spotify.com/track/5j...</td>\n",
       "      <td>https://api.spotify.com/v1/tracks/5jQI2r1Rdgtu...</td>\n",
       "      <td>5jQI2r1RdgtuT8S3iG8zFC</td>\n",
       "      <td>False</td>\n",
       "      <td>Lavender Haze</td>\n",
       "      <td>None</td>\n",
       "      <td>1</td>\n",
       "      <td>track</td>\n",
       "      <td>spotify:track:5jQI2r1RdgtuT8S3iG8zFC</td>\n",
       "    </tr>\n",
       "    <tr>\n",
       "      <th>1</th>\n",
       "      <td>[{'external_urls': {'spotify': 'https://open.s...</td>\n",
       "      <td>[AR, AU, AT, BE, BO, BR, BG, CA, CL, CO, CR, C...</td>\n",
       "      <td>1</td>\n",
       "      <td>218270</td>\n",
       "      <td>True</td>\n",
       "      <td>{'spotify': 'https://open.spotify.com/track/3e...</td>\n",
       "      <td>https://api.spotify.com/v1/tracks/3eX0NZfLtGzo...</td>\n",
       "      <td>3eX0NZfLtGzoLUxPNvRfqm</td>\n",
       "      <td>False</td>\n",
       "      <td>Maroon</td>\n",
       "      <td>None</td>\n",
       "      <td>2</td>\n",
       "      <td>track</td>\n",
       "      <td>spotify:track:3eX0NZfLtGzoLUxPNvRfqm</td>\n",
       "    </tr>\n",
       "    <tr>\n",
       "      <th>2</th>\n",
       "      <td>[{'external_urls': {'spotify': 'https://open.s...</td>\n",
       "      <td>[AR, AU, AT, BE, BO, BR, BG, CA, CL, CO, CR, C...</td>\n",
       "      <td>1</td>\n",
       "      <td>200690</td>\n",
       "      <td>False</td>\n",
       "      <td>{'spotify': 'https://open.spotify.com/track/0V...</td>\n",
       "      <td>https://api.spotify.com/v1/tracks/0V3wPSX9ygBn...</td>\n",
       "      <td>0V3wPSX9ygBnCm8psDIegu</td>\n",
       "      <td>False</td>\n",
       "      <td>Anti-Hero</td>\n",
       "      <td>None</td>\n",
       "      <td>3</td>\n",
       "      <td>track</td>\n",
       "      <td>spotify:track:0V3wPSX9ygBnCm8psDIegu</td>\n",
       "    </tr>\n",
       "    <tr>\n",
       "      <th>3</th>\n",
       "      <td>[{'external_urls': {'spotify': 'https://open.s...</td>\n",
       "      <td>[AR, AU, AT, BE, BO, BR, BG, CA, CL, CO, CR, C...</td>\n",
       "      <td>1</td>\n",
       "      <td>256124</td>\n",
       "      <td>True</td>\n",
       "      <td>{'spotify': 'https://open.spotify.com/track/1w...</td>\n",
       "      <td>https://api.spotify.com/v1/tracks/1wtOxkiel43c...</td>\n",
       "      <td>1wtOxkiel43cVs0Yux5Q4h</td>\n",
       "      <td>False</td>\n",
       "      <td>Snow On The Beach (feat. Lana Del Rey)</td>\n",
       "      <td>None</td>\n",
       "      <td>4</td>\n",
       "      <td>track</td>\n",
       "      <td>spotify:track:1wtOxkiel43cVs0Yux5Q4h</td>\n",
       "    </tr>\n",
       "    <tr>\n",
       "      <th>4</th>\n",
       "      <td>[{'external_urls': {'spotify': 'https://open.s...</td>\n",
       "      <td>[AR, AU, AT, BE, BO, BR, BG, CA, CL, CO, CR, C...</td>\n",
       "      <td>1</td>\n",
       "      <td>194206</td>\n",
       "      <td>False</td>\n",
       "      <td>{'spotify': 'https://open.spotify.com/track/4D...</td>\n",
       "      <td>https://api.spotify.com/v1/tracks/4D7BCuvgdJlY...</td>\n",
       "      <td>4D7BCuvgdJlYvlX5WlN54t</td>\n",
       "      <td>False</td>\n",
       "      <td>You're On Your Own, Kid</td>\n",
       "      <td>None</td>\n",
       "      <td>5</td>\n",
       "      <td>track</td>\n",
       "      <td>spotify:track:4D7BCuvgdJlYvlX5WlN54t</td>\n",
       "    </tr>\n",
       "  </tbody>\n",
       "</table>\n",
       "</div>"
      ],
      "text/plain": [
       "                                             artists  \\\n",
       "0  [{'external_urls': {'spotify': 'https://open.s...   \n",
       "1  [{'external_urls': {'spotify': 'https://open.s...   \n",
       "2  [{'external_urls': {'spotify': 'https://open.s...   \n",
       "3  [{'external_urls': {'spotify': 'https://open.s...   \n",
       "4  [{'external_urls': {'spotify': 'https://open.s...   \n",
       "\n",
       "                                   available_markets  disc_number  \\\n",
       "0  [AR, AU, AT, BE, BO, BR, BG, CA, CL, CO, CR, C...            1   \n",
       "1  [AR, AU, AT, BE, BO, BR, BG, CA, CL, CO, CR, C...            1   \n",
       "2  [AR, AU, AT, BE, BO, BR, BG, CA, CL, CO, CR, C...            1   \n",
       "3  [AR, AU, AT, BE, BO, BR, BG, CA, CL, CO, CR, C...            1   \n",
       "4  [AR, AU, AT, BE, BO, BR, BG, CA, CL, CO, CR, C...            1   \n",
       "\n",
       "   duration_ms  explicit                                      external_urls  \\\n",
       "0       202395      True  {'spotify': 'https://open.spotify.com/track/5j...   \n",
       "1       218270      True  {'spotify': 'https://open.spotify.com/track/3e...   \n",
       "2       200690     False  {'spotify': 'https://open.spotify.com/track/0V...   \n",
       "3       256124      True  {'spotify': 'https://open.spotify.com/track/1w...   \n",
       "4       194206     False  {'spotify': 'https://open.spotify.com/track/4D...   \n",
       "\n",
       "                                                href                      id  \\\n",
       "0  https://api.spotify.com/v1/tracks/5jQI2r1Rdgtu...  5jQI2r1RdgtuT8S3iG8zFC   \n",
       "1  https://api.spotify.com/v1/tracks/3eX0NZfLtGzo...  3eX0NZfLtGzoLUxPNvRfqm   \n",
       "2  https://api.spotify.com/v1/tracks/0V3wPSX9ygBn...  0V3wPSX9ygBnCm8psDIegu   \n",
       "3  https://api.spotify.com/v1/tracks/1wtOxkiel43c...  1wtOxkiel43cVs0Yux5Q4h   \n",
       "4  https://api.spotify.com/v1/tracks/4D7BCuvgdJlY...  4D7BCuvgdJlYvlX5WlN54t   \n",
       "\n",
       "   is_local                                    name preview_url  track_number  \\\n",
       "0     False                           Lavender Haze        None             1   \n",
       "1     False                                  Maroon        None             2   \n",
       "2     False                               Anti-Hero        None             3   \n",
       "3     False  Snow On The Beach (feat. Lana Del Rey)        None             4   \n",
       "4     False                 You're On Your Own, Kid        None             5   \n",
       "\n",
       "    type                                   uri  \n",
       "0  track  spotify:track:5jQI2r1RdgtuT8S3iG8zFC  \n",
       "1  track  spotify:track:3eX0NZfLtGzoLUxPNvRfqm  \n",
       "2  track  spotify:track:0V3wPSX9ygBnCm8psDIegu  \n",
       "3  track  spotify:track:1wtOxkiel43cVs0Yux5Q4h  \n",
       "4  track  spotify:track:4D7BCuvgdJlYvlX5WlN54t  "
      ]
     },
     "execution_count": 71,
     "metadata": {},
     "output_type": "execute_result"
    }
   ],
   "source": [
    "mid_df = pd.DataFrame(mid_of_the_state['items'])\n",
    "mid_df.head()"
   ]
  },
  {
   "cell_type": "code",
   "execution_count": 72,
   "id": "06e15c6c",
   "metadata": {},
   "outputs": [
    {
     "data": {
      "text/html": [
       "<div>\n",
       "<style scoped>\n",
       "    .dataframe tbody tr th:only-of-type {\n",
       "        vertical-align: middle;\n",
       "    }\n",
       "\n",
       "    .dataframe tbody tr th {\n",
       "        vertical-align: top;\n",
       "    }\n",
       "\n",
       "    .dataframe thead th {\n",
       "        text-align: right;\n",
       "    }\n",
       "</style>\n",
       "<table border=\"1\" class=\"dataframe\">\n",
       "  <thead>\n",
       "    <tr style=\"text-align: right;\">\n",
       "      <th></th>\n",
       "      <th>name</th>\n",
       "      <th>id</th>\n",
       "    </tr>\n",
       "  </thead>\n",
       "  <tbody>\n",
       "    <tr>\n",
       "      <th>0</th>\n",
       "      <td>Lavender Haze</td>\n",
       "      <td>5jQI2r1RdgtuT8S3iG8zFC</td>\n",
       "    </tr>\n",
       "    <tr>\n",
       "      <th>1</th>\n",
       "      <td>Maroon</td>\n",
       "      <td>3eX0NZfLtGzoLUxPNvRfqm</td>\n",
       "    </tr>\n",
       "    <tr>\n",
       "      <th>2</th>\n",
       "      <td>Anti-Hero</td>\n",
       "      <td>0V3wPSX9ygBnCm8psDIegu</td>\n",
       "    </tr>\n",
       "    <tr>\n",
       "      <th>3</th>\n",
       "      <td>Snow On The Beach (feat. Lana Del Rey)</td>\n",
       "      <td>1wtOxkiel43cVs0Yux5Q4h</td>\n",
       "    </tr>\n",
       "    <tr>\n",
       "      <th>4</th>\n",
       "      <td>You're On Your Own, Kid</td>\n",
       "      <td>4D7BCuvgdJlYvlX5WlN54t</td>\n",
       "    </tr>\n",
       "  </tbody>\n",
       "</table>\n",
       "</div>"
      ],
      "text/plain": [
       "                                     name                      id\n",
       "0                           Lavender Haze  5jQI2r1RdgtuT8S3iG8zFC\n",
       "1                                  Maroon  3eX0NZfLtGzoLUxPNvRfqm\n",
       "2                               Anti-Hero  0V3wPSX9ygBnCm8psDIegu\n",
       "3  Snow On The Beach (feat. Lana Del Rey)  1wtOxkiel43cVs0Yux5Q4h\n",
       "4                 You're On Your Own, Kid  4D7BCuvgdJlYvlX5WlN54t"
      ]
     },
     "execution_count": 72,
     "metadata": {},
     "output_type": "execute_result"
    }
   ],
   "source": [
    "mid_name_df= pd.DataFrame(mid_df [['name','id']])\n",
    "mid_name_df.head()"
   ]
  },
  {
   "cell_type": "code",
   "execution_count": 73,
   "id": "15c8add8",
   "metadata": {},
   "outputs": [],
   "source": [
    "mid_audio_features = 'https://api.spotify.com/v1/audio-features?ids={}'\\\n",
    ".format(','.join(list(mid_df['id'])))"
   ]
  },
  {
   "cell_type": "code",
   "execution_count": 74,
   "id": "b0b0c0a4",
   "metadata": {},
   "outputs": [
    {
     "data": {
      "text/plain": [
       "200"
      ]
     },
     "execution_count": 74,
     "metadata": {},
     "output_type": "execute_result"
    }
   ],
   "source": [
    "mid_features_response = requests.get(url = mid_audio_features , headers = session_headers)\n",
    "mid_features_response.status_code"
   ]
  },
  {
   "cell_type": "code",
   "execution_count": 75,
   "id": "fb49fd58",
   "metadata": {},
   "outputs": [],
   "source": [
    "mid_features = mid_features_response.json()"
   ]
  },
  {
   "cell_type": "code",
   "execution_count": 76,
   "id": "b2b80120",
   "metadata": {},
   "outputs": [
    {
     "data": {
      "text/html": [
       "<div>\n",
       "<style scoped>\n",
       "    .dataframe tbody tr th:only-of-type {\n",
       "        vertical-align: middle;\n",
       "    }\n",
       "\n",
       "    .dataframe tbody tr th {\n",
       "        vertical-align: top;\n",
       "    }\n",
       "\n",
       "    .dataframe thead th {\n",
       "        text-align: right;\n",
       "    }\n",
       "</style>\n",
       "<table border=\"1\" class=\"dataframe\">\n",
       "  <thead>\n",
       "    <tr style=\"text-align: right;\">\n",
       "      <th></th>\n",
       "      <th>danceability</th>\n",
       "      <th>energy</th>\n",
       "      <th>key</th>\n",
       "      <th>loudness</th>\n",
       "      <th>mode</th>\n",
       "      <th>speechiness</th>\n",
       "      <th>acousticness</th>\n",
       "      <th>instrumentalness</th>\n",
       "      <th>liveness</th>\n",
       "      <th>valence</th>\n",
       "      <th>tempo</th>\n",
       "      <th>type</th>\n",
       "      <th>id</th>\n",
       "      <th>uri</th>\n",
       "      <th>track_href</th>\n",
       "      <th>analysis_url</th>\n",
       "      <th>duration_ms</th>\n",
       "      <th>time_signature</th>\n",
       "    </tr>\n",
       "  </thead>\n",
       "  <tbody>\n",
       "    <tr>\n",
       "      <th>0</th>\n",
       "      <td>0.733</td>\n",
       "      <td>0.436</td>\n",
       "      <td>10</td>\n",
       "      <td>-10.489</td>\n",
       "      <td>1</td>\n",
       "      <td>0.0800</td>\n",
       "      <td>0.2580</td>\n",
       "      <td>0.000573</td>\n",
       "      <td>0.157</td>\n",
       "      <td>0.0976</td>\n",
       "      <td>96.985</td>\n",
       "      <td>audio_features</td>\n",
       "      <td>5jQI2r1RdgtuT8S3iG8zFC</td>\n",
       "      <td>spotify:track:5jQI2r1RdgtuT8S3iG8zFC</td>\n",
       "      <td>https://api.spotify.com/v1/tracks/5jQI2r1Rdgtu...</td>\n",
       "      <td>https://api.spotify.com/v1/audio-analysis/5jQI...</td>\n",
       "      <td>202396</td>\n",
       "      <td>4</td>\n",
       "    </tr>\n",
       "    <tr>\n",
       "      <th>1</th>\n",
       "      <td>0.637</td>\n",
       "      <td>0.398</td>\n",
       "      <td>7</td>\n",
       "      <td>-8.294</td>\n",
       "      <td>1</td>\n",
       "      <td>0.0564</td>\n",
       "      <td>0.0573</td>\n",
       "      <td>0.000001</td>\n",
       "      <td>0.101</td>\n",
       "      <td>0.0374</td>\n",
       "      <td>108.075</td>\n",
       "      <td>audio_features</td>\n",
       "      <td>3eX0NZfLtGzoLUxPNvRfqm</td>\n",
       "      <td>spotify:track:3eX0NZfLtGzoLUxPNvRfqm</td>\n",
       "      <td>https://api.spotify.com/v1/tracks/3eX0NZfLtGzo...</td>\n",
       "      <td>https://api.spotify.com/v1/audio-analysis/3eX0...</td>\n",
       "      <td>218271</td>\n",
       "      <td>4</td>\n",
       "    </tr>\n",
       "    <tr>\n",
       "      <th>2</th>\n",
       "      <td>0.637</td>\n",
       "      <td>0.643</td>\n",
       "      <td>4</td>\n",
       "      <td>-6.571</td>\n",
       "      <td>1</td>\n",
       "      <td>0.0519</td>\n",
       "      <td>0.1300</td>\n",
       "      <td>0.000002</td>\n",
       "      <td>0.142</td>\n",
       "      <td>0.5330</td>\n",
       "      <td>97.008</td>\n",
       "      <td>audio_features</td>\n",
       "      <td>0V3wPSX9ygBnCm8psDIegu</td>\n",
       "      <td>spotify:track:0V3wPSX9ygBnCm8psDIegu</td>\n",
       "      <td>https://api.spotify.com/v1/tracks/0V3wPSX9ygBn...</td>\n",
       "      <td>https://api.spotify.com/v1/audio-analysis/0V3w...</td>\n",
       "      <td>200690</td>\n",
       "      <td>4</td>\n",
       "    </tr>\n",
       "    <tr>\n",
       "      <th>3</th>\n",
       "      <td>0.663</td>\n",
       "      <td>0.319</td>\n",
       "      <td>9</td>\n",
       "      <td>-13.481</td>\n",
       "      <td>1</td>\n",
       "      <td>0.0375</td>\n",
       "      <td>0.6900</td>\n",
       "      <td>0.000993</td>\n",
       "      <td>0.117</td>\n",
       "      <td>0.1930</td>\n",
       "      <td>109.957</td>\n",
       "      <td>audio_features</td>\n",
       "      <td>1wtOxkiel43cVs0Yux5Q4h</td>\n",
       "      <td>spotify:track:1wtOxkiel43cVs0Yux5Q4h</td>\n",
       "      <td>https://api.spotify.com/v1/tracks/1wtOxkiel43c...</td>\n",
       "      <td>https://api.spotify.com/v1/audio-analysis/1wtO...</td>\n",
       "      <td>256124</td>\n",
       "      <td>4</td>\n",
       "    </tr>\n",
       "    <tr>\n",
       "      <th>4</th>\n",
       "      <td>0.696</td>\n",
       "      <td>0.396</td>\n",
       "      <td>2</td>\n",
       "      <td>-10.289</td>\n",
       "      <td>1</td>\n",
       "      <td>0.0656</td>\n",
       "      <td>0.4010</td>\n",
       "      <td>0.000005</td>\n",
       "      <td>0.125</td>\n",
       "      <td>0.3800</td>\n",
       "      <td>120.041</td>\n",
       "      <td>audio_features</td>\n",
       "      <td>4D7BCuvgdJlYvlX5WlN54t</td>\n",
       "      <td>spotify:track:4D7BCuvgdJlYvlX5WlN54t</td>\n",
       "      <td>https://api.spotify.com/v1/tracks/4D7BCuvgdJlY...</td>\n",
       "      <td>https://api.spotify.com/v1/audio-analysis/4D7B...</td>\n",
       "      <td>194207</td>\n",
       "      <td>4</td>\n",
       "    </tr>\n",
       "  </tbody>\n",
       "</table>\n",
       "</div>"
      ],
      "text/plain": [
       "   danceability  energy  key  loudness  mode  speechiness  acousticness  \\\n",
       "0         0.733   0.436   10   -10.489     1       0.0800        0.2580   \n",
       "1         0.637   0.398    7    -8.294     1       0.0564        0.0573   \n",
       "2         0.637   0.643    4    -6.571     1       0.0519        0.1300   \n",
       "3         0.663   0.319    9   -13.481     1       0.0375        0.6900   \n",
       "4         0.696   0.396    2   -10.289     1       0.0656        0.4010   \n",
       "\n",
       "   instrumentalness  liveness  valence    tempo            type  \\\n",
       "0          0.000573     0.157   0.0976   96.985  audio_features   \n",
       "1          0.000001     0.101   0.0374  108.075  audio_features   \n",
       "2          0.000002     0.142   0.5330   97.008  audio_features   \n",
       "3          0.000993     0.117   0.1930  109.957  audio_features   \n",
       "4          0.000005     0.125   0.3800  120.041  audio_features   \n",
       "\n",
       "                       id                                   uri  \\\n",
       "0  5jQI2r1RdgtuT8S3iG8zFC  spotify:track:5jQI2r1RdgtuT8S3iG8zFC   \n",
       "1  3eX0NZfLtGzoLUxPNvRfqm  spotify:track:3eX0NZfLtGzoLUxPNvRfqm   \n",
       "2  0V3wPSX9ygBnCm8psDIegu  spotify:track:0V3wPSX9ygBnCm8psDIegu   \n",
       "3  1wtOxkiel43cVs0Yux5Q4h  spotify:track:1wtOxkiel43cVs0Yux5Q4h   \n",
       "4  4D7BCuvgdJlYvlX5WlN54t  spotify:track:4D7BCuvgdJlYvlX5WlN54t   \n",
       "\n",
       "                                          track_href  \\\n",
       "0  https://api.spotify.com/v1/tracks/5jQI2r1Rdgtu...   \n",
       "1  https://api.spotify.com/v1/tracks/3eX0NZfLtGzo...   \n",
       "2  https://api.spotify.com/v1/tracks/0V3wPSX9ygBn...   \n",
       "3  https://api.spotify.com/v1/tracks/1wtOxkiel43c...   \n",
       "4  https://api.spotify.com/v1/tracks/4D7BCuvgdJlY...   \n",
       "\n",
       "                                        analysis_url  duration_ms  \\\n",
       "0  https://api.spotify.com/v1/audio-analysis/5jQI...       202396   \n",
       "1  https://api.spotify.com/v1/audio-analysis/3eX0...       218271   \n",
       "2  https://api.spotify.com/v1/audio-analysis/0V3w...       200690   \n",
       "3  https://api.spotify.com/v1/audio-analysis/1wtO...       256124   \n",
       "4  https://api.spotify.com/v1/audio-analysis/4D7B...       194207   \n",
       "\n",
       "   time_signature  \n",
       "0               4  \n",
       "1               4  \n",
       "2               4  \n",
       "3               4  \n",
       "4               4  "
      ]
     },
     "execution_count": 76,
     "metadata": {},
     "output_type": "execute_result"
    }
   ],
   "source": [
    "mid_features_df = pd.DataFrame(mid_features['audio_features'])\n",
    "mid_features_df.head()"
   ]
  },
  {
   "cell_type": "code",
   "execution_count": 77,
   "id": "fdf9dbc4",
   "metadata": {},
   "outputs": [
    {
     "data": {
      "text/html": [
       "<div>\n",
       "<style scoped>\n",
       "    .dataframe tbody tr th:only-of-type {\n",
       "        vertical-align: middle;\n",
       "    }\n",
       "\n",
       "    .dataframe tbody tr th {\n",
       "        vertical-align: top;\n",
       "    }\n",
       "\n",
       "    .dataframe thead th {\n",
       "        text-align: right;\n",
       "    }\n",
       "</style>\n",
       "<table border=\"1\" class=\"dataframe\">\n",
       "  <thead>\n",
       "    <tr style=\"text-align: right;\">\n",
       "      <th></th>\n",
       "      <th>danceability</th>\n",
       "      <th>speechiness</th>\n",
       "      <th>id</th>\n",
       "    </tr>\n",
       "  </thead>\n",
       "  <tbody>\n",
       "    <tr>\n",
       "      <th>0</th>\n",
       "      <td>0.733</td>\n",
       "      <td>0.0800</td>\n",
       "      <td>5jQI2r1RdgtuT8S3iG8zFC</td>\n",
       "    </tr>\n",
       "    <tr>\n",
       "      <th>1</th>\n",
       "      <td>0.637</td>\n",
       "      <td>0.0564</td>\n",
       "      <td>3eX0NZfLtGzoLUxPNvRfqm</td>\n",
       "    </tr>\n",
       "    <tr>\n",
       "      <th>2</th>\n",
       "      <td>0.637</td>\n",
       "      <td>0.0519</td>\n",
       "      <td>0V3wPSX9ygBnCm8psDIegu</td>\n",
       "    </tr>\n",
       "    <tr>\n",
       "      <th>3</th>\n",
       "      <td>0.663</td>\n",
       "      <td>0.0375</td>\n",
       "      <td>1wtOxkiel43cVs0Yux5Q4h</td>\n",
       "    </tr>\n",
       "    <tr>\n",
       "      <th>4</th>\n",
       "      <td>0.696</td>\n",
       "      <td>0.0656</td>\n",
       "      <td>4D7BCuvgdJlYvlX5WlN54t</td>\n",
       "    </tr>\n",
       "  </tbody>\n",
       "</table>\n",
       "</div>"
      ],
      "text/plain": [
       "   danceability  speechiness                      id\n",
       "0         0.733       0.0800  5jQI2r1RdgtuT8S3iG8zFC\n",
       "1         0.637       0.0564  3eX0NZfLtGzoLUxPNvRfqm\n",
       "2         0.637       0.0519  0V3wPSX9ygBnCm8psDIegu\n",
       "3         0.663       0.0375  1wtOxkiel43cVs0Yux5Q4h\n",
       "4         0.696       0.0656  4D7BCuvgdJlYvlX5WlN54t"
      ]
     },
     "execution_count": 77,
     "metadata": {},
     "output_type": "execute_result"
    }
   ],
   "source": [
    "mid_two_features_df= pd.DataFrame(mid_features_df[['danceability','speechiness','id']])\n",
    "mid_two_features_df.head()"
   ]
  },
  {
   "cell_type": "code",
   "execution_count": 78,
   "id": "a4989850",
   "metadata": {},
   "outputs": [
    {
     "data": {
      "text/html": [
       "<div>\n",
       "<style scoped>\n",
       "    .dataframe tbody tr th:only-of-type {\n",
       "        vertical-align: middle;\n",
       "    }\n",
       "\n",
       "    .dataframe tbody tr th {\n",
       "        vertical-align: top;\n",
       "    }\n",
       "\n",
       "    .dataframe thead th {\n",
       "        text-align: right;\n",
       "    }\n",
       "</style>\n",
       "<table border=\"1\" class=\"dataframe\">\n",
       "  <thead>\n",
       "    <tr style=\"text-align: right;\">\n",
       "      <th></th>\n",
       "      <th>name</th>\n",
       "      <th>id</th>\n",
       "      <th>danceability</th>\n",
       "      <th>speechiness</th>\n",
       "    </tr>\n",
       "  </thead>\n",
       "  <tbody>\n",
       "    <tr>\n",
       "      <th>0</th>\n",
       "      <td>Lavender Haze</td>\n",
       "      <td>5jQI2r1RdgtuT8S3iG8zFC</td>\n",
       "      <td>0.733</td>\n",
       "      <td>0.0800</td>\n",
       "    </tr>\n",
       "    <tr>\n",
       "      <th>1</th>\n",
       "      <td>Maroon</td>\n",
       "      <td>3eX0NZfLtGzoLUxPNvRfqm</td>\n",
       "      <td>0.637</td>\n",
       "      <td>0.0564</td>\n",
       "    </tr>\n",
       "    <tr>\n",
       "      <th>2</th>\n",
       "      <td>Anti-Hero</td>\n",
       "      <td>0V3wPSX9ygBnCm8psDIegu</td>\n",
       "      <td>0.637</td>\n",
       "      <td>0.0519</td>\n",
       "    </tr>\n",
       "    <tr>\n",
       "      <th>3</th>\n",
       "      <td>Snow On The Beach (feat. Lana Del Rey)</td>\n",
       "      <td>1wtOxkiel43cVs0Yux5Q4h</td>\n",
       "      <td>0.663</td>\n",
       "      <td>0.0375</td>\n",
       "    </tr>\n",
       "    <tr>\n",
       "      <th>4</th>\n",
       "      <td>You're On Your Own, Kid</td>\n",
       "      <td>4D7BCuvgdJlYvlX5WlN54t</td>\n",
       "      <td>0.696</td>\n",
       "      <td>0.0656</td>\n",
       "    </tr>\n",
       "  </tbody>\n",
       "</table>\n",
       "</div>"
      ],
      "text/plain": [
       "                                     name                      id  \\\n",
       "0                           Lavender Haze  5jQI2r1RdgtuT8S3iG8zFC   \n",
       "1                                  Maroon  3eX0NZfLtGzoLUxPNvRfqm   \n",
       "2                               Anti-Hero  0V3wPSX9ygBnCm8psDIegu   \n",
       "3  Snow On The Beach (feat. Lana Del Rey)  1wtOxkiel43cVs0Yux5Q4h   \n",
       "4                 You're On Your Own, Kid  4D7BCuvgdJlYvlX5WlN54t   \n",
       "\n",
       "   danceability  speechiness  \n",
       "0         0.733       0.0800  \n",
       "1         0.637       0.0564  \n",
       "2         0.637       0.0519  \n",
       "3         0.663       0.0375  \n",
       "4         0.696       0.0656  "
      ]
     },
     "execution_count": 78,
     "metadata": {},
     "output_type": "execute_result"
    }
   ],
   "source": [
    "mid_final_df= pd.merge(mid_name_df, mid_two_features_df, how = 'inner', on = 'id')\n",
    "mid_final_df.head()"
   ]
  },
  {
   "cell_type": "code",
   "execution_count": 79,
   "id": "32a29410",
   "metadata": {},
   "outputs": [
    {
     "data": {
      "image/png": "[encoded data removed]",
      "text/plain": [
       "<Figure size 640x480 with 1 Axes>"
      ]
     },
     "metadata": {},
     "output_type": "display_data"
    }
   ],
   "source": [
    "fig3, ax3 =  plt.subplots()\n",
    "ax3.scatter( x = mid_final_df ['danceability'], \n",
    "             y = mid_final_df['speechiness'],alpha= .5, color='#E3001E' )\n",
    "\n",
    "ax3.set_xlabel('Danceability')\n",
    "ax3.set_ylabel('speechiness')\n",
    "plt.show()"
   ]
  },
  {
   "cell_type": "markdown",
   "id": "03eb70bc",
   "metadata": {},
   "source": [
    "The graph below represents two albums together based on their danceability vs. speechiness to better understand their differences. "
   ]
  },
  {
   "cell_type": "code",
   "execution_count": 86,
   "id": "eda24982",
   "metadata": {},
   "outputs": [
    {
     "data": {
      "image/png": "[encoded data removed]",
      "text/plain": [
       "<Figure size 640x480 with 1 Axes>"
      ]
     },
     "metadata": {},
     "output_type": "display_data"
    }
   ],
   "source": [
    "fig5, ax5 =  plt.subplots()\n",
    "ax5.scatter( x = enema_final_df  ['danceability'], \n",
    "             y = enema_final_df ['speechiness'],\n",
    "            label = 'Enema Of The State',\n",
    "            color = '#2F9B61',\n",
    "            marker ='*')\n",
    "ax5.scatter( x = mid_final_df ['danceability'], \n",
    "             y = mid_final_df  ['speechiness'],\n",
    "            label = 'Midnight',\n",
    "            alpha= .5, \n",
    "            marker ='8',\n",
    "           color = '#E3001E')\n",
    "\n",
    "ax5.set_title('Midnight vs Enema Of The State')\n",
    "ax5.set_xlabel('Danceability')\n",
    "ax5.set_ylabel('speechiness')\n",
    "ax5.legend()\n",
    "\n",
    "plt.show()"
   ]
  },
  {
   "cell_type": "markdown",
   "id": "e4d10ff6",
   "metadata": {},
   "source": [
    "Also, I compared the features separately between the two albums to get a clearer view of the relationship. "
   ]
  },
  {
   "cell_type": "code",
   "execution_count": 95,
   "id": "da7bca11",
   "metadata": {},
   "outputs": [
    {
     "data": {
      "image/png": "[encoded data removed]",
      "text/plain": [
       "<Figure size 640x480 with 1 Axes>"
      ]
     },
     "metadata": {},
     "output_type": "display_data"
    }
   ],
   "source": [
    "emena_speech= enema_final_df   ['danceability']\n",
    "mid_speech = mid_final_df['danceability']\n",
    "\n",
    "emena_ax = [1]*len(emena_speech)\n",
    "mid_ax = [2]*len(mid_speech )\n",
    "\n",
    "bur_x_jitter = np.random.uniform(-0.10,0.10,len (emena_ax))\n",
    "chr_x_jitter = np.random.uniform(-0.10,0.10,len (mid_ax))\n",
    "\n",
    "fig8, ax8=  plt.subplots()\n",
    "ax8.boxplot(emena_speech,positions= [1])\n",
    "ax8.boxplot(mid_speech,positions= [2])\n",
    "ax8.scatter(emena_ax + bur_x_jitter, emena_speech, alpha=0.5, color='#E3001E', marker ='8')\n",
    "ax8.scatter(mid_ax + chr_x_jitter, mid_speech, alpha=0.5, color='#2F9B61',marker ='*')\n",
    "\n",
    "\n",
    "ax5.legend()\n",
    "plt.show()\n"
   ]
  },
  {
   "cell_type": "code",
   "execution_count": 96,
   "id": "30690dd1",
   "metadata": {},
   "outputs": [
    {
     "data": {
      "image/png": "[encoded data removed]",
      "text/plain": [
       "<Figure size 640x480 with 1 Axes>"
      ]
     },
     "metadata": {},
     "output_type": "display_data"
    }
   ],
   "source": [
    "emena_speech= enema_final_df   ['speechiness']\n",
    "mid_speech = mid_final_df['speechiness']\n",
    "\n",
    "emena_ax = [1]*len(emena_speech)\n",
    "mid_ax = [2]*len(mid_speech )\n",
    "\n",
    "bur_x_jitter = np.random.uniform(-0.10,0.10,len (emena_ax))\n",
    "chr_x_jitter = np.random.uniform(-0.10,0.10,len (mid_ax))\n",
    "\n",
    "fig8, ax8=  plt.subplots()\n",
    "ax8.boxplot(emena_speech,positions= [1])\n",
    "ax8.boxplot(mid_speech,positions= [2])\n",
    "ax8.scatter(emena_ax + bur_x_jitter, emena_speech, alpha=0.5, color='#E3001E', marker ='8', label='Aguilera')\n",
    "ax8.scatter(mid_ax + chr_x_jitter, mid_speech, alpha=0.5, color='#2F9B61',marker ='*', label='Sia')\n",
    "plt.show()"
   ]
  },
  {
   "cell_type": "code",
   "execution_count": null,
   "id": "93e78055",
   "metadata": {},
   "outputs": [],
   "source": []
  }
 ],
 "metadata": {
  "kernelspec": {
   "display_name": "Python 3 (ipykernel)",
   "language": "python",
   "name": "python3"
  },
  "language_info": {
   "codemirror_mode": {
    "name": "ipython",
    "version": 3
   },
   "file_extension": ".py",
   "mimetype": "text/x-python",
   "name": "python",
   "nbconvert_exporter": "python",
   "pygments_lexer": "ipython3",
   "version": "3.11.4"
  }
 },
 "nbformat": 4,
 "nbformat_minor": 5
}
