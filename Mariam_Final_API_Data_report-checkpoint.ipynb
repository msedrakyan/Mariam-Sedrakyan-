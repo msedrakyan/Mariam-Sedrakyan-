{
 "cells": [
  {
   "cell_type": "markdown",
   "id": "ab77157c",
   "metadata": {},
   "source": [
    "# Mariam Sedrakyan: API data Report \n",
    "### Hypotheses:  Does the popularity of the song depends on its duration and danceability in certain country? \n",
    "\n",
    "#### Theoretical:\n",
    "For my Spotify API data report, I aimed to find the featured playlists from Armenian and pick a playlist based on the description. Then, I wanted to dive in and learn more about the playlist by comparing the top 5 most popular tracks and understand if their popularity is connected to their duration and danceability. \n",
    "\n",
    "\n",
    "I picked to find the featured playlist from Armenia because that is my motherland, and it was exciting to find out what playlists are trendy in my country. After research, I chose a playlist closer to my music taste. "
   ]
  },
  {
   "cell_type": "markdown",
   "id": "e45473f8",
   "metadata": {},
   "source": [
    "This data can be reliable because it was collected from individual users and organized based on their preferences. This can help us find the information we need based on users' liking. However, the unreliable side of this data is too many individuals and too many opinions and tastes. This can lead the data to be unbalanced and various. This can lead to many limitations in using and collecting this data based on your hypothesis. For example, after I found my top ten featured playlists, they all were different, and it was hard to pick the one I wanted to explore. __The data was too diverse because it was collected from hundreds to millions of people from different tastes.__"
   ]
  },
  {
   "cell_type": "markdown",
   "id": "618683c2",
   "metadata": {},
   "source": [
    "### Endpoints \n",
    "To test my hypotheses, I used three endpoints.\n",
    "\n",
    "The first one was __featured-playlist__. This endpoint allowed me to get the featured playlist and had a country parameter that returned a list from our chosen country.  \n",
    "\n",
    "The second endpoint was __get playlist__, which is suitable for my hypothesis because it allowed me to get a playlist ID and sort the tracks by their population and duration. This helped me understand if the track's popularity is related to its length. \n",
    "\n",
    "Third, I used __audio-features__ to get more specific information about each track. More specifically, I was looking for the danceability of the track."
   ]
  },
  {
   "cell_type": "code",
   "execution_count": 1,
   "id": "10cdbb6e",
   "metadata": {},
   "outputs": [],
   "source": [
    "import requests\n",
    "import pandas as pd\n",
    "import base64\n",
    "import json\n",
    "import urllib"
   ]
  },
  {
   "cell_type": "markdown",
   "id": "893078d2",
   "metadata": {},
   "source": [
    "Below are the functions I used to get access tokens from Spotify's API. \n",
    "An access token is a string representing the authorization granted to the client. It is used in HTTP to prove the authenticity of the sender and receiver."
   ]
  },
  {
   "cell_type": "code",
   "execution_count": 2,
   "id": "1f17d88f",
   "metadata": {},
   "outputs": [],
   "source": [
    "Client_ID = pd.read_csv(\"Spotify-Keys_9-23-21.txt\")['Client_ID'].iloc[0]"
   ]
  },
  {
   "cell_type": "code",
   "execution_count": 3,
   "id": "db8de8cf",
   "metadata": {
    "scrolled": true
   },
   "outputs": [],
   "source": [
    "Client_Secret = pd.read_csv(\"Spotify-Keys_secret.txt\")['Client_Secret'].iloc[0]"
   ]
  },
  {
   "cell_type": "markdown",
   "id": "69b586f1",
   "metadata": {},
   "source": [
    "Some of the information need to be hidden for confidentiality"
   ]
  },
  {
   "cell_type": "code",
   "execution_count": 4,
   "id": "2c5f589e",
   "metadata": {},
   "outputs": [],
   "source": [
    "# Client_ID"
   ]
  },
  {
   "cell_type": "code",
   "execution_count": 5,
   "id": "74030a66",
   "metadata": {},
   "outputs": [],
   "source": [
    "# Client_Secret"
   ]
  },
  {
   "cell_type": "code",
   "execution_count": 6,
   "id": "06247c0c",
   "metadata": {},
   "outputs": [],
   "source": [
    "client_cred = base64.b64encode(str(Client_ID + \":\" + Client_Secret).encode(\"ascii\"))"
   ]
  },
  {
   "cell_type": "code",
   "execution_count": 7,
   "id": "9086a380",
   "metadata": {},
   "outputs": [],
   "source": [
    "# client_cred"
   ]
  },
  {
   "cell_type": "code",
   "execution_count": 8,
   "id": "f21e373f",
   "metadata": {},
   "outputs": [],
   "source": [
    "headers = {\"Authorization\": \"Basic {}\".format(client_cred.decode(\"ascii\"))}\n"
   ]
  },
  {
   "cell_type": "code",
   "execution_count": 9,
   "id": "891c95f1",
   "metadata": {},
   "outputs": [],
   "source": [
    "# headers"
   ]
  },
  {
   "cell_type": "raw",
   "id": "7aebbfdd",
   "metadata": {},
   "source": [
    "I am getting the access to token to check the response"
   ]
  },
  {
   "cell_type": "code",
   "execution_count": 10,
   "id": "362ca346",
   "metadata": {},
   "outputs": [],
   "source": [
    "payload = {'grant_type' : 'client_credentials'}\n",
    "url = 'https://accounts.spotify.com/api/token'"
   ]
  },
  {
   "cell_type": "code",
   "execution_count": 11,
   "id": "68befb09",
   "metadata": {},
   "outputs": [],
   "source": [
    "session_key_response = requests.post(url = url, data = payload, headers = headers)"
   ]
  },
  {
   "cell_type": "code",
   "execution_count": 12,
   "id": "5a35fae9",
   "metadata": {},
   "outputs": [
    {
     "data": {
      "text/plain": [
       "200"
      ]
     },
     "execution_count": 12,
     "metadata": {},
     "output_type": "execute_result"
    }
   ],
   "source": [
    "session_key_response.status_code"
   ]
  },
  {
   "cell_type": "code",
   "execution_count": 13,
   "id": "175e8d4d",
   "metadata": {},
   "outputs": [],
   "source": [
    "# session_key_response.json()['access_token']"
   ]
  },
  {
   "cell_type": "code",
   "execution_count": 14,
   "id": "b451636f",
   "metadata": {},
   "outputs": [],
   "source": [
    "session_header_key = session_key_response.json()"
   ]
  },
  {
   "cell_type": "code",
   "execution_count": 15,
   "id": "4915247e",
   "metadata": {},
   "outputs": [],
   "source": [
    "key = session_header_key['access_token']"
   ]
  },
  {
   "cell_type": "markdown",
   "id": "db84fcdc",
   "metadata": {},
   "source": [
    "After the access I need an authorization"
   ]
  },
  {
   "cell_type": "code",
   "execution_count": 16,
   "id": "bf75f2f6",
   "metadata": {},
   "outputs": [],
   "source": [
    "session_headers = {\"Authorization\": \"Bearer {}\".format(key)}"
   ]
  },
  {
   "cell_type": "code",
   "execution_count": 17,
   "id": "c02d38ef",
   "metadata": {},
   "outputs": [],
   "source": [
    "# session_headers"
   ]
  },
  {
   "cell_type": "markdown",
   "id": "b60e2310",
   "metadata": {},
   "source": [
    "After the access I need an authorization"
   ]
  },
  {
   "cell_type": "code",
   "execution_count": 18,
   "id": "9b634168",
   "metadata": {},
   "outputs": [],
   "source": [
    "base_url = 'https://api.spotify.com/v1/'"
   ]
  },
  {
   "cell_type": "markdown",
   "id": "ef47a5d6",
   "metadata": {},
   "source": [
    "I am using my first endpoint to get the featured playlist from Armenia"
   ]
  },
  {
   "cell_type": "code",
   "execution_count": 19,
   "id": "d013d3a8",
   "metadata": {},
   "outputs": [],
   "source": [
    "featured_playlists_endpoint = 'browse/featured-playlists/?country=AM'\n",
    "featured_playlists_url = ''.join([base_url,featured_playlists_endpoint])"
   ]
  },
  {
   "cell_type": "code",
   "execution_count": 20,
   "id": "9b58f8b4",
   "metadata": {},
   "outputs": [
    {
     "data": {
      "text/plain": [
       "200"
      ]
     },
     "execution_count": 20,
     "metadata": {},
     "output_type": "execute_result"
    }
   ],
   "source": [
    "response = requests.get(url = featured_playlists_url, headers = session_headers)\n",
    "response.status_code"
   ]
  },
  {
   "cell_type": "code",
   "execution_count": 21,
   "id": "a35b8444",
   "metadata": {},
   "outputs": [],
   "source": [
    "playlists_data = response.json()"
   ]
  },
  {
   "cell_type": "markdown",
   "id": "af4a093e",
   "metadata": {},
   "source": [
    "After getting the response for the request we need to dive in and find what information we need using .keys()\n"
   ]
  },
  {
   "cell_type": "code",
   "execution_count": 22,
   "id": "98b3f507",
   "metadata": {},
   "outputs": [
    {
     "data": {
      "text/plain": [
       "dict_keys(['message', 'playlists'])"
      ]
     },
     "execution_count": 22,
     "metadata": {},
     "output_type": "execute_result"
    }
   ],
   "source": [
    "playlists_data.keys()\n"
   ]
  },
  {
   "cell_type": "code",
   "execution_count": 23,
   "id": "6e367ad6",
   "metadata": {},
   "outputs": [
    {
     "data": {
      "text/plain": [
       "dict_keys(['href', 'items', 'limit', 'next', 'offset', 'previous', 'total'])"
      ]
     },
     "execution_count": 23,
     "metadata": {},
     "output_type": "execute_result"
    }
   ],
   "source": [
    "playlists_data['playlists'].keys()"
   ]
  },
  {
   "cell_type": "code",
   "execution_count": 24,
   "id": "2af7e309",
   "metadata": {},
   "outputs": [
    {
     "data": {
      "text/html": [
       "<div>\n",
       "<style scoped>\n",
       "    .dataframe tbody tr th:only-of-type {\n",
       "        vertical-align: middle;\n",
       "    }\n",
       "\n",
       "    .dataframe tbody tr th {\n",
       "        vertical-align: top;\n",
       "    }\n",
       "\n",
       "    .dataframe thead th {\n",
       "        text-align: right;\n",
       "    }\n",
       "</style>\n",
       "<table border=\"1\" class=\"dataframe\">\n",
       "  <thead>\n",
       "    <tr style=\"text-align: right;\">\n",
       "      <th></th>\n",
       "      <th>collaborative</th>\n",
       "      <th>description</th>\n",
       "      <th>external_urls</th>\n",
       "      <th>href</th>\n",
       "      <th>id</th>\n",
       "      <th>images</th>\n",
       "      <th>name</th>\n",
       "      <th>owner</th>\n",
       "      <th>primary_color</th>\n",
       "      <th>public</th>\n",
       "      <th>snapshot_id</th>\n",
       "      <th>tracks</th>\n",
       "      <th>type</th>\n",
       "      <th>uri</th>\n",
       "    </tr>\n",
       "  </thead>\n",
       "  <tbody>\n",
       "    <tr>\n",
       "      <th>0</th>\n",
       "      <td>False</td>\n",
       "      <td>Bad Bunny on top of the Hottest 50!</td>\n",
       "      <td>{'spotify': 'https://open.spotify.com/playlist...</td>\n",
       "      <td>https://api.spotify.com/v1/playlists/37i9dQZF1...</td>\n",
       "      <td>37i9dQZF1DXcBWIGoYBM5M</td>\n",
       "      <td>[{'height': None, 'url': 'https://i.scdn.co/im...</td>\n",
       "      <td>Today's Top Hits</td>\n",
       "      <td>{'display_name': 'Spotify', 'external_urls': {...</td>\n",
       "      <td>None</td>\n",
       "      <td>None</td>\n",
       "      <td>MTY5NzE2OTYwMCwwMDAwMDAwMDg2YjA3ZDhjZTYwMWE0Mm...</td>\n",
       "      <td>{'href': 'https://api.spotify.com/v1/playlists...</td>\n",
       "      <td>playlist</td>\n",
       "      <td>spotify:playlist:37i9dQZF1DXcBWIGoYBM5M</td>\n",
       "    </tr>\n",
       "    <tr>\n",
       "      <th>1</th>\n",
       "      <td>False</td>\n",
       "      <td>the beat of your drift</td>\n",
       "      <td>{'spotify': 'https://open.spotify.com/playlist...</td>\n",
       "      <td>https://api.spotify.com/v1/playlists/37i9dQZF1...</td>\n",
       "      <td>37i9dQZF1DWWY64wDtewQt</td>\n",
       "      <td>[{'height': None, 'url': 'https://i.scdn.co/im...</td>\n",
       "      <td>phonk</td>\n",
       "      <td>{'display_name': 'Spotify', 'external_urls': {...</td>\n",
       "      <td>None</td>\n",
       "      <td>None</td>\n",
       "      <td>MTY5NzIxMDY4NCwwMDAwMDAwMDFmMWVhZWMzZTk0MTRiMG...</td>\n",
       "      <td>{'href': 'https://api.spotify.com/v1/playlists...</td>\n",
       "      <td>playlist</td>\n",
       "      <td>spotify:playlist:37i9dQZF1DWWY64wDtewQt</td>\n",
       "    </tr>\n",
       "  </tbody>\n",
       "</table>\n",
       "</div>"
      ],
      "text/plain": [
       "   collaborative                          description  \\\n",
       "0          False  Bad Bunny on top of the Hottest 50!   \n",
       "1          False               the beat of your drift   \n",
       "\n",
       "                                       external_urls  \\\n",
       "0  {'spotify': 'https://open.spotify.com/playlist...   \n",
       "1  {'spotify': 'https://open.spotify.com/playlist...   \n",
       "\n",
       "                                                href                      id  \\\n",
       "0  https://api.spotify.com/v1/playlists/37i9dQZF1...  37i9dQZF1DXcBWIGoYBM5M   \n",
       "1  https://api.spotify.com/v1/playlists/37i9dQZF1...  37i9dQZF1DWWY64wDtewQt   \n",
       "\n",
       "                                              images               name  \\\n",
       "0  [{'height': None, 'url': 'https://i.scdn.co/im...  Today's Top Hits    \n",
       "1  [{'height': None, 'url': 'https://i.scdn.co/im...              phonk   \n",
       "\n",
       "                                               owner primary_color public  \\\n",
       "0  {'display_name': 'Spotify', 'external_urls': {...          None   None   \n",
       "1  {'display_name': 'Spotify', 'external_urls': {...          None   None   \n",
       "\n",
       "                                         snapshot_id  \\\n",
       "0  MTY5NzE2OTYwMCwwMDAwMDAwMDg2YjA3ZDhjZTYwMWE0Mm...   \n",
       "1  MTY5NzIxMDY4NCwwMDAwMDAwMDFmMWVhZWMzZTk0MTRiMG...   \n",
       "\n",
       "                                              tracks      type  \\\n",
       "0  {'href': 'https://api.spotify.com/v1/playlists...  playlist   \n",
       "1  {'href': 'https://api.spotify.com/v1/playlists...  playlist   \n",
       "\n",
       "                                       uri  \n",
       "0  spotify:playlist:37i9dQZF1DXcBWIGoYBM5M  \n",
       "1  spotify:playlist:37i9dQZF1DWWY64wDtewQt  "
      ]
     },
     "execution_count": 24,
     "metadata": {},
     "output_type": "execute_result"
    }
   ],
   "source": [
    "playlists_df= pd.DataFrame(playlists_data['playlists']['items'])\n",
    "playlists_df.head(2)"
   ]
  },
  {
   "cell_type": "markdown",
   "id": "02849746",
   "metadata": {},
   "source": [
    "I must organize my graph with only the description, name, and ID to satisfy our hypothesis. I will use the name and description to pick the playlist that represents my taste in music and describes my personality the best and matches my music taste"
   ]
  },
  {
   "cell_type": "code",
   "execution_count": 25,
   "id": "c1e3d4e3",
   "metadata": {
    "scrolled": false
   },
   "outputs": [
    {
     "data": {
      "text/html": [
       "<div>\n",
       "<style scoped>\n",
       "    .dataframe tbody tr th:only-of-type {\n",
       "        vertical-align: middle;\n",
       "    }\n",
       "\n",
       "    .dataframe tbody tr th {\n",
       "        vertical-align: top;\n",
       "    }\n",
       "\n",
       "    .dataframe thead th {\n",
       "        text-align: right;\n",
       "    }\n",
       "</style>\n",
       "<table border=\"1\" class=\"dataframe\">\n",
       "  <thead>\n",
       "    <tr style=\"text-align: right;\">\n",
       "      <th></th>\n",
       "      <th>description</th>\n",
       "      <th>name</th>\n",
       "      <th>id</th>\n",
       "    </tr>\n",
       "  </thead>\n",
       "  <tbody>\n",
       "    <tr>\n",
       "      <th>0</th>\n",
       "      <td>Bad Bunny on top of the Hottest 50!</td>\n",
       "      <td>Today's Top Hits</td>\n",
       "      <td>37i9dQZF1DXcBWIGoYBM5M</td>\n",
       "    </tr>\n",
       "    <tr>\n",
       "      <th>1</th>\n",
       "      <td>the beat of your drift</td>\n",
       "      <td>phonk</td>\n",
       "      <td>37i9dQZF1DWWY64wDtewQt</td>\n",
       "    </tr>\n",
       "    <tr>\n",
       "      <th>2</th>\n",
       "      <td>Peaceful piano to help you slow down, breathe,...</td>\n",
       "      <td>Peaceful Piano</td>\n",
       "      <td>37i9dQZF1DX4sWSpwq3LiO</td>\n",
       "    </tr>\n",
       "    <tr>\n",
       "      <th>3</th>\n",
       "      <td>iykyk</td>\n",
       "      <td>big on the internet</td>\n",
       "      <td>37i9dQZF1DX5Vy6DFOcx00</td>\n",
       "    </tr>\n",
       "    <tr>\n",
       "      <th>4</th>\n",
       "      <td>The biggest songs of the 2010s.</td>\n",
       "      <td>All Out 2010s</td>\n",
       "      <td>37i9dQZF1DX5Ejj0EkURtP</td>\n",
       "    </tr>\n",
       "    <tr>\n",
       "      <th>5</th>\n",
       "      <td>New music from Kodak Black, Key Glock and Offs...</td>\n",
       "      <td>RapCaviar</td>\n",
       "      <td>37i9dQZF1DX0XUsuxWHRQd</td>\n",
       "    </tr>\n",
       "    <tr>\n",
       "      <th>6</th>\n",
       "      <td>Kick back to the best new and recent chill hits.</td>\n",
       "      <td>Chill Hits</td>\n",
       "      <td>37i9dQZF1DX4WYpdgoIcn6</td>\n",
       "    </tr>\n",
       "    <tr>\n",
       "      <th>7</th>\n",
       "      <td>150%</td>\n",
       "      <td>sped up songs</td>\n",
       "      <td>37i9dQZF1DX0mWZXNs0ArA</td>\n",
       "    </tr>\n",
       "    <tr>\n",
       "      <th>8</th>\n",
       "      <td>Rock legends &amp; epic songs that continue to ins...</td>\n",
       "      <td>Rock Classics</td>\n",
       "      <td>37i9dQZF1DWXRqgorJj26U</td>\n",
       "    </tr>\n",
       "    <tr>\n",
       "      <th>9</th>\n",
       "      <td>Get your beast mode on!</td>\n",
       "      <td>Beast Mode</td>\n",
       "      <td>37i9dQZF1DX76Wlfdnj7AP</td>\n",
       "    </tr>\n",
       "  </tbody>\n",
       "</table>\n",
       "</div>"
      ],
      "text/plain": [
       "                                         description                 name  \\\n",
       "0                Bad Bunny on top of the Hottest 50!    Today's Top Hits    \n",
       "1                             the beat of your drift                phonk   \n",
       "2  Peaceful piano to help you slow down, breathe,...       Peaceful Piano   \n",
       "3                                              iykyk  big on the internet   \n",
       "4                   The biggest songs of the 2010s.         All Out 2010s   \n",
       "5  New music from Kodak Black, Key Glock and Offs...            RapCaviar   \n",
       "6   Kick back to the best new and recent chill hits.           Chill Hits   \n",
       "7                                               150%        sped up songs   \n",
       "8  Rock legends & epic songs that continue to ins...        Rock Classics   \n",
       "9                            Get your beast mode on!           Beast Mode   \n",
       "\n",
       "                       id  \n",
       "0  37i9dQZF1DXcBWIGoYBM5M  \n",
       "1  37i9dQZF1DWWY64wDtewQt  \n",
       "2  37i9dQZF1DX4sWSpwq3LiO  \n",
       "3  37i9dQZF1DX5Vy6DFOcx00  \n",
       "4  37i9dQZF1DX5Ejj0EkURtP  \n",
       "5  37i9dQZF1DX0XUsuxWHRQd  \n",
       "6  37i9dQZF1DX4WYpdgoIcn6  \n",
       "7  37i9dQZF1DX0mWZXNs0ArA  \n",
       "8  37i9dQZF1DWXRqgorJj26U  \n",
       "9  37i9dQZF1DX76Wlfdnj7AP  "
      ]
     },
     "execution_count": 25,
     "metadata": {},
     "output_type": "execute_result"
    }
   ],
   "source": [
    "playlists_narrowed = playlists_df [['description', 'name', 'id']]\n",
    "playlists_narrowed.head(10)"
   ]
  },
  {
   "cell_type": "markdown",
   "id": "966899d2",
   "metadata": {},
   "source": [
    "After listening and doing some researched about the playlist, I decided to pick the playlist named __\"I Love My '90s Hip-Hop.\"__"
   ]
  },
  {
   "cell_type": "code",
   "execution_count": 26,
   "id": "f75fc317",
   "metadata": {},
   "outputs": [],
   "source": [
    "playlist_id = \"37i9dQZF1DX186v583rmzp\""
   ]
  },
  {
   "cell_type": "markdown",
   "id": "f6bcdc34",
   "metadata": {},
   "source": [
    "Using the second endpoint, I sorted the tracks by popularity and duration "
   ]
  },
  {
   "cell_type": "code",
   "execution_count": 27,
   "id": "03885519",
   "metadata": {},
   "outputs": [],
   "source": [
    "playlist_url = 'https://api.spotify.com/v1/playlists/{}'.format(playlist_id)"
   ]
  },
  {
   "cell_type": "code",
   "execution_count": 28,
   "id": "55638d83",
   "metadata": {},
   "outputs": [],
   "source": [
    "playlist_url_response = requests.get(url = playlist_url, headers = session_headers)\n"
   ]
  },
  {
   "cell_type": "code",
   "execution_count": 29,
   "id": "49ae69ca",
   "metadata": {},
   "outputs": [],
   "source": [
    "playlist_url_data=playlist_url_response.json()"
   ]
  },
  {
   "cell_type": "code",
   "execution_count": 30,
   "id": "87e8391a",
   "metadata": {},
   "outputs": [
    {
     "data": {
      "text/plain": [
       "dict_keys(['collaborative', 'description', 'external_urls', 'followers', 'href', 'id', 'images', 'name', 'owner', 'primary_color', 'public', 'snapshot_id', 'tracks', 'type', 'uri'])"
      ]
     },
     "execution_count": 30,
     "metadata": {},
     "output_type": "execute_result"
    }
   ],
   "source": [
    "playlist_url_data.keys()"
   ]
  },
  {
   "cell_type": "code",
   "execution_count": 31,
   "id": "3604c415",
   "metadata": {},
   "outputs": [
    {
     "data": {
      "text/plain": [
       "dict_keys(['href', 'items', 'limit', 'next', 'offset', 'previous', 'total'])"
      ]
     },
     "execution_count": 31,
     "metadata": {},
     "output_type": "execute_result"
    }
   ],
   "source": [
    "playlist_url_data['tracks'].keys()"
   ]
  },
  {
   "cell_type": "markdown",
   "id": "268b0d26",
   "metadata": {},
   "source": [
    "Getting Inside the \"track\" I can find the popularity and duration "
   ]
  },
  {
   "cell_type": "code",
   "execution_count": 32,
   "id": "11e94b63",
   "metadata": {
    "scrolled": false
   },
   "outputs": [
    {
     "data": {
      "text/html": [
       "<div>\n",
       "<style scoped>\n",
       "    .dataframe tbody tr th:only-of-type {\n",
       "        vertical-align: middle;\n",
       "    }\n",
       "\n",
       "    .dataframe tbody tr th {\n",
       "        vertical-align: top;\n",
       "    }\n",
       "\n",
       "    .dataframe thead th {\n",
       "        text-align: right;\n",
       "    }\n",
       "</style>\n",
       "<table border=\"1\" class=\"dataframe\">\n",
       "  <thead>\n",
       "    <tr style=\"text-align: right;\">\n",
       "      <th></th>\n",
       "      <th>album</th>\n",
       "      <th>artists</th>\n",
       "      <th>available_markets</th>\n",
       "      <th>disc_number</th>\n",
       "      <th>duration_ms</th>\n",
       "      <th>episode</th>\n",
       "      <th>explicit</th>\n",
       "      <th>external_ids</th>\n",
       "      <th>external_urls</th>\n",
       "      <th>href</th>\n",
       "      <th>id</th>\n",
       "      <th>is_local</th>\n",
       "      <th>name</th>\n",
       "      <th>popularity</th>\n",
       "      <th>preview_url</th>\n",
       "      <th>track</th>\n",
       "      <th>track_number</th>\n",
       "      <th>type</th>\n",
       "      <th>uri</th>\n",
       "    </tr>\n",
       "  </thead>\n",
       "  <tbody>\n",
       "    <tr>\n",
       "      <th>0</th>\n",
       "      <td>{'album_type': 'album', 'artists': [{'external...</td>\n",
       "      <td>[{'external_urls': {'spotify': 'https://open.s...</td>\n",
       "      <td>[AR, AU, AT, BE, BO, BR, BG, CA, CL, CO, CR, C...</td>\n",
       "      <td>1</td>\n",
       "      <td>251666</td>\n",
       "      <td>False</td>\n",
       "      <td>True</td>\n",
       "      <td>{'isrc': 'USLF29600148'}</td>\n",
       "      <td>{'spotify': 'https://open.spotify.com/track/6w...</td>\n",
       "      <td>https://api.spotify.com/v1/tracks/6w4Mlvpuxtbj...</td>\n",
       "      <td>6w4MlvpuxtbjGdL9YeTx89</td>\n",
       "      <td>False</td>\n",
       "      <td>Jazzy Belle</td>\n",
       "      <td>67</td>\n",
       "      <td>https://p.scdn.co/mp3-preview/dfee0ea5a130f79a...</td>\n",
       "      <td>True</td>\n",
       "      <td>5</td>\n",
       "      <td>track</td>\n",
       "      <td>spotify:track:6w4MlvpuxtbjGdL9YeTx89</td>\n",
       "    </tr>\n",
       "    <tr>\n",
       "      <th>1</th>\n",
       "      <td>{'album_type': 'album', 'artists': [{'external...</td>\n",
       "      <td>[{'external_urls': {'spotify': 'https://open.s...</td>\n",
       "      <td>[AR, AU, AT, BE, BO, BR, BG, CA, CL, CO, CR, C...</td>\n",
       "      <td>1</td>\n",
       "      <td>240693</td>\n",
       "      <td>False</td>\n",
       "      <td>False</td>\n",
       "      <td>{'isrc': 'USTB10400128'}</td>\n",
       "      <td>{'spotify': 'https://open.spotify.com/track/1D...</td>\n",
       "      <td>https://api.spotify.com/v1/tracks/1DIXPcTDzTj8...</td>\n",
       "      <td>1DIXPcTDzTj8ZMHt3PDt8p</td>\n",
       "      <td>False</td>\n",
       "      <td>Gangsta's Paradise</td>\n",
       "      <td>87</td>\n",
       "      <td>https://p.scdn.co/mp3-preview/1454c63a66c27ac7...</td>\n",
       "      <td>True</td>\n",
       "      <td>2</td>\n",
       "      <td>track</td>\n",
       "      <td>spotify:track:1DIXPcTDzTj8ZMHt3PDt8p</td>\n",
       "    </tr>\n",
       "  </tbody>\n",
       "</table>\n",
       "</div>"
      ],
      "text/plain": [
       "                                               album  \\\n",
       "0  {'album_type': 'album', 'artists': [{'external...   \n",
       "1  {'album_type': 'album', 'artists': [{'external...   \n",
       "\n",
       "                                             artists  \\\n",
       "0  [{'external_urls': {'spotify': 'https://open.s...   \n",
       "1  [{'external_urls': {'spotify': 'https://open.s...   \n",
       "\n",
       "                                   available_markets  disc_number  \\\n",
       "0  [AR, AU, AT, BE, BO, BR, BG, CA, CL, CO, CR, C...            1   \n",
       "1  [AR, AU, AT, BE, BO, BR, BG, CA, CL, CO, CR, C...            1   \n",
       "\n",
       "   duration_ms  episode  explicit              external_ids  \\\n",
       "0       251666    False      True  {'isrc': 'USLF29600148'}   \n",
       "1       240693    False     False  {'isrc': 'USTB10400128'}   \n",
       "\n",
       "                                       external_urls  \\\n",
       "0  {'spotify': 'https://open.spotify.com/track/6w...   \n",
       "1  {'spotify': 'https://open.spotify.com/track/1D...   \n",
       "\n",
       "                                                href                      id  \\\n",
       "0  https://api.spotify.com/v1/tracks/6w4Mlvpuxtbj...  6w4MlvpuxtbjGdL9YeTx89   \n",
       "1  https://api.spotify.com/v1/tracks/1DIXPcTDzTj8...  1DIXPcTDzTj8ZMHt3PDt8p   \n",
       "\n",
       "   is_local                name  popularity  \\\n",
       "0     False         Jazzy Belle          67   \n",
       "1     False  Gangsta's Paradise          87   \n",
       "\n",
       "                                         preview_url  track  track_number  \\\n",
       "0  https://p.scdn.co/mp3-preview/dfee0ea5a130f79a...   True             5   \n",
       "1  https://p.scdn.co/mp3-preview/1454c63a66c27ac7...   True             2   \n",
       "\n",
       "    type                                   uri  \n",
       "0  track  spotify:track:6w4MlvpuxtbjGdL9YeTx89  \n",
       "1  track  spotify:track:1DIXPcTDzTj8ZMHt3PDt8p  "
      ]
     },
     "execution_count": 32,
     "metadata": {},
     "output_type": "execute_result"
    }
   ],
   "source": [
    "playlist_df = pd.DataFrame([x['track'] for x in playlist_url_data['tracks']['items']])\n",
    "playlist_df.head(2)"
   ]
  },
  {
   "cell_type": "code",
   "execution_count": 33,
   "id": "bfe16a24",
   "metadata": {},
   "outputs": [
    {
     "data": {
      "text/plain": [
       "dict_keys(['collaborative', 'description', 'external_urls', 'followers', 'href', 'id', 'images', 'name', 'owner', 'primary_color', 'public', 'snapshot_id', 'tracks', 'type', 'uri'])"
      ]
     },
     "execution_count": 33,
     "metadata": {},
     "output_type": "execute_result"
    }
   ],
   "source": [
    "playlist_url_data.keys()"
   ]
  },
  {
   "cell_type": "markdown",
   "id": "8efe0806",
   "metadata": {},
   "source": [
    "I organized my graph to make it visually understandable by name popularity duration, and ID and sorted them using .sort_values()"
   ]
  },
  {
   "cell_type": "code",
   "execution_count": 34,
   "id": "ac18e358",
   "metadata": {
    "scrolled": true
   },
   "outputs": [],
   "source": [
    "playlist_poplarity = playlist_df[['name','popularity','duration_ms','id']].sort_values('popularity', ascending = False).head(10)\n",
    "playlist_duration_ms = playlist_df[['name','duration_ms','popularity','id']].sort_values('duration_ms', ascending = False). head(10)"
   ]
  },
  {
   "cell_type": "markdown",
   "id": "6aa8cd32",
   "metadata": {},
   "source": [
    "Below using pd.concat, I placed two graphs together to get a better comparison of the graphs.   \n",
    "100: being most popular  \n",
    "0: being least popular  \n",
    "The most popular ranking of 87, \"Gangsta's Paradise,\" has a short duration compared to \"The Humpty Dance,\" which has the most extended duration on the playlist with a ranking of 64.   \n",
    "We can conclude that songs with short duration are more popular than songs with long duration. "
   ]
  },
  {
   "cell_type": "code",
   "execution_count": 35,
   "id": "59a7b104",
   "metadata": {},
   "outputs": [
    {
     "data": {
      "text/html": [
       "<div>\n",
       "<style scoped>\n",
       "    .dataframe tbody tr th:only-of-type {\n",
       "        vertical-align: middle;\n",
       "    }\n",
       "\n",
       "    .dataframe tbody tr th {\n",
       "        vertical-align: top;\n",
       "    }\n",
       "\n",
       "    .dataframe thead th {\n",
       "        text-align: right;\n",
       "    }\n",
       "</style>\n",
       "<table border=\"1\" class=\"dataframe\">\n",
       "  <thead>\n",
       "    <tr style=\"text-align: right;\">\n",
       "      <th></th>\n",
       "      <th>name</th>\n",
       "      <th>popularity</th>\n",
       "      <th>duration_ms</th>\n",
       "      <th>id</th>\n",
       "      <th>name</th>\n",
       "      <th>duration_ms</th>\n",
       "      <th>popularity</th>\n",
       "      <th>id</th>\n",
       "    </tr>\n",
       "  </thead>\n",
       "  <tbody>\n",
       "    <tr>\n",
       "      <th>0</th>\n",
       "      <td>Gangsta's Paradise</td>\n",
       "      <td>87</td>\n",
       "      <td>240693</td>\n",
       "      <td>1DIXPcTDzTj8ZMHt3PDt8p</td>\n",
       "      <td>The Humpty Dance</td>\n",
       "      <td>391693</td>\n",
       "      <td>64</td>\n",
       "      <td>0YEC3pNS0uIKvZb5u4lgsu</td>\n",
       "    </tr>\n",
       "    <tr>\n",
       "      <th>1</th>\n",
       "      <td>Still D.R.E.</td>\n",
       "      <td>84</td>\n",
       "      <td>270586</td>\n",
       "      <td>503OTo2dSqe7qk76rgsbep</td>\n",
       "      <td>Triumph (feat. Ol' Dirty Bastard, Inspectah De...</td>\n",
       "      <td>338186</td>\n",
       "      <td>65</td>\n",
       "      <td>3glqlA5qY3bbo8UaUDGPnw</td>\n",
       "    </tr>\n",
       "    <tr>\n",
       "      <th>2</th>\n",
       "      <td>It Was A Good Day</td>\n",
       "      <td>84</td>\n",
       "      <td>260000</td>\n",
       "      <td>2qOm7ukLyHUXWyR4ZWLwxA</td>\n",
       "      <td>Lost Ones</td>\n",
       "      <td>333906</td>\n",
       "      <td>66</td>\n",
       "      <td>71XhXay6rKPZCVAaDtFlSR</td>\n",
       "    </tr>\n",
       "    <tr>\n",
       "      <th>3</th>\n",
       "      <td>Hypnotize - 2014 Remaster</td>\n",
       "      <td>82</td>\n",
       "      <td>229826</td>\n",
       "      <td>7KwZNVEaqikRSBSpyhXK2j</td>\n",
       "      <td>Real Muthaphuckkin G's</td>\n",
       "      <td>332626</td>\n",
       "      <td>64</td>\n",
       "      <td>7q6lr1W6cmGWijl5kCv5RG</td>\n",
       "    </tr>\n",
       "    <tr>\n",
       "      <th>4</th>\n",
       "      <td>The Next Episode</td>\n",
       "      <td>82</td>\n",
       "      <td>161506</td>\n",
       "      <td>4LwU4Vp6od3Sb08CsP99GC</td>\n",
       "      <td>Shook Ones, Pt. II</td>\n",
       "      <td>325506</td>\n",
       "      <td>78</td>\n",
       "      <td>33ZXjLCpiINn8eQIDYEPTD</td>\n",
       "    </tr>\n",
       "  </tbody>\n",
       "</table>\n",
       "</div>"
      ],
      "text/plain": [
       "                        name  popularity  duration_ms                      id  \\\n",
       "0         Gangsta's Paradise          87       240693  1DIXPcTDzTj8ZMHt3PDt8p   \n",
       "1               Still D.R.E.          84       270586  503OTo2dSqe7qk76rgsbep   \n",
       "2          It Was A Good Day          84       260000  2qOm7ukLyHUXWyR4ZWLwxA   \n",
       "3  Hypnotize - 2014 Remaster          82       229826  7KwZNVEaqikRSBSpyhXK2j   \n",
       "4           The Next Episode          82       161506  4LwU4Vp6od3Sb08CsP99GC   \n",
       "\n",
       "                                                name  duration_ms  popularity  \\\n",
       "0                                   The Humpty Dance       391693          64   \n",
       "1  Triumph (feat. Ol' Dirty Bastard, Inspectah De...       338186          65   \n",
       "2                                          Lost Ones       333906          66   \n",
       "3                             Real Muthaphuckkin G's       332626          64   \n",
       "4                                 Shook Ones, Pt. II       325506          78   \n",
       "\n",
       "                       id  \n",
       "0  0YEC3pNS0uIKvZb5u4lgsu  \n",
       "1  3glqlA5qY3bbo8UaUDGPnw  \n",
       "2  71XhXay6rKPZCVAaDtFlSR  \n",
       "3  7q6lr1W6cmGWijl5kCv5RG  \n",
       "4  33ZXjLCpiINn8eQIDYEPTD  "
      ]
     },
     "execution_count": 35,
     "metadata": {},
     "output_type": "execute_result"
    }
   ],
   "source": [
    "result = pd.concat([playlist_poplarity, playlist_duration_ms], axis=1)\n",
    "result.head(30)\n",
    "playlist_poplarity.reset_index(drop=True, inplace=True)\n",
    "playlist_duration_ms.reset_index(drop=True, inplace=True)\n",
    "joined_df = (pd.concat([playlist_poplarity, playlist_duration_ms], axis=1))\n",
    "joined_df.head(5)"
   ]
  },
  {
   "cell_type": "markdown",
   "id": "fc530f8b",
   "metadata": {},
   "source": [
    "I wanted to compare the joined_df graph with the top 5 most danceable tracks.  \n",
    "By joining the tracks IDs, I will put them in my third endpoint __\"audio-features\"__ to get the danceability of the songs "
   ]
  },
  {
   "cell_type": "code",
   "execution_count": 36,
   "id": "f8a67bdb",
   "metadata": {},
   "outputs": [],
   "source": [
    "I wanted to compare the joined_df graph with the top 5 most danceable tracks.\n",
    "By joining the tracks IDs, I will put them in my third endpoint __\"audio-features\"__ to get the danceability of the songs tracks_url = 'https://api.spotify.com/v1/audio-features?ids={}'\\\n",
    ".format(','.join(list(playlist_df['id'])))\n"
   ]
  },
  {
   "cell_type": "markdown",
   "id": "cf5dd6c0",
   "metadata": {},
   "source": [
    "After getting the desired response, I dived into audio_features to get more detailed information about the tracks."
   ]
  },
  {
   "cell_type": "code",
   "execution_count": 37,
   "id": "51f40848",
   "metadata": {},
   "outputs": [
    {
     "data": {
      "text/plain": [
       "200"
      ]
     },
     "execution_count": 37,
     "metadata": {},
     "output_type": "execute_result"
    }
   ],
   "source": [
    "tracks_url_response = requests.get(url = tracks_url , headers = session_headers)\n",
    "tracks_url_response.status_code"
   ]
  },
  {
   "cell_type": "code",
   "execution_count": 38,
   "id": "66b39900",
   "metadata": {},
   "outputs": [],
   "source": [
    "features=tracks_url_response.json()"
   ]
  },
  {
   "cell_type": "code",
   "execution_count": 39,
   "id": "887021f8",
   "metadata": {},
   "outputs": [
    {
     "data": {
      "text/plain": [
       "dict_keys(['audio_features'])"
      ]
     },
     "execution_count": 39,
     "metadata": {},
     "output_type": "execute_result"
    }
   ],
   "source": [
    "features.keys()"
   ]
  },
  {
   "cell_type": "code",
   "execution_count": 40,
   "id": "c6bf2935",
   "metadata": {},
   "outputs": [
    {
     "data": {
      "text/plain": [
       "dict_keys(['danceability', 'energy', 'key', 'loudness', 'mode', 'speechiness', 'acousticness', 'instrumentalness', 'liveness', 'valence', 'tempo', 'type', 'id', 'uri', 'track_href', 'analysis_url', 'duration_ms', 'time_signature'])"
      ]
     },
     "execution_count": 40,
     "metadata": {},
     "output_type": "execute_result"
    }
   ],
   "source": [
    "features['audio_features'][0].keys()"
   ]
  },
  {
   "cell_type": "markdown",
   "id": "8fe93be3",
   "metadata": {},
   "source": [
    "I pulled out the danceability from the audio featured and merged my two graphs by sorting the tracks by danceability.    \n",
    "One being the most danceable and zero being none.    \n",
    "The graph shows that most danceable songs had short duration."
   ]
  },
  {
   "cell_type": "code",
   "execution_count": 41,
   "id": "c645c80b",
   "metadata": {},
   "outputs": [
    {
     "data": {
      "text/html": [
       "<div>\n",
       "<style scoped>\n",
       "    .dataframe tbody tr th:only-of-type {\n",
       "        vertical-align: middle;\n",
       "    }\n",
       "\n",
       "    .dataframe tbody tr th {\n",
       "        vertical-align: top;\n",
       "    }\n",
       "\n",
       "    .dataframe thead th {\n",
       "        text-align: right;\n",
       "    }\n",
       "</style>\n",
       "<table border=\"1\" class=\"dataframe\">\n",
       "  <thead>\n",
       "    <tr style=\"text-align: right;\">\n",
       "      <th></th>\n",
       "      <th>name</th>\n",
       "      <th>popularity</th>\n",
       "      <th>duration_ms_x</th>\n",
       "      <th>danceability</th>\n",
       "    </tr>\n",
       "  </thead>\n",
       "  <tbody>\n",
       "    <tr>\n",
       "      <th>37</th>\n",
       "      <td>Shoop</td>\n",
       "      <td>72</td>\n",
       "      <td>248573</td>\n",
       "      <td>0.939</td>\n",
       "    </tr>\n",
       "    <tr>\n",
       "      <th>39</th>\n",
       "      <td>Check Yo Self - Remix</td>\n",
       "      <td>72</td>\n",
       "      <td>273106</td>\n",
       "      <td>0.934</td>\n",
       "    </tr>\n",
       "    <tr>\n",
       "      <th>51</th>\n",
       "      <td>Got Your Money (feat. Kelis)</td>\n",
       "      <td>70</td>\n",
       "      <td>239546</td>\n",
       "      <td>0.934</td>\n",
       "    </tr>\n",
       "    <tr>\n",
       "      <th>21</th>\n",
       "      <td>Forgot About Dre</td>\n",
       "      <td>81</td>\n",
       "      <td>222293</td>\n",
       "      <td>0.924</td>\n",
       "    </tr>\n",
       "    <tr>\n",
       "      <th>12</th>\n",
       "      <td>The Next Episode</td>\n",
       "      <td>82</td>\n",
       "      <td>161506</td>\n",
       "      <td>0.922</td>\n",
       "    </tr>\n",
       "  </tbody>\n",
       "</table>\n",
       "</div>"
      ],
      "text/plain": [
       "                            name  popularity  duration_ms_x  danceability\n",
       "37                         Shoop          72         248573         0.939\n",
       "39         Check Yo Self - Remix          72         273106         0.934\n",
       "51  Got Your Money (feat. Kelis)          70         239546         0.934\n",
       "21              Forgot About Dre          81         222293         0.924\n",
       "12              The Next Episode          82         161506         0.922"
      ]
     },
     "execution_count": 41,
     "metadata": {},
     "output_type": "execute_result"
    }
   ],
   "source": [
    "features_df = pd.DataFrame(features['audio_features'])\n",
    "final_df = pd.merge(playlist_df, features_df, how = 'inner', on = 'id')\n",
    "final_df_orgnized = final_df[['name', 'popularity','duration_ms_x','danceability']].sort_values('danceability', ascending = False).head(10)\n",
    "final_df_orgnized.head(5)"
   ]
  },
  {
   "cell_type": "markdown",
   "id": "6a25e4ef",
   "metadata": {},
   "source": [
    "My final graph shows that the most popular songs have sort duration    \n",
    "songs that have a long duration are not as popular  \n",
    "Finally, songs with high danceability are viral and have a short duration."
   ]
  },
  {
   "cell_type": "code",
   "execution_count": 43,
   "id": "5b91f7e4",
   "metadata": {
    "scrolled": true
   },
   "outputs": [
    {
     "data": {
      "text/html": [
       "<div>\n",
       "<style scoped>\n",
       "    .dataframe tbody tr th:only-of-type {\n",
       "        vertical-align: middle;\n",
       "    }\n",
       "\n",
       "    .dataframe tbody tr th {\n",
       "        vertical-align: top;\n",
       "    }\n",
       "\n",
       "    .dataframe thead th {\n",
       "        text-align: right;\n",
       "    }\n",
       "</style>\n",
       "<table border=\"1\" class=\"dataframe\">\n",
       "  <thead>\n",
       "    <tr style=\"text-align: right;\">\n",
       "      <th></th>\n",
       "      <th>name</th>\n",
       "      <th>popularity</th>\n",
       "      <th>duration_ms</th>\n",
       "      <th>id</th>\n",
       "      <th>name</th>\n",
       "      <th>duration_ms</th>\n",
       "      <th>popularity</th>\n",
       "      <th>id</th>\n",
       "      <th>name</th>\n",
       "      <th>popularity</th>\n",
       "      <th>duration_ms_x</th>\n",
       "      <th>danceability</th>\n",
       "    </tr>\n",
       "  </thead>\n",
       "  <tbody>\n",
       "    <tr>\n",
       "      <th>0</th>\n",
       "      <td>Gangsta's Paradise</td>\n",
       "      <td>87</td>\n",
       "      <td>240693</td>\n",
       "      <td>1DIXPcTDzTj8ZMHt3PDt8p</td>\n",
       "      <td>The Humpty Dance</td>\n",
       "      <td>391693</td>\n",
       "      <td>64</td>\n",
       "      <td>0YEC3pNS0uIKvZb5u4lgsu</td>\n",
       "      <td>Shoop</td>\n",
       "      <td>72</td>\n",
       "      <td>248573</td>\n",
       "      <td>0.939</td>\n",
       "    </tr>\n",
       "    <tr>\n",
       "      <th>1</th>\n",
       "      <td>Still D.R.E.</td>\n",
       "      <td>84</td>\n",
       "      <td>270586</td>\n",
       "      <td>503OTo2dSqe7qk76rgsbep</td>\n",
       "      <td>Triumph (feat. Ol' Dirty Bastard, Inspectah De...</td>\n",
       "      <td>338186</td>\n",
       "      <td>65</td>\n",
       "      <td>3glqlA5qY3bbo8UaUDGPnw</td>\n",
       "      <td>Check Yo Self - Remix</td>\n",
       "      <td>72</td>\n",
       "      <td>273106</td>\n",
       "      <td>0.934</td>\n",
       "    </tr>\n",
       "    <tr>\n",
       "      <th>2</th>\n",
       "      <td>It Was A Good Day</td>\n",
       "      <td>84</td>\n",
       "      <td>260000</td>\n",
       "      <td>2qOm7ukLyHUXWyR4ZWLwxA</td>\n",
       "      <td>Lost Ones</td>\n",
       "      <td>333906</td>\n",
       "      <td>66</td>\n",
       "      <td>71XhXay6rKPZCVAaDtFlSR</td>\n",
       "      <td>Got Your Money (feat. Kelis)</td>\n",
       "      <td>70</td>\n",
       "      <td>239546</td>\n",
       "      <td>0.934</td>\n",
       "    </tr>\n",
       "    <tr>\n",
       "      <th>3</th>\n",
       "      <td>Hypnotize - 2014 Remaster</td>\n",
       "      <td>82</td>\n",
       "      <td>229826</td>\n",
       "      <td>7KwZNVEaqikRSBSpyhXK2j</td>\n",
       "      <td>Real Muthaphuckkin G's</td>\n",
       "      <td>332626</td>\n",
       "      <td>64</td>\n",
       "      <td>7q6lr1W6cmGWijl5kCv5RG</td>\n",
       "      <td>Forgot About Dre</td>\n",
       "      <td>81</td>\n",
       "      <td>222293</td>\n",
       "      <td>0.924</td>\n",
       "    </tr>\n",
       "    <tr>\n",
       "      <th>4</th>\n",
       "      <td>The Next Episode</td>\n",
       "      <td>82</td>\n",
       "      <td>161506</td>\n",
       "      <td>4LwU4Vp6od3Sb08CsP99GC</td>\n",
       "      <td>Shook Ones, Pt. II</td>\n",
       "      <td>325506</td>\n",
       "      <td>78</td>\n",
       "      <td>33ZXjLCpiINn8eQIDYEPTD</td>\n",
       "      <td>The Next Episode</td>\n",
       "      <td>82</td>\n",
       "      <td>161506</td>\n",
       "      <td>0.922</td>\n",
       "    </tr>\n",
       "  </tbody>\n",
       "</table>\n",
       "</div>"
      ],
      "text/plain": [
       "                        name  popularity  duration_ms                      id  \\\n",
       "0         Gangsta's Paradise          87       240693  1DIXPcTDzTj8ZMHt3PDt8p   \n",
       "1               Still D.R.E.          84       270586  503OTo2dSqe7qk76rgsbep   \n",
       "2          It Was A Good Day          84       260000  2qOm7ukLyHUXWyR4ZWLwxA   \n",
       "3  Hypnotize - 2014 Remaster          82       229826  7KwZNVEaqikRSBSpyhXK2j   \n",
       "4           The Next Episode          82       161506  4LwU4Vp6od3Sb08CsP99GC   \n",
       "\n",
       "                                                name  duration_ms  popularity  \\\n",
       "0                                   The Humpty Dance       391693          64   \n",
       "1  Triumph (feat. Ol' Dirty Bastard, Inspectah De...       338186          65   \n",
       "2                                          Lost Ones       333906          66   \n",
       "3                             Real Muthaphuckkin G's       332626          64   \n",
       "4                                 Shook Ones, Pt. II       325506          78   \n",
       "\n",
       "                       id                          name  popularity  \\\n",
       "0  0YEC3pNS0uIKvZb5u4lgsu                         Shoop          72   \n",
       "1  3glqlA5qY3bbo8UaUDGPnw         Check Yo Self - Remix          72   \n",
       "2  71XhXay6rKPZCVAaDtFlSR  Got Your Money (feat. Kelis)          70   \n",
       "3  7q6lr1W6cmGWijl5kCv5RG              Forgot About Dre          81   \n",
       "4  33ZXjLCpiINn8eQIDYEPTD              The Next Episode          82   \n",
       "\n",
       "   duration_ms_x  danceability  \n",
       "0         248573         0.939  \n",
       "1         273106         0.934  \n",
       "2         239546         0.934  \n",
       "3         222293         0.924  \n",
       "4         161506         0.922  "
      ]
     },
     "execution_count": 43,
     "metadata": {},
     "output_type": "execute_result"
    }
   ],
   "source": [
    "final_graph =  pd.concat([joined_df, final_df_orgnized], axis=1)\n",
    "joined_df.reset_index(drop=True, inplace=True)\n",
    "final_df_orgnized.reset_index(drop=True, inplace=True)\n",
    "final_graphs = (pd.concat([joined_df, final_df_orgnized], axis=1))\n",
    "final_graphs.head(5)"
   ]
  },
  {
   "cell_type": "markdown",
   "id": "cd62a52b",
   "metadata": {},
   "source": [
    "## Conclution\n",
    "My goal from my data is to understand what made the songs famous. Based on my collected data, the songs with short duration and high rate of danceability are more popular than songs with long duration and high rate of population. I picked to use a popular playlist in a specific county, which can limit my data. For my next step, I want to look at the bigger picture and narrow my list to pick and collect data from songs or playlists that came out during the past 3 to 5 years. This way, my analysis will be based on recent data, making it more accurate about what people like to listen to and why this generation prefers certain types of music.   \n"
   ]
  },
  {
   "cell_type": "code",
   "execution_count": null,
   "id": "78ee83b9",
   "metadata": {},
   "outputs": [],
   "source": []
  }
 ],
 "metadata": {
  "kernelspec": {
   "display_name": "Python 3 (ipykernel)",
   "language": "python",
   "name": "python3"
  },
  "language_info": {
   "codemirror_mode": {
    "name": "ipython",
    "version": 3
   },
   "file_extension": ".py",
   "mimetype": "text/x-python",
   "name": "python",
   "nbconvert_exporter": "python",
   "pygments_lexer": "ipython3",
   "version": "3.11.4"
  }
 },
 "nbformat": 4,
 "nbformat_minor": 5
}
