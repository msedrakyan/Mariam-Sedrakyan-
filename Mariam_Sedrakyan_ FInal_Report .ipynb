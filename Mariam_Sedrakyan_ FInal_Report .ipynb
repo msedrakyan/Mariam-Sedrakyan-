{
 "cells": [
  {
   "cell_type": "markdown",
   "id": "3f69d6a5",
   "metadata": {},
   "source": [
    "Analysis Plan\n",
    "## Mariam Sedrakyan\n",
    "### Hypotheses: How have two music tastes In America changed last 20years based on \"danceability\" and \"speechless\"?¶\n",
    "\n",
    "Music is a universal language that allows artists to express their feelings and thoughts. Music has been an essential part of human existence since time immemorial. The motivation of my project is to compare and contrast to understand how music tastes have changed in the last 20 or more years in America. Music taste is an adynamic and ever-evolving aspect representing individuals based on their experience. Life is a series of experiences, and these experiences often become intertwined with specific songs or genres. A song associated with a memorable event, a period of growth, or a significant relationship can evoke powerful emotions.\n",
    "\n",
    "My final project is about how music taste changed in America, what specific features of tracks changed, and how they affected the popularity of the music. For my data resource, I used Spotify API. It is very reliable data because what is collected is based on people's behaviors and preferences. With the Spotify app, I got audio features for tracks. This helped me to understand tracks detailed based on their \"danceability,\" \"instrumentals,\" \"speechiness,\" \"tempo,\" and act. I picked to dive into \"danceability\" and \"speechiness\" because, based on my previous reports,I found out that with higher \"danceability,\" there is a higher chance that people will love it. I also chose \"speechiness\" because I often hear from my parents and the older generation that \"Songs back then had deeper lyrics and content; songs nowadays are just beaten with little words that have no meaning.\"\n",
    "\n",
    "#### Speechiness \n",
    "__\"Speechiness detects the presence of spoken words in a track. The more exclusively speech-like the recording (e.g. talk show, audio book, poetry), the closer to 1.0 the attribute value. Values above 0.66 describe tracks that are probably made entirely of spoken words. Values between 0.33 and 0.66 describe tracks that may contain both music and speech, either in sections or layered, including such cases as rap music. Values below 0.33 most likely represent music and other non-speech-like tracks.\"__\n",
    "\n",
    "#### Danceability\n",
    "__Danceability describes how suitable a track is for dancing based on a combination of musical elements including tempo, rhythm stability, beat strength, and overall regularity. A value of 0.0 is least danceable and 1.0 is most danceable.__"
   ]
  },
  {
   "cell_type": "code",
   "execution_count": 1,
   "id": "a7db71a0",
   "metadata": {},
   "outputs": [],
   "source": [
    "from matplotlib import pyplot as plt\n",
    "from scipy import stats\n",
    "import pandas as pd\n",
    "import requests\n",
    "import base64\n",
    "import json\n",
    "import urllib\n",
    "import numpy as np\n",
    "\n"
   ]
  },
  {
   "cell_type": "markdown",
   "id": "62b89ca2",
   "metadata": {},
   "source": [
    "Below are the functions I used to get access tokens from Spotify's API. An access token is a string representing the authorization granted to the client. It is used in HTTP to prove the authenticity of the sender and receiver."
   ]
  },
  {
   "cell_type": "code",
   "execution_count": 2,
   "id": "d2a12975",
   "metadata": {},
   "outputs": [],
   "source": [
    "Client_ID = pd.read_csv(\"Spotify-Keys_9-23-21.txt\")['Client_ID'].iloc[0]\n",
    "Client_Secret = pd.read_csv(\"Spotify-Keys_secret.txt\")['Client_Secret'].iloc[0]\n"
   ]
  },
  {
   "cell_type": "markdown",
   "id": "e39d788c",
   "metadata": {},
   "source": [
    "Some of the information need to be hidden for confidentiality"
   ]
  },
  {
   "cell_type": "code",
   "execution_count": 3,
   "id": "88826f23",
   "metadata": {},
   "outputs": [],
   "source": [
    "# Client_ID\n",
    "# Client_Secret"
   ]
  },
  {
   "cell_type": "code",
   "execution_count": 4,
   "id": "1e6ec955",
   "metadata": {},
   "outputs": [],
   "source": [
    "client_cred = base64.b64encode(str(Client_ID + \":\" + Client_Secret).encode(\"ascii\"))\n"
   ]
  },
  {
   "cell_type": "code",
   "execution_count": 5,
   "id": "97e493db",
   "metadata": {},
   "outputs": [],
   "source": [
    "# client_cred\n"
   ]
  },
  {
   "cell_type": "code",
   "execution_count": 6,
   "id": "8afc2de2",
   "metadata": {},
   "outputs": [],
   "source": [
    "headers = {\"Authorization\": \"Basic {}\".format(client_cred.decode(\"ascii\"))}\n"
   ]
  },
  {
   "cell_type": "code",
   "execution_count": 7,
   "id": "afc1e409",
   "metadata": {},
   "outputs": [],
   "source": [
    "# headers\n"
   ]
  },
  {
   "cell_type": "markdown",
   "id": "b9d842d7",
   "metadata": {},
   "source": [
    "I am getting the access to token to check the response\n",
    "\n"
   ]
  },
  {
   "cell_type": "code",
   "execution_count": 8,
   "id": "08eaf1a8",
   "metadata": {},
   "outputs": [],
   "source": [
    "payload = {'grant_type' : 'client_credentials'}\n",
    "url = 'https://accounts.spotify.com/api/token'"
   ]
  },
  {
   "cell_type": "code",
   "execution_count": 9,
   "id": "1a0d7870",
   "metadata": {},
   "outputs": [],
   "source": [
    "session_key_response = requests.post(url = url, data = payload, headers = headers)\n"
   ]
  },
  {
   "cell_type": "code",
   "execution_count": 10,
   "id": "99d3904e",
   "metadata": {},
   "outputs": [
    {
     "data": {
      "text/plain": [
       "200"
      ]
     },
     "execution_count": 10,
     "metadata": {},
     "output_type": "execute_result"
    }
   ],
   "source": [
    "session_key_response.status_code\n"
   ]
  },
  {
   "cell_type": "code",
   "execution_count": 11,
   "id": "7cfc272a",
   "metadata": {},
   "outputs": [],
   "source": [
    "# session_key_response.json()['access_token']\n"
   ]
  },
  {
   "cell_type": "code",
   "execution_count": 12,
   "id": "dc66cdf9",
   "metadata": {},
   "outputs": [],
   "source": [
    "session_header_key = session_key_response.json()\n"
   ]
  },
  {
   "cell_type": "code",
   "execution_count": 13,
   "id": "4ed04a89",
   "metadata": {},
   "outputs": [],
   "source": [
    "key = session_header_key['access_token']\n"
   ]
  },
  {
   "cell_type": "code",
   "execution_count": 14,
   "id": "40e4e09d",
   "metadata": {},
   "outputs": [],
   "source": [
    "session_headers = {\"Authorization\": \"Bearer {}\".format(key)}\n"
   ]
  },
  {
   "cell_type": "code",
   "execution_count": 15,
   "id": "7df912a3",
   "metadata": {},
   "outputs": [],
   "source": [
    "# session_headers\n"
   ]
  },
  {
   "attachments": {
    "download.jpg": {
     "image/jpeg": "[encoded data removed]"
    }
   },
   "cell_type": "markdown",
   "id": "691c13b8",
   "metadata": {},
   "source": [
    "# Part 1:Hits of early 2000s\n",
    "![download.jpg](attachment:download.jpg)\n",
    "In order to satisfy my goals, I did research to find out the most popular tracks of the early 2000s. After that, I found a playlist with all the popular tracks realized during the early 2000s. This data will give me a base to start working on my next steps.\n",
    "\n",
    "Playlist ID"
   ]
  },
  {
   "cell_type": "code",
   "execution_count": 16,
   "id": "81e499a7",
   "metadata": {},
   "outputs": [],
   "source": [
    "early_hits_id=\"37i9dQZF1DWUZv12GM5cFk\"\n"
   ]
  },
  {
   "cell_type": "markdown",
   "id": "a636310c",
   "metadata": {},
   "source": [
    "In order to get the diteils from my playslist I took the playlist __ID__ and joint it with __get_playlists__ endpoint. \n",
    "\n"
   ]
  },
  {
   "cell_type": "code",
   "execution_count": 17,
   "id": "75bab048",
   "metadata": {},
   "outputs": [],
   "source": [
    "early_hits_url= 'https://api.spotify.com/v1/playlists/{}'.format(early_hits_id)\n"
   ]
  },
  {
   "cell_type": "code",
   "execution_count": 18,
   "id": "3d32c6e2",
   "metadata": {},
   "outputs": [
    {
     "data": {
      "text/plain": [
       "200"
      ]
     },
     "execution_count": 18,
     "metadata": {},
     "output_type": "execute_result"
    }
   ],
   "source": [
    "early_hits_response = requests.get(url = early_hits_url, headers = session_headers)\n",
    "early_hits_response.status_code"
   ]
  },
  {
   "cell_type": "markdown",
   "id": "500ca9d5",
   "metadata": {},
   "source": [
    "In order to create a dataframe I had to convert my data into .json() file"
   ]
  },
  {
   "cell_type": "code",
   "execution_count": 19,
   "id": "c3e5447c",
   "metadata": {},
   "outputs": [],
   "source": [
    "early_hits = early_hits_response.json()\n"
   ]
  },
  {
   "cell_type": "markdown",
   "id": "899eaeaa",
   "metadata": {},
   "source": [
    "My next step was to visualize the information about my playlist. I used pd.DataFrame and pulled out \"tracks,\" which were located inside \"tracks,\" and \"tracks\" were hidden inside \"items.\"\n",
    "\n",
    "My first data frame represents a couple of essential pieces of information about the tracks in the playlist. I separated the most helpful parts. As we can see, the data frame is sorted from the most popular to the least popular songs. One hundred being very popular and 0 being least popular, our result shows that \"Oops!... I Did it again\" by Britney Spears is the most popular song in the playlist with an 81 score."
   ]
  },
  {
   "cell_type": "code",
   "execution_count": 20,
   "id": "f0825be6",
   "metadata": {},
   "outputs": [
    {
     "data": {
      "text/html": [
       "<div>\n",
       "<style scoped>\n",
       "    .dataframe tbody tr th:only-of-type {\n",
       "        vertical-align: middle;\n",
       "    }\n",
       "\n",
       "    .dataframe tbody tr th {\n",
       "        vertical-align: top;\n",
       "    }\n",
       "\n",
       "    .dataframe thead th {\n",
       "        text-align: right;\n",
       "    }\n",
       "</style>\n",
       "<table border=\"1\" class=\"dataframe\">\n",
       "  <thead>\n",
       "    <tr style=\"text-align: right;\">\n",
       "      <th></th>\n",
       "      <th>name</th>\n",
       "      <th>popularity</th>\n",
       "      <th>id</th>\n",
       "      <th>type</th>\n",
       "    </tr>\n",
       "  </thead>\n",
       "  <tbody>\n",
       "    <tr>\n",
       "      <th>0</th>\n",
       "      <td>Oops!...I Did It Again</td>\n",
       "      <td>81</td>\n",
       "      <td>6naxalmIoLFWR0siv8dnQQ</td>\n",
       "      <td>track</td>\n",
       "    </tr>\n",
       "    <tr>\n",
       "      <th>1</th>\n",
       "      <td>All The Small Things</td>\n",
       "      <td>84</td>\n",
       "      <td>2m1hi0nfMR9vdGC8UcrnwU</td>\n",
       "      <td>track</td>\n",
       "    </tr>\n",
       "    <tr>\n",
       "      <th>2</th>\n",
       "      <td>Breathe</td>\n",
       "      <td>68</td>\n",
       "      <td>3y4LxiYMgDl4RethdzpmNe</td>\n",
       "      <td>track</td>\n",
       "    </tr>\n",
       "    <tr>\n",
       "      <th>3</th>\n",
       "      <td>It's My Life</td>\n",
       "      <td>82</td>\n",
       "      <td>0v1XpBHnsbkCn7iJ9Ucr1l</td>\n",
       "      <td>track</td>\n",
       "    </tr>\n",
       "    <tr>\n",
       "      <th>4</th>\n",
       "      <td>Bye Bye Bye</td>\n",
       "      <td>74</td>\n",
       "      <td>62bOmKYxYg7dhrC6gH9vFn</td>\n",
       "      <td>track</td>\n",
       "    </tr>\n",
       "  </tbody>\n",
       "</table>\n",
       "</div>"
      ],
      "text/plain": [
       "                     name  popularity                      id   type\n",
       "0  Oops!...I Did It Again          81  6naxalmIoLFWR0siv8dnQQ  track\n",
       "1    All The Small Things          84  2m1hi0nfMR9vdGC8UcrnwU  track\n",
       "2                 Breathe          68  3y4LxiYMgDl4RethdzpmNe  track\n",
       "3            It's My Life          82  0v1XpBHnsbkCn7iJ9Ucr1l  track\n",
       "4             Bye Bye Bye          74  62bOmKYxYg7dhrC6gH9vFn  track"
      ]
     },
     "execution_count": 20,
     "metadata": {},
     "output_type": "execute_result"
    }
   ],
   "source": [
    "early_hits_df = pd.DataFrame([x['track'] for x in early_hits['tracks']['items']])\n",
    "id_name_popularity_df =early_hits_df[['name','popularity','id','type']]\n",
    "id_name_popularity_df.head(5)"
   ]
  },
  {
   "cell_type": "markdown",
   "id": "a832eae6",
   "metadata": {},
   "source": [
    "My next step was to visualize the data of the songs to show that the tracks were, in fact, released in the early 2000s. In order to get __released_data__ I needed to dig in into albums that were located inside \"track.\" There was much different information. However, I only separated __released_data__  column. \n",
    "This is when I started to face some challenges. The __ID__ in the DataFrame is the ID of albums, and inside the album, every 0th track is the track from the original playlist. Another difference we can see that indicates that these are album information is the type column changed from \"track\" to \"album\" once I pulled out \"release_date.\" However, because of the short time, I decided to work with my existing data to compare two albums. Later on, I plan to work on my date and figure out how to find a solution.\n",
    "\n",
    "\n",
    "I sorted the  __realese_date__ values to increase from the oldest to the newest album to see what the top 5 albums were realized."
   ]
  },
  {
   "cell_type": "code",
   "execution_count": 21,
   "id": "4054e3d3",
   "metadata": {},
   "outputs": [
    {
     "data": {
      "text/html": [
       "<div>\n",
       "<style scoped>\n",
       "    .dataframe tbody tr th:only-of-type {\n",
       "        vertical-align: middle;\n",
       "    }\n",
       "\n",
       "    .dataframe tbody tr th {\n",
       "        vertical-align: top;\n",
       "    }\n",
       "\n",
       "    .dataframe thead th {\n",
       "        text-align: right;\n",
       "    }\n",
       "</style>\n",
       "<table border=\"1\" class=\"dataframe\">\n",
       "  <thead>\n",
       "    <tr style=\"text-align: right;\">\n",
       "      <th></th>\n",
       "      <th>name</th>\n",
       "      <th>release_date</th>\n",
       "      <th>id</th>\n",
       "      <th>type</th>\n",
       "    </tr>\n",
       "  </thead>\n",
       "  <tbody>\n",
       "    <tr>\n",
       "      <th>1</th>\n",
       "      <td>Enema Of The State</td>\n",
       "      <td>1999-06-01</td>\n",
       "      <td>652N05EcNH1a4bIlUixQE2</td>\n",
       "      <td>album</td>\n",
       "    </tr>\n",
       "    <tr>\n",
       "      <th>2</th>\n",
       "      <td>Breathe</td>\n",
       "      <td>1999-11-09</td>\n",
       "      <td>3BGPil8BDPVoDK0lnUPtvb</td>\n",
       "      <td>album</td>\n",
       "    </tr>\n",
       "    <tr>\n",
       "      <th>3</th>\n",
       "      <td>Crush</td>\n",
       "      <td>2000-01-01</td>\n",
       "      <td>0Q9SljCrM0CL0bR23MuP69</td>\n",
       "      <td>album</td>\n",
       "    </tr>\n",
       "    <tr>\n",
       "      <th>4</th>\n",
       "      <td>No Strings Attached</td>\n",
       "      <td>2000-03-21</td>\n",
       "      <td>20RMokVwJ2wjQ0s8FOdOFC</td>\n",
       "      <td>album</td>\n",
       "    </tr>\n",
       "    <tr>\n",
       "      <th>0</th>\n",
       "      <td>Oops!... I Did It Again</td>\n",
       "      <td>2000-05-16</td>\n",
       "      <td>5PmgtkodFl2Om3hMXONDll</td>\n",
       "      <td>album</td>\n",
       "    </tr>\n",
       "  </tbody>\n",
       "</table>\n",
       "</div>"
      ],
      "text/plain": [
       "                      name release_date                      id   type\n",
       "1       Enema Of The State   1999-06-01  652N05EcNH1a4bIlUixQE2  album\n",
       "2                  Breathe   1999-11-09  3BGPil8BDPVoDK0lnUPtvb  album\n",
       "3                    Crush   2000-01-01  0Q9SljCrM0CL0bR23MuP69  album\n",
       "4      No Strings Attached   2000-03-21  20RMokVwJ2wjQ0s8FOdOFC  album\n",
       "0  Oops!... I Did It Again   2000-05-16  5PmgtkodFl2Om3hMXONDll  album"
      ]
     },
     "execution_count": 21,
     "metadata": {},
     "output_type": "execute_result"
    }
   ],
   "source": [
    "release_dates = pd.DataFrame([x['track']['album']for x in early_hits['tracks']['items']])\n",
    "album_dates_df=release_dates[['name','release_date','id','type']]\n",
    "album_dates_df.head(5).sort_values('release_date',ascending = True)"
   ]
  },
  {
   "cell_type": "markdown",
   "id": "c74155e9",
   "metadata": {},
   "source": [
    "My next step is to join all the album's __ID__ and format it with __get_albums__ endpoint to get more information about albums. By joining the album IDs, I can increase the album's popularity. Now, instead of just knowing the track's popularity, I will get the album's popularity."
   ]
  },
  {
   "cell_type": "code",
   "execution_count": 22,
   "id": "4525f731",
   "metadata": {},
   "outputs": [],
   "source": [
    "get_old_albums_url = 'https://api.spotify.com/v1/albums?ids={}'\\\n",
    ".format(','.join(list(album_dates_df['id'] [0:20])))"
   ]
  },
  {
   "cell_type": "code",
   "execution_count": 23,
   "id": "5f08a2de",
   "metadata": {},
   "outputs": [
    {
     "data": {
      "text/plain": [
       "200"
      ]
     },
     "execution_count": 23,
     "metadata": {},
     "output_type": "execute_result"
    }
   ],
   "source": [
    "old_album_features =requests.get(url = get_old_albums_url , headers = session_headers)\n",
    "old_album_features.status_code"
   ]
  },
  {
   "cell_type": "code",
   "execution_count": 24,
   "id": "6b35678a",
   "metadata": {},
   "outputs": [],
   "source": [
    "old_album_response = old_album_features.json()\n"
   ]
  },
  {
   "cell_type": "code",
   "execution_count": 25,
   "id": "64f7990b",
   "metadata": {},
   "outputs": [],
   "source": [
    "old_album_response_df = pd.DataFrame(old_album_response['albums'])\n"
   ]
  },
  {
   "cell_type": "markdown",
   "id": "d2692502",
   "metadata": {},
   "source": [
    "I need to find the most popular album from the early 2000s to move forward. Below, we can see album name popularity, with 100 being the most popular and 0 being the least popular, ID, and type. My goal is to find an album that is released relatively early and is very popular. This means I will not take the \"Parachutes\" because it is the most popular. I aim to find the 'golden mean' between popularity and date.  \n",
    "\n",
    "I also want to explain why I dropped the \"Sing When You're Winning\" album because after visualizing the graph, I realized that this is the only album that was realized after 2010, which does not satisfy my analysis's requirements. So I have to go back and drop that row of the album."
   ]
  },
  {
   "cell_type": "code",
   "execution_count": 26,
   "id": "bf7b1465",
   "metadata": {},
   "outputs": [
    {
     "data": {
      "text/html": [
       "<div>\n",
       "<style scoped>\n",
       "    .dataframe tbody tr th:only-of-type {\n",
       "        vertical-align: middle;\n",
       "    }\n",
       "\n",
       "    .dataframe tbody tr th {\n",
       "        vertical-align: top;\n",
       "    }\n",
       "\n",
       "    .dataframe thead th {\n",
       "        text-align: right;\n",
       "    }\n",
       "</style>\n",
       "<table border=\"1\" class=\"dataframe\">\n",
       "  <thead>\n",
       "    <tr style=\"text-align: right;\">\n",
       "      <th></th>\n",
       "      <th>name</th>\n",
       "      <th>popularity</th>\n",
       "      <th>release_date</th>\n",
       "      <th>id</th>\n",
       "      <th>type</th>\n",
       "    </tr>\n",
       "  </thead>\n",
       "  <tbody>\n",
       "    <tr>\n",
       "      <th>9</th>\n",
       "      <td>Parachutes</td>\n",
       "      <td>87</td>\n",
       "      <td>2000-07-10</td>\n",
       "      <td>6ZG5lRT77aJ3btmArcykra</td>\n",
       "      <td>album</td>\n",
       "    </tr>\n",
       "    <tr>\n",
       "      <th>10</th>\n",
       "      <td>Hybrid Theory (Bonus Edition)</td>\n",
       "      <td>86</td>\n",
       "      <td>2000-10-24</td>\n",
       "      <td>6hPkbAV3ZXpGZBGUvL6jVM</td>\n",
       "      <td>album</td>\n",
       "    </tr>\n",
       "    <tr>\n",
       "      <th>6</th>\n",
       "      <td>The Marshall Mathers LP</td>\n",
       "      <td>86</td>\n",
       "      <td>2000-05-23</td>\n",
       "      <td>6t7956yu5zYf5A829XRiHC</td>\n",
       "      <td>album</td>\n",
       "    </tr>\n",
       "    <tr>\n",
       "      <th>11</th>\n",
       "      <td>Californication (Deluxe Edition)</td>\n",
       "      <td>85</td>\n",
       "      <td>1999-06-08</td>\n",
       "      <td>2Y9IRtehByVkegoD7TcLfi</td>\n",
       "      <td>album</td>\n",
       "    </tr>\n",
       "    <tr>\n",
       "      <th>13</th>\n",
       "      <td>2001</td>\n",
       "      <td>84</td>\n",
       "      <td>1999-11-16</td>\n",
       "      <td>7q2B4M5EiBkqrlsNW8lB7N</td>\n",
       "      <td>album</td>\n",
       "    </tr>\n",
       "  </tbody>\n",
       "</table>\n",
       "</div>"
      ],
      "text/plain": [
       "                                name  popularity release_date  \\\n",
       "9                         Parachutes          87   2000-07-10   \n",
       "10     Hybrid Theory (Bonus Edition)          86   2000-10-24   \n",
       "6            The Marshall Mathers LP          86   2000-05-23   \n",
       "11  Californication (Deluxe Edition)          85   1999-06-08   \n",
       "13                              2001          84   1999-11-16   \n",
       "\n",
       "                        id   type  \n",
       "9   6ZG5lRT77aJ3btmArcykra  album  \n",
       "10  6hPkbAV3ZXpGZBGUvL6jVM  album  \n",
       "6   6t7956yu5zYf5A829XRiHC  album  \n",
       "11  2Y9IRtehByVkegoD7TcLfi  album  \n",
       "13  7q2B4M5EiBkqrlsNW8lB7N  album  "
      ]
     },
     "execution_count": 26,
     "metadata": {},
     "output_type": "execute_result"
    }
   ],
   "source": [
    "old_albums_popularity_df = pd.DataFrame(old_album_response_df[['name', 'popularity', 'release_date', 'id', 'type']])\n",
    "old_albums_popularity_df = old_albums_popularity_df.sort_values('popularity', ascending=False)\n",
    "old_albums_popularity_df = old_albums_popularity_df[old_albums_popularity_df['name'] != \"Sing When You're Winning\"]\n",
    "old_albums_popularity_df.head(5)"
   ]
  },
  {
   "cell_type": "markdown",
   "id": "a54d30da",
   "metadata": {},
   "source": [
    "Timestamp is the date and time of occurrence of an event. Using timestamps allowed me to get the more specific date of the event. This also automatically organized my data from the oldest to the newest releases "
   ]
  },
  {
   "cell_type": "code",
   "execution_count": 27,
   "id": "e7a4f8db",
   "metadata": {},
   "outputs": [],
   "source": [
    "old_albums_popularity_df['timestamp'] = [pd.Timestamp(x) for x in old_albums_popularity_df['release_date']]\n"
   ]
  },
  {
   "cell_type": "markdown",
   "id": "e360fabe",
   "metadata": {},
   "source": [
    "My first graph represents timestamp vs. popularity. Based on the release date, this graph shows us the most popular album. The graph is spread out. However, we can see that the least popular album is >60. The most famous albums were released during 2000-07 with 87/100 scores. The average volume of popularity is somewhere between 70-75.\n",
    "\n",
    "\n",
    "Based on this graph, I decided to separate the four albums with the most popularity and pick the oldest one that was released. My top four were \"Parachutes,\" \"Hybrid Theory (Bonus Edition),\" \"Californication (Deluxe Edition),\" and \"Californication (Deluxe Edition),\" I used scatter ply to make it easier to see the difference between albums."
   ]
  },
  {
   "cell_type": "code",
   "execution_count": 28,
   "id": "376c0b80",
   "metadata": {},
   "outputs": [
    {
     "data": {
      "image/png": "[encoded data removed]",
      "text/plain": [
       "<Figure size 640x480 with 1 Axes>"
      ]
     },
     "metadata": {},
     "output_type": "display_data"
    }
   ],
   "source": [
    "fig1, ax1 = plt.subplots()\n",
    "ax1.scatter( old_albums_popularity_df['popularity'],old_albums_popularity_df['timestamp'],  label='popularity',alpha= .5, color =\"#2F9B61\",)\n",
    "ax1.set_title('Timestamp vs Popularity')\n",
    "ax1.set_xlabel('Popularity')\n",
    "ax1.set_ylabel('Timestamp')\n",
    "\n",
    "help_x = 80\n",
    "help_y = pd.to_datetime('2000-07-01')\n",
    "ax1.text(help_x, help_y, 'Parachutes->', fontsize=12, color='#000000')\n",
    "\n",
    "help1_x = 72.5\n",
    "help1_y = pd.to_datetime('2000-05-11')\n",
    "ax1.text(help1_x, help1_y, 'The Marshall Mathers LP->', fontsize=12, color='#000000')\n",
    "\n",
    "help2_x = 76.5\n",
    "help2_y = pd.to_datetime('1999-06-01')\n",
    "ax1.text(help2_x, help2_y, 'Californication->', fontsize=12, color='#000000')\n",
    "\n",
    "help3_x = 77\n",
    "help3_y = pd.to_datetime('2000-10-12')\n",
    "ax1.text(help3_x, help3_y, 'Hybrid Theory->', fontsize=12, color='#000000')\n",
    "ax1.tick_params(axis='y', which='both', pad=10)\n",
    "\n",
    "\n",
    "plt.show()"
   ]
  },
  {
   "cell_type": "markdown",
   "id": "784d03be",
   "metadata": {},
   "source": [
    "Based on my graph above, I picked \"Californication,\" which has a popularity of 85 and a release date of 1999-06-08. \n",
    "\n",
    "## Background about Californication album \n",
    "\n",
    "Californication is the Red Hot Chili Peppers's seventh studio album. It was released in June 8, 1999, by Warner Bros. Records and was produced by Rick Rubin. It was the first album with John Frusciante after returning to the band in 1998. This was an important album for the band, as it featured a more melodic and softer pop sound than their"
   ]
  },
  {
   "cell_type": "markdown",
   "id": "277e2b5a",
   "metadata": {},
   "source": [
    "California ID"
   ]
  },
  {
   "cell_type": "code",
   "execution_count": 29,
   "id": "42757a84",
   "metadata": {},
   "outputs": [],
   "source": [
    "california_id=\"2Y9IRtehByVkegoD7TcLfi\"\n"
   ]
  },
  {
   "cell_type": "markdown",
   "id": "5a359d32",
   "metadata": {},
   "source": [
    "I formatted the album ID with __get albums tracks__ endpoint to get track information about my chosen album. At this analysis stage, I had already narrowed my options to focus on my question. "
   ]
  },
  {
   "cell_type": "code",
   "execution_count": 30,
   "id": "12323258",
   "metadata": {},
   "outputs": [],
   "source": [
    "california_tracks_url = 'https://api.spotify.com/v1/albums/{}/tracks'.format(california_id)\n"
   ]
  },
  {
   "cell_type": "code",
   "execution_count": 31,
   "id": "3ace7075",
   "metadata": {},
   "outputs": [
    {
     "data": {
      "text/plain": [
       "200"
      ]
     },
     "execution_count": 31,
     "metadata": {},
     "output_type": "execute_result"
    }
   ],
   "source": [
    "\n",
    "california_album_response = requests.get(url = california_tracks_url, headers = session_headers)\n",
    "california_album_response.status_code"
   ]
  },
  {
   "cell_type": "markdown",
   "id": "0ec8ccbe",
   "metadata": {},
   "source": [
    "First step of creating the DataFrame hat to transfer my data into json() file"
   ]
  },
  {
   "cell_type": "code",
   "execution_count": 32,
   "id": "b7d9fb6a",
   "metadata": {},
   "outputs": [],
   "source": [
    "california_of_the_state = california_album_response.json()\n"
   ]
  },
  {
   "cell_type": "markdown",
   "id": "6c07adbe",
   "metadata": {},
   "source": [
    "I had to look closely inside the \"items\" to get the essential information I needed from each track. This allowed me to find the \"name,\" \"ID,\" and \"type\" to show that we are working with tracks."
   ]
  },
  {
   "cell_type": "code",
   "execution_count": 33,
   "id": "297ee8fe",
   "metadata": {},
   "outputs": [
    {
     "data": {
      "text/html": [
       "<div>\n",
       "<style scoped>\n",
       "    .dataframe tbody tr th:only-of-type {\n",
       "        vertical-align: middle;\n",
       "    }\n",
       "\n",
       "    .dataframe tbody tr th {\n",
       "        vertical-align: top;\n",
       "    }\n",
       "\n",
       "    .dataframe thead th {\n",
       "        text-align: right;\n",
       "    }\n",
       "</style>\n",
       "<table border=\"1\" class=\"dataframe\">\n",
       "  <thead>\n",
       "    <tr style=\"text-align: right;\">\n",
       "      <th></th>\n",
       "      <th>name</th>\n",
       "      <th>id</th>\n",
       "      <th>type</th>\n",
       "    </tr>\n",
       "  </thead>\n",
       "  <tbody>\n",
       "    <tr>\n",
       "      <th>0</th>\n",
       "      <td>Around the World</td>\n",
       "      <td>0aGQHMr7bc23Y9Ts84ffop</td>\n",
       "      <td>track</td>\n",
       "    </tr>\n",
       "    <tr>\n",
       "      <th>1</th>\n",
       "      <td>Parallel Universe</td>\n",
       "      <td>1Se0r96r0gnqg67kJPmESc</td>\n",
       "      <td>track</td>\n",
       "    </tr>\n",
       "    <tr>\n",
       "      <th>2</th>\n",
       "      <td>Scar Tissue</td>\n",
       "      <td>1G391cbiT3v3Cywg8T7DM1</td>\n",
       "      <td>track</td>\n",
       "    </tr>\n",
       "    <tr>\n",
       "      <th>3</th>\n",
       "      <td>Otherside</td>\n",
       "      <td>64BbK9SFKH2jk86U3dGj2P</td>\n",
       "      <td>track</td>\n",
       "    </tr>\n",
       "    <tr>\n",
       "      <th>4</th>\n",
       "      <td>Get on Top</td>\n",
       "      <td>0GcWf1Cc4ixN35D3O9VdcP</td>\n",
       "      <td>track</td>\n",
       "    </tr>\n",
       "  </tbody>\n",
       "</table>\n",
       "</div>"
      ],
      "text/plain": [
       "                name                      id   type\n",
       "0   Around the World  0aGQHMr7bc23Y9Ts84ffop  track\n",
       "1  Parallel Universe  1Se0r96r0gnqg67kJPmESc  track\n",
       "2        Scar Tissue  1G391cbiT3v3Cywg8T7DM1  track\n",
       "3          Otherside  64BbK9SFKH2jk86U3dGj2P  track\n",
       "4         Get on Top  0GcWf1Cc4ixN35D3O9VdcP  track"
      ]
     },
     "execution_count": 33,
     "metadata": {},
     "output_type": "execute_result"
    }
   ],
   "source": [
    "california_df = pd.DataFrame(california_of_the_state['items'])\n",
    "california_name_df= pd.DataFrame(california_df [['name','id','type']])\n",
    "california_name_df.head()"
   ]
  },
  {
   "cell_type": "markdown",
   "id": "75317cdc",
   "metadata": {},
   "source": [
    "My next step is to join all the track IDs and format them with __audio_features__ endpoint. This will give me precise details about the audio. In other words, this shows the track's skeleton that shows all the track's different features."
   ]
  },
  {
   "cell_type": "code",
   "execution_count": 34,
   "id": "716959d2",
   "metadata": {},
   "outputs": [],
   "source": [
    "california_audio_features = 'https://api.spotify.com/v1/audio-features?ids={}'\\\n",
    ".format(','.join(list(california_df['id'])))"
   ]
  },
  {
   "cell_type": "code",
   "execution_count": 35,
   "id": "73561563",
   "metadata": {},
   "outputs": [
    {
     "data": {
      "text/plain": [
       "200"
      ]
     },
     "execution_count": 35,
     "metadata": {},
     "output_type": "execute_result"
    }
   ],
   "source": [
    "california_features_response = requests.get(url = california_audio_features , headers = session_headers)\n",
    "california_features_response.status_code"
   ]
  },
  {
   "cell_type": "code",
   "execution_count": 36,
   "id": "3681af04",
   "metadata": {},
   "outputs": [],
   "source": [
    "california_features = california_features_response.json()"
   ]
  },
  {
   "cell_type": "markdown",
   "id": "ebc1dc8e",
   "metadata": {},
   "source": [
    "After joining the IDs of the tracks, I separated the \"danceability\" and \"speechiness\" of the tracks. These are the two features I would like to use to compare the two albums. As I described above, based on my previous report, I learned that dance songs are more popular among listeners. Also picked \"speechiness\" to learn based on Values above 0.66, describe tracks probably made entirely of spoken words. Values between 0.33 and 0.66 describe tracks that may contain music and speech if music from the early 2000s is mostly word or beat, and how that changed over time.\n",
    "\n"
   ]
  },
  {
   "cell_type": "code",
   "execution_count": 37,
   "id": "cc2452e8",
   "metadata": {},
   "outputs": [
    {
     "data": {
      "text/html": [
       "<div>\n",
       "<style scoped>\n",
       "    .dataframe tbody tr th:only-of-type {\n",
       "        vertical-align: middle;\n",
       "    }\n",
       "\n",
       "    .dataframe tbody tr th {\n",
       "        vertical-align: top;\n",
       "    }\n",
       "\n",
       "    .dataframe thead th {\n",
       "        text-align: right;\n",
       "    }\n",
       "</style>\n",
       "<table border=\"1\" class=\"dataframe\">\n",
       "  <thead>\n",
       "    <tr style=\"text-align: right;\">\n",
       "      <th></th>\n",
       "      <th>danceability</th>\n",
       "      <th>speechiness</th>\n",
       "      <th>id</th>\n",
       "    </tr>\n",
       "  </thead>\n",
       "  <tbody>\n",
       "    <tr>\n",
       "      <th>0</th>\n",
       "      <td>0.504</td>\n",
       "      <td>0.1830</td>\n",
       "      <td>0aGQHMr7bc23Y9Ts84ffop</td>\n",
       "    </tr>\n",
       "    <tr>\n",
       "      <th>1</th>\n",
       "      <td>0.343</td>\n",
       "      <td>0.2120</td>\n",
       "      <td>1Se0r96r0gnqg67kJPmESc</td>\n",
       "    </tr>\n",
       "    <tr>\n",
       "      <th>2</th>\n",
       "      <td>0.595</td>\n",
       "      <td>0.0295</td>\n",
       "      <td>1G391cbiT3v3Cywg8T7DM1</td>\n",
       "    </tr>\n",
       "    <tr>\n",
       "      <th>3</th>\n",
       "      <td>0.458</td>\n",
       "      <td>0.0574</td>\n",
       "      <td>64BbK9SFKH2jk86U3dGj2P</td>\n",
       "    </tr>\n",
       "    <tr>\n",
       "      <th>4</th>\n",
       "      <td>0.573</td>\n",
       "      <td>0.3420</td>\n",
       "      <td>0GcWf1Cc4ixN35D3O9VdcP</td>\n",
       "    </tr>\n",
       "  </tbody>\n",
       "</table>\n",
       "</div>"
      ],
      "text/plain": [
       "   danceability  speechiness                      id\n",
       "0         0.504       0.1830  0aGQHMr7bc23Y9Ts84ffop\n",
       "1         0.343       0.2120  1Se0r96r0gnqg67kJPmESc\n",
       "2         0.595       0.0295  1G391cbiT3v3Cywg8T7DM1\n",
       "3         0.458       0.0574  64BbK9SFKH2jk86U3dGj2P\n",
       "4         0.573       0.3420  0GcWf1Cc4ixN35D3O9VdcP"
      ]
     },
     "execution_count": 37,
     "metadata": {},
     "output_type": "execute_result"
    }
   ],
   "source": [
    "california_features_df = pd.DataFrame(california_features['audio_features'])\n",
    "california_two_features_df= pd.DataFrame(california_features_df[['danceability','speechiness','id']])\n",
    "california_two_features_df.head()"
   ]
  },
  {
   "cell_type": "markdown",
   "id": "5ce57af3",
   "metadata": {},
   "source": [
    "Next, I used \"ID\" as a common point to merge my two graphs and present the final data frame with all the information I needed to answer my question."
   ]
  },
  {
   "cell_type": "code",
   "execution_count": 38,
   "id": "4d1c2d6f",
   "metadata": {},
   "outputs": [
    {
     "data": {
      "text/html": [
       "<div>\n",
       "<style scoped>\n",
       "    .dataframe tbody tr th:only-of-type {\n",
       "        vertical-align: middle;\n",
       "    }\n",
       "\n",
       "    .dataframe tbody tr th {\n",
       "        vertical-align: top;\n",
       "    }\n",
       "\n",
       "    .dataframe thead th {\n",
       "        text-align: right;\n",
       "    }\n",
       "</style>\n",
       "<table border=\"1\" class=\"dataframe\">\n",
       "  <thead>\n",
       "    <tr style=\"text-align: right;\">\n",
       "      <th></th>\n",
       "      <th>name</th>\n",
       "      <th>id</th>\n",
       "      <th>type</th>\n",
       "      <th>danceability</th>\n",
       "      <th>speechiness</th>\n",
       "    </tr>\n",
       "  </thead>\n",
       "  <tbody>\n",
       "    <tr>\n",
       "      <th>0</th>\n",
       "      <td>Around the World</td>\n",
       "      <td>0aGQHMr7bc23Y9Ts84ffop</td>\n",
       "      <td>track</td>\n",
       "      <td>0.504</td>\n",
       "      <td>0.1830</td>\n",
       "    </tr>\n",
       "    <tr>\n",
       "      <th>1</th>\n",
       "      <td>Parallel Universe</td>\n",
       "      <td>1Se0r96r0gnqg67kJPmESc</td>\n",
       "      <td>track</td>\n",
       "      <td>0.343</td>\n",
       "      <td>0.2120</td>\n",
       "    </tr>\n",
       "    <tr>\n",
       "      <th>2</th>\n",
       "      <td>Scar Tissue</td>\n",
       "      <td>1G391cbiT3v3Cywg8T7DM1</td>\n",
       "      <td>track</td>\n",
       "      <td>0.595</td>\n",
       "      <td>0.0295</td>\n",
       "    </tr>\n",
       "    <tr>\n",
       "      <th>3</th>\n",
       "      <td>Otherside</td>\n",
       "      <td>64BbK9SFKH2jk86U3dGj2P</td>\n",
       "      <td>track</td>\n",
       "      <td>0.458</td>\n",
       "      <td>0.0574</td>\n",
       "    </tr>\n",
       "    <tr>\n",
       "      <th>4</th>\n",
       "      <td>Get on Top</td>\n",
       "      <td>0GcWf1Cc4ixN35D3O9VdcP</td>\n",
       "      <td>track</td>\n",
       "      <td>0.573</td>\n",
       "      <td>0.3420</td>\n",
       "    </tr>\n",
       "  </tbody>\n",
       "</table>\n",
       "</div>"
      ],
      "text/plain": [
       "                name                      id   type  danceability  speechiness\n",
       "0   Around the World  0aGQHMr7bc23Y9Ts84ffop  track         0.504       0.1830\n",
       "1  Parallel Universe  1Se0r96r0gnqg67kJPmESc  track         0.343       0.2120\n",
       "2        Scar Tissue  1G391cbiT3v3Cywg8T7DM1  track         0.595       0.0295\n",
       "3          Otherside  64BbK9SFKH2jk86U3dGj2P  track         0.458       0.0574\n",
       "4         Get on Top  0GcWf1Cc4ixN35D3O9VdcP  track         0.573       0.3420"
      ]
     },
     "execution_count": 38,
     "metadata": {},
     "output_type": "execute_result"
    }
   ],
   "source": [
    "california_final_df= pd.merge(california_name_df, california_two_features_df, how = 'inner', on = 'id')\n",
    "california_final_df.head()"
   ]
  },
  {
   "cell_type": "markdown",
   "id": "2cd8b3be",
   "metadata": {},
   "source": [
    "My following graph represents the Californication album's danceability vs speechiness. As we can see, my picked album has low \"speechiness,\" which indicates that the tracks of the Californication are mostly made with the beat, and there is little to no text. The artist decided to express the album's motivation and message mainly through audio. It also has only one song with a speech level of 0.35; however, based on Spotify's definition of \"speechiness,\" values between 0.33 and 0.66 describe tracks that may contain both music and speech, either in sections or layered, including such cases as rap music.\n",
    "\n",
    "The danceability is spread out, going from the lowest around 0.1 and the highest danceable song to 0.75. The middle is around 0.5, which makes the album average danceable. We can also see that the two songs overlap around 0.59."
   ]
  },
  {
   "cell_type": "code",
   "execution_count": 39,
   "id": "b16717c5",
   "metadata": {},
   "outputs": [
    {
     "data": {
      "image/png": "[encoded data removed]",
      "text/plain": [
       "<Figure size 640x480 with 1 Axes>"
      ]
     },
     "metadata": {},
     "output_type": "display_data"
    }
   ],
   "source": [
    "fig4, ax4 =  plt.subplots()\n",
    "ax4.scatter( x = california_final_df ['danceability'], \n",
    "             y = california_final_df['speechiness'],alpha= .5, color =\"#2F9B61\" )\n",
    "\n",
    "ax4.set_xlabel('Danceability')\n",
    "ax4.set_ylabel('speechiness')\n",
    "plt.show()"
   ]
  },
  {
   "cell_type": "markdown",
   "id": "3f516637",
   "metadata": {},
   "source": [
    "This is the second part of my report. Previously, I started my report with a playlist from the early 2000s; now, I will pick a playlist with the most popular tracks from 2022. The overall process during this part is similar and almost the same as part one of my report. \n",
    "\n"
   ]
  },
  {
   "attachments": {
    "download.jpg": {
     "image/jpeg": "[encoded data removed]"
    }
   },
   "cell_type": "markdown",
   "id": "749c9eec",
   "metadata": {},
   "source": [
    "# Part 2: Hits of 2022\n",
    "![download.jpg](attachment:download.jpg)"
   ]
  },
  {
   "cell_type": "markdown",
   "id": "1cdba52f",
   "metadata": {},
   "source": [
    "In order to get the playlist that satisfies my requirements to answer my question, I had to start with research. I discovered that 2022 was full of viral and trendy songs during this research. It was tough to pick one playlist."
   ]
  },
  {
   "cell_type": "code",
   "execution_count": 40,
   "id": "5ac674a4",
   "metadata": {},
   "outputs": [],
   "source": [
    "new_id= \"56r5qRUv3jSxADdmBkhcz7\""
   ]
  },
  {
   "cell_type": "markdown",
   "id": "1459bb7f",
   "metadata": {},
   "source": [
    "To get the playlist, I formated the ID of the playlist with __get_playlist__ endpoint. This endpoint returns information about tracks inside the playlist"
   ]
  },
  {
   "cell_type": "code",
   "execution_count": 41,
   "id": "01a68f27",
   "metadata": {},
   "outputs": [],
   "source": [
    "new_playlist_url = 'https://api.spotify.com/v1/playlists/{}'.format(new_id)\n"
   ]
  },
  {
   "cell_type": "code",
   "execution_count": 42,
   "id": "59375081",
   "metadata": {},
   "outputs": [],
   "source": [
    "new_playlist_url_response = requests.get(url = new_playlist_url, headers = session_headers)\n"
   ]
  },
  {
   "cell_type": "markdown",
   "id": "0eccd510",
   "metadata": {},
   "source": [
    "In order to create DataFrame I need json()file "
   ]
  },
  {
   "cell_type": "code",
   "execution_count": 43,
   "id": "aac6241d",
   "metadata": {},
   "outputs": [],
   "source": [
    "new_playlist_url_data=new_playlist_url_response.json()"
   ]
  },
  {
   "cell_type": "markdown",
   "id": "ef22f8d4",
   "metadata": {},
   "source": [
    "Below are all the values that get the playlist endpoint returned. As we learned already, Spotify API does not give the track date. It gives the date the album was released, with the track in it. In order to get released_data, I needed to dig into the album that was located inside the \"track.\"This will show that all the albums are released from 2020 to 2022.  "
   ]
  },
  {
   "cell_type": "code",
   "execution_count": 44,
   "id": "c98a418b",
   "metadata": {},
   "outputs": [
    {
     "data": {
      "text/plain": [
       "dict_keys(['collaborative', 'description', 'external_urls', 'followers', 'href', 'id', 'images', 'name', 'owner', 'primary_color', 'public', 'snapshot_id', 'tracks', 'type', 'uri'])"
      ]
     },
     "execution_count": 44,
     "metadata": {},
     "output_type": "execute_result"
    }
   ],
   "source": [
    "new_playlist_url_data.keys()"
   ]
  },
  {
   "cell_type": "markdown",
   "id": "e6d4e220",
   "metadata": {},
   "source": [
    "Below, we can see album release dates sorted from the newest to the oldest album. For Part One, I picked the oldest album, which is why my value increased, and now I need to pick the newer album, so my value decreased. As we can see, the \"type\" is an album. This is another piece of evidence that we are working with albums now."
   ]
  },
  {
   "cell_type": "code",
   "execution_count": 45,
   "id": "8aaeaeef",
   "metadata": {},
   "outputs": [
    {
     "data": {
      "text/html": [
       "<div>\n",
       "<style scoped>\n",
       "    .dataframe tbody tr th:only-of-type {\n",
       "        vertical-align: middle;\n",
       "    }\n",
       "\n",
       "    .dataframe tbody tr th {\n",
       "        vertical-align: top;\n",
       "    }\n",
       "\n",
       "    .dataframe thead th {\n",
       "        text-align: right;\n",
       "    }\n",
       "</style>\n",
       "<table border=\"1\" class=\"dataframe\">\n",
       "  <thead>\n",
       "    <tr style=\"text-align: right;\">\n",
       "      <th></th>\n",
       "      <th>name</th>\n",
       "      <th>release_date</th>\n",
       "      <th>id</th>\n",
       "      <th>type</th>\n",
       "    </tr>\n",
       "  </thead>\n",
       "  <tbody>\n",
       "    <tr>\n",
       "      <th>1</th>\n",
       "      <td>Midnights</td>\n",
       "      <td>2022-10-21</td>\n",
       "      <td>151w1FgRZfnKZA9FEcg9Z3</td>\n",
       "      <td>album</td>\n",
       "    </tr>\n",
       "    <tr>\n",
       "      <th>3</th>\n",
       "      <td>Unholy (feat. Kim Petras)</td>\n",
       "      <td>2022-09-22</td>\n",
       "      <td>0gX9tkL5njRax8ymWcXARi</td>\n",
       "      <td>album</td>\n",
       "    </tr>\n",
       "    <tr>\n",
       "      <th>4</th>\n",
       "      <td>Un Verano Sin Ti</td>\n",
       "      <td>2022-05-06</td>\n",
       "      <td>3RQQmkQEvNCY4prGKE6oc5</td>\n",
       "      <td>album</td>\n",
       "    </tr>\n",
       "    <tr>\n",
       "      <th>0</th>\n",
       "      <td>As It Was</td>\n",
       "      <td>2022-03-31</td>\n",
       "      <td>2pqdSWeJVsXAhHFuVLzuA8</td>\n",
       "      <td>album</td>\n",
       "    </tr>\n",
       "    <tr>\n",
       "      <th>2</th>\n",
       "      <td>Dreamland (+ Bonus Levels)</td>\n",
       "      <td>2020-08-06</td>\n",
       "      <td>0KTj6k94XZh0c6IEMfxeWV</td>\n",
       "      <td>album</td>\n",
       "    </tr>\n",
       "  </tbody>\n",
       "</table>\n",
       "</div>"
      ],
      "text/plain": [
       "                         name release_date                      id   type\n",
       "1                   Midnights   2022-10-21  151w1FgRZfnKZA9FEcg9Z3  album\n",
       "3   Unholy (feat. Kim Petras)   2022-09-22  0gX9tkL5njRax8ymWcXARi  album\n",
       "4            Un Verano Sin Ti   2022-05-06  3RQQmkQEvNCY4prGKE6oc5  album\n",
       "0                   As It Was   2022-03-31  2pqdSWeJVsXAhHFuVLzuA8  album\n",
       "2  Dreamland (+ Bonus Levels)   2020-08-06  0KTj6k94XZh0c6IEMfxeWV  album"
      ]
     },
     "execution_count": 45,
     "metadata": {},
     "output_type": "execute_result"
    }
   ],
   "source": [
    "new_release_dates = pd.DataFrame([x['track']['album']for x in new_playlist_url_data['tracks']['items']])\n",
    "new_albums_dates= pd.DataFrame (new_release_dates[['name','release_date','id','type']])\n",
    "new_albums_dates.head(5).sort_values('release_date',ascending = False)"
   ]
  },
  {
   "cell_type": "markdown",
   "id": "dfdbe5a8",
   "metadata": {},
   "source": [
    "Now its time to find out what album I will pick for my future analysis. In order to increase the popularity of the albums, I joined \"IDs\" of albums and formed it with the __get_albums__ endpoint."
   ]
  },
  {
   "cell_type": "code",
   "execution_count": 46,
   "id": "883399ec",
   "metadata": {},
   "outputs": [],
   "source": [
    "get_new_albums_url = 'https://api.spotify.com/v1/albums?ids={}'\\\n",
    ".format(','.join(list(new_albums_dates['id'] [0:20])))"
   ]
  },
  {
   "cell_type": "code",
   "execution_count": 47,
   "id": "9b8d9be6",
   "metadata": {},
   "outputs": [
    {
     "data": {
      "text/plain": [
       "200"
      ]
     },
     "execution_count": 47,
     "metadata": {},
     "output_type": "execute_result"
    }
   ],
   "source": [
    "new_album_features =requests.get(url = get_new_albums_url , headers = session_headers)\n",
    "new_album_features.status_code"
   ]
  },
  {
   "cell_type": "markdown",
   "id": "44376cb5",
   "metadata": {},
   "source": [
    "Again I need json() file to create df"
   ]
  },
  {
   "cell_type": "code",
   "execution_count": 48,
   "id": "1fa2ba76",
   "metadata": {},
   "outputs": [],
   "source": [
    "new_album_response = new_album_features.json()"
   ]
  },
  {
   "cell_type": "markdown",
   "id": "191520cc",
   "metadata": {},
   "source": [
    "In order to get the popularity of the popularity and release date, I looked closely into \"albums.\"This data frame is sorted from most popular to least popular. From the top 3, I will pick the album that is somewhat popular and is a newer album."
   ]
  },
  {
   "cell_type": "code",
   "execution_count": 49,
   "id": "0186308f",
   "metadata": {},
   "outputs": [
    {
     "data": {
      "text/html": [
       "<div>\n",
       "<style scoped>\n",
       "    .dataframe tbody tr th:only-of-type {\n",
       "        vertical-align: middle;\n",
       "    }\n",
       "\n",
       "    .dataframe tbody tr th {\n",
       "        vertical-align: top;\n",
       "    }\n",
       "\n",
       "    .dataframe thead th {\n",
       "        text-align: right;\n",
       "    }\n",
       "</style>\n",
       "<table border=\"1\" class=\"dataframe\">\n",
       "  <thead>\n",
       "    <tr style=\"text-align: right;\">\n",
       "      <th></th>\n",
       "      <th>name</th>\n",
       "      <th>popularity</th>\n",
       "      <th>release_date</th>\n",
       "      <th>id</th>\n",
       "      <th>type</th>\n",
       "    </tr>\n",
       "  </thead>\n",
       "  <tbody>\n",
       "    <tr>\n",
       "      <th>4</th>\n",
       "      <td>Un Verano Sin Ti</td>\n",
       "      <td>95</td>\n",
       "      <td>2022-05-06</td>\n",
       "      <td>3RQQmkQEvNCY4prGKE6oc5</td>\n",
       "      <td>album</td>\n",
       "    </tr>\n",
       "    <tr>\n",
       "      <th>1</th>\n",
       "      <td>Midnights</td>\n",
       "      <td>93</td>\n",
       "      <td>2022-10-21</td>\n",
       "      <td>151w1FgRZfnKZA9FEcg9Z3</td>\n",
       "      <td>album</td>\n",
       "    </tr>\n",
       "    <tr>\n",
       "      <th>5</th>\n",
       "      <td>RENAISSANCE</td>\n",
       "      <td>86</td>\n",
       "      <td>2022-07-29</td>\n",
       "      <td>6FJxoadUE4JNVwWHghBwnb</td>\n",
       "      <td>album</td>\n",
       "    </tr>\n",
       "    <tr>\n",
       "      <th>3</th>\n",
       "      <td>Unholy (feat. Kim Petras)</td>\n",
       "      <td>75</td>\n",
       "      <td>2022-09-22</td>\n",
       "      <td>0gX9tkL5njRax8ymWcXARi</td>\n",
       "      <td>album</td>\n",
       "    </tr>\n",
       "    <tr>\n",
       "      <th>0</th>\n",
       "      <td>As It Was</td>\n",
       "      <td>48</td>\n",
       "      <td>2022-03-31</td>\n",
       "      <td>2pqdSWeJVsXAhHFuVLzuA8</td>\n",
       "      <td>album</td>\n",
       "    </tr>\n",
       "    <tr>\n",
       "      <th>2</th>\n",
       "      <td>Dreamland (+ Bonus Levels)</td>\n",
       "      <td>17</td>\n",
       "      <td>2020-08-06</td>\n",
       "      <td>0KTj6k94XZh0c6IEMfxeWV</td>\n",
       "      <td>album</td>\n",
       "    </tr>\n",
       "  </tbody>\n",
       "</table>\n",
       "</div>"
      ],
      "text/plain": [
       "                         name  popularity release_date  \\\n",
       "4            Un Verano Sin Ti          95   2022-05-06   \n",
       "1                   Midnights          93   2022-10-21   \n",
       "5                 RENAISSANCE          86   2022-07-29   \n",
       "3   Unholy (feat. Kim Petras)          75   2022-09-22   \n",
       "0                   As It Was          48   2022-03-31   \n",
       "2  Dreamland (+ Bonus Levels)          17   2020-08-06   \n",
       "\n",
       "                       id   type  \n",
       "4  3RQQmkQEvNCY4prGKE6oc5  album  \n",
       "1  151w1FgRZfnKZA9FEcg9Z3  album  \n",
       "5  6FJxoadUE4JNVwWHghBwnb  album  \n",
       "3  0gX9tkL5njRax8ymWcXARi  album  \n",
       "0  2pqdSWeJVsXAhHFuVLzuA8  album  \n",
       "2  0KTj6k94XZh0c6IEMfxeWV  album  "
      ]
     },
     "execution_count": 49,
     "metadata": {},
     "output_type": "execute_result"
    }
   ],
   "source": [
    "new_album_response_df = pd.DataFrame(new_album_response['albums'])\n",
    "new_albums_popularity_df= pd.DataFrame (new_album_response_df[['name','popularity','release_date','id','type']])\n",
    "new_albums_popularity_df.head(6).sort_values('popularity',ascending = False)"
   ]
  },
  {
   "cell_type": "code",
   "execution_count": 50,
   "id": "9cabb942",
   "metadata": {},
   "outputs": [],
   "source": [
    "new_albums_popularity_df['timestamp'] = pd.to_datetime(new_albums_popularity_df['release_date'])"
   ]
  },
  {
   "cell_type": "markdown",
   "id": "eacb3c9b",
   "metadata": {},
   "source": [
    "As we can see, the albums from 2020 to 2022 are top-rated, with only two albums with a popularity >20. The most famous albums were released from mid-2022 to early 2023, with a popularity rate between 65 to 90. As a reminder, 100 is the most popular, and 0 is the least popular. There is also some overlapping between albums with the same popularity.\n",
    "\n",
    "Based on this graph, I decided to separate the three albums with the most popularity and pick the oldest one that was released. My top three albums were \"Un Verano Sin Ti,\" \"Midnights,\" and \"RENAISSANCE.\" I used a scatter plt() to make it easier to see the difference between albums."
   ]
  },
  {
   "cell_type": "code",
   "execution_count": 51,
   "id": "29e83809",
   "metadata": {},
   "outputs": [
    {
     "data": {
      "image/png": "[encoded data removed]",
      "text/plain": [
       "<Figure size 640x480 with 1 Axes>"
      ]
     },
     "metadata": {},
     "output_type": "display_data"
    }
   ],
   "source": [
    "fig2, ax2 = plt.subplots()\n",
    "ax2.scatter(new_albums_popularity_df['popularity'], new_albums_popularity_df['timestamp'], label='popularity',alpha= .5, color='#E3001E',)\n",
    "ax2.set_ylim(pd.Timestamp('2020-01-01'), pd.Timestamp('2023-12-31'))\n",
    "ax2.set_title('Timestamp vs Popularity')\n",
    "ax2.set_ylabel('Timestamp')\n",
    "ax2.set_xlabel('Popularity')\n",
    "\n",
    "name_x = 63\n",
    "name_y = pd.to_datetime('2022-04-08')\n",
    "ax2.text(name_x, name_y, 'Un Verano Sin Ti->', fontsize=12, color='#000000')\n",
    "\n",
    "name1_x = 72\n",
    "name1_y = pd.to_datetime('2022-10-08')\n",
    "ax2.text(name1_x, name1_y, 'Midnights->', fontsize=12, color='#000000')\n",
    "\n",
    "name2_x = 65\n",
    "name2_y = pd.to_datetime('2021-05-08')\n",
    "ax2.text(name2_x, name2_y, 'RENAISSANCE->', fontsize=12, color='#000000')\n",
    "\n",
    "plt.show()"
   ]
  },
  {
   "cell_type": "markdown",
   "id": "ffb0208f",
   "metadata": {},
   "source": [
    "It was hard to pick one album because I listen to them daily. The most popular song released mid 2022 was \"Midnights\" by Taylor Swift, with 93/100 popularity. \n",
    "\n",
    "### Background of Midnights\n",
    "When Taylor Swift announced the release of her highly anticipated tenth album, Midnights, in August, she called it the story of “13 sleepless nights scattered throughout my life.” The songs, written during those wee hours in the night when Swift should have been asleep, resulted in a collection that she says is “a journey through terrors and sweet dreams.” "
   ]
  },
  {
   "cell_type": "code",
   "execution_count": 52,
   "id": "3eec4a12",
   "metadata": {},
   "outputs": [],
   "source": [
    "new_album_id = \"151w1FgRZfnKZA9FEcg9Z3\""
   ]
  },
  {
   "cell_type": "markdown",
   "id": "3aa3887f",
   "metadata": {},
   "source": [
    "To get the diteils about tracks in the album used __get album tracks__ endpoint and formated with album's ID"
   ]
  },
  {
   "cell_type": "code",
   "execution_count": 53,
   "id": "567e825f",
   "metadata": {},
   "outputs": [],
   "source": [
    "mid_album_url = 'https://api.spotify.com/v1/albums/{}/tracks'.format(new_album_id)\n"
   ]
  },
  {
   "cell_type": "code",
   "execution_count": 54,
   "id": "6a5447c6",
   "metadata": {},
   "outputs": [
    {
     "data": {
      "text/plain": [
       "200"
      ]
     },
     "execution_count": 54,
     "metadata": {},
     "output_type": "execute_result"
    }
   ],
   "source": [
    "mid_album_response = requests.get(url = mid_album_url, headers = session_headers)\n",
    "mid_album_response.status_code"
   ]
  },
  {
   "cell_type": "code",
   "execution_count": 55,
   "id": "d867f7b3",
   "metadata": {},
   "outputs": [],
   "source": [
    "mid_of_the_state = mid_album_response.json()"
   ]
  },
  {
   "cell_type": "markdown",
   "id": "3588eb00",
   "metadata": {},
   "source": [
    "Getting into \"items\" I pulled our the besic information about tracks, like \"name\", \"id\" and \"type\""
   ]
  },
  {
   "cell_type": "code",
   "execution_count": 56,
   "id": "f4faccf4",
   "metadata": {},
   "outputs": [
    {
     "data": {
      "text/html": [
       "<div>\n",
       "<style scoped>\n",
       "    .dataframe tbody tr th:only-of-type {\n",
       "        vertical-align: middle;\n",
       "    }\n",
       "\n",
       "    .dataframe tbody tr th {\n",
       "        vertical-align: top;\n",
       "    }\n",
       "\n",
       "    .dataframe thead th {\n",
       "        text-align: right;\n",
       "    }\n",
       "</style>\n",
       "<table border=\"1\" class=\"dataframe\">\n",
       "  <thead>\n",
       "    <tr style=\"text-align: right;\">\n",
       "      <th></th>\n",
       "      <th>name</th>\n",
       "      <th>id</th>\n",
       "      <th>type</th>\n",
       "    </tr>\n",
       "  </thead>\n",
       "  <tbody>\n",
       "    <tr>\n",
       "      <th>0</th>\n",
       "      <td>Lavender Haze</td>\n",
       "      <td>5jQI2r1RdgtuT8S3iG8zFC</td>\n",
       "      <td>track</td>\n",
       "    </tr>\n",
       "    <tr>\n",
       "      <th>1</th>\n",
       "      <td>Maroon</td>\n",
       "      <td>3eX0NZfLtGzoLUxPNvRfqm</td>\n",
       "      <td>track</td>\n",
       "    </tr>\n",
       "    <tr>\n",
       "      <th>2</th>\n",
       "      <td>Anti-Hero</td>\n",
       "      <td>0V3wPSX9ygBnCm8psDIegu</td>\n",
       "      <td>track</td>\n",
       "    </tr>\n",
       "    <tr>\n",
       "      <th>3</th>\n",
       "      <td>Snow On The Beach (feat. Lana Del Rey)</td>\n",
       "      <td>1wtOxkiel43cVs0Yux5Q4h</td>\n",
       "      <td>track</td>\n",
       "    </tr>\n",
       "    <tr>\n",
       "      <th>4</th>\n",
       "      <td>You're On Your Own, Kid</td>\n",
       "      <td>4D7BCuvgdJlYvlX5WlN54t</td>\n",
       "      <td>track</td>\n",
       "    </tr>\n",
       "  </tbody>\n",
       "</table>\n",
       "</div>"
      ],
      "text/plain": [
       "                                     name                      id   type\n",
       "0                           Lavender Haze  5jQI2r1RdgtuT8S3iG8zFC  track\n",
       "1                                  Maroon  3eX0NZfLtGzoLUxPNvRfqm  track\n",
       "2                               Anti-Hero  0V3wPSX9ygBnCm8psDIegu  track\n",
       "3  Snow On The Beach (feat. Lana Del Rey)  1wtOxkiel43cVs0Yux5Q4h  track\n",
       "4                 You're On Your Own, Kid  4D7BCuvgdJlYvlX5WlN54t  track"
      ]
     },
     "execution_count": 56,
     "metadata": {},
     "output_type": "execute_result"
    }
   ],
   "source": [
    "mid_df = pd.DataFrame(mid_of_the_state['items'])\n",
    "mid_name_df= pd.DataFrame(mid_df [['name','id','type', ]])\n",
    "mid_name_df.head()"
   ]
  },
  {
   "cell_type": "markdown",
   "id": "9bca67a5",
   "metadata": {},
   "source": [
    "My next step is to combine the track's IDs and get the details about their structure. I used audio_features endpoint to get information, and I joined the ids."
   ]
  },
  {
   "cell_type": "code",
   "execution_count": 57,
   "id": "294bfd0e",
   "metadata": {},
   "outputs": [],
   "source": [
    "mid_audio_features = 'https://api.spotify.com/v1/audio-features?ids={}'\\\n",
    ".format(','.join(list(mid_df['id'])))"
   ]
  },
  {
   "cell_type": "code",
   "execution_count": 58,
   "id": "bfeca647",
   "metadata": {},
   "outputs": [
    {
     "data": {
      "text/plain": [
       "200"
      ]
     },
     "execution_count": 58,
     "metadata": {},
     "output_type": "execute_result"
    }
   ],
   "source": [
    "mid_features_response = requests.get(url = mid_audio_features , headers = session_headers)\n",
    "mid_features_response.status_code"
   ]
  },
  {
   "cell_type": "code",
   "execution_count": 59,
   "id": "917739b7",
   "metadata": {},
   "outputs": [],
   "source": [
    "mid_features = mid_features_response.json()"
   ]
  },
  {
   "cell_type": "code",
   "execution_count": 60,
   "id": "e02b33f6",
   "metadata": {},
   "outputs": [
    {
     "data": {
      "text/html": [
       "<div>\n",
       "<style scoped>\n",
       "    .dataframe tbody tr th:only-of-type {\n",
       "        vertical-align: middle;\n",
       "    }\n",
       "\n",
       "    .dataframe tbody tr th {\n",
       "        vertical-align: top;\n",
       "    }\n",
       "\n",
       "    .dataframe thead th {\n",
       "        text-align: right;\n",
       "    }\n",
       "</style>\n",
       "<table border=\"1\" class=\"dataframe\">\n",
       "  <thead>\n",
       "    <tr style=\"text-align: right;\">\n",
       "      <th></th>\n",
       "      <th>danceability</th>\n",
       "      <th>speechiness</th>\n",
       "      <th>id</th>\n",
       "    </tr>\n",
       "  </thead>\n",
       "  <tbody>\n",
       "    <tr>\n",
       "      <th>0</th>\n",
       "      <td>0.733</td>\n",
       "      <td>0.0800</td>\n",
       "      <td>5jQI2r1RdgtuT8S3iG8zFC</td>\n",
       "    </tr>\n",
       "    <tr>\n",
       "      <th>1</th>\n",
       "      <td>0.637</td>\n",
       "      <td>0.0564</td>\n",
       "      <td>3eX0NZfLtGzoLUxPNvRfqm</td>\n",
       "    </tr>\n",
       "    <tr>\n",
       "      <th>2</th>\n",
       "      <td>0.637</td>\n",
       "      <td>0.0519</td>\n",
       "      <td>0V3wPSX9ygBnCm8psDIegu</td>\n",
       "    </tr>\n",
       "    <tr>\n",
       "      <th>3</th>\n",
       "      <td>0.663</td>\n",
       "      <td>0.0375</td>\n",
       "      <td>1wtOxkiel43cVs0Yux5Q4h</td>\n",
       "    </tr>\n",
       "    <tr>\n",
       "      <th>4</th>\n",
       "      <td>0.696</td>\n",
       "      <td>0.0656</td>\n",
       "      <td>4D7BCuvgdJlYvlX5WlN54t</td>\n",
       "    </tr>\n",
       "  </tbody>\n",
       "</table>\n",
       "</div>"
      ],
      "text/plain": [
       "   danceability  speechiness                      id\n",
       "0         0.733       0.0800  5jQI2r1RdgtuT8S3iG8zFC\n",
       "1         0.637       0.0564  3eX0NZfLtGzoLUxPNvRfqm\n",
       "2         0.637       0.0519  0V3wPSX9ygBnCm8psDIegu\n",
       "3         0.663       0.0375  1wtOxkiel43cVs0Yux5Q4h\n",
       "4         0.696       0.0656  4D7BCuvgdJlYvlX5WlN54t"
      ]
     },
     "execution_count": 60,
     "metadata": {},
     "output_type": "execute_result"
    }
   ],
   "source": [
    "mid_features_df = pd.DataFrame(mid_features['audio_features'])\n",
    "mid_two_features_df= pd.DataFrame(mid_features_df[['danceability','speechiness','id']])\n",
    "mid_two_features_df.head()"
   ]
  },
  {
   "cell_type": "markdown",
   "id": "747380a0",
   "metadata": {},
   "source": [
    "From my final data frame for \"Midnights,\" we can get a vague idea about danceableility and speechiness of the tracks. I will use This final data frame to compare to albums. Later, I will use visualization to understand the relationship better.\n",
    "\n",
    "I used the \"ID\" ad value that both data frames share and merged them together to get one data frame with all the essential information"
   ]
  },
  {
   "cell_type": "code",
   "execution_count": 61,
   "id": "945d995f",
   "metadata": {},
   "outputs": [
    {
     "data": {
      "text/html": [
       "<div>\n",
       "<style scoped>\n",
       "    .dataframe tbody tr th:only-of-type {\n",
       "        vertical-align: middle;\n",
       "    }\n",
       "\n",
       "    .dataframe tbody tr th {\n",
       "        vertical-align: top;\n",
       "    }\n",
       "\n",
       "    .dataframe thead th {\n",
       "        text-align: right;\n",
       "    }\n",
       "</style>\n",
       "<table border=\"1\" class=\"dataframe\">\n",
       "  <thead>\n",
       "    <tr style=\"text-align: right;\">\n",
       "      <th></th>\n",
       "      <th>name</th>\n",
       "      <th>id</th>\n",
       "      <th>type</th>\n",
       "      <th>danceability</th>\n",
       "      <th>speechiness</th>\n",
       "    </tr>\n",
       "  </thead>\n",
       "  <tbody>\n",
       "    <tr>\n",
       "      <th>0</th>\n",
       "      <td>Lavender Haze</td>\n",
       "      <td>5jQI2r1RdgtuT8S3iG8zFC</td>\n",
       "      <td>track</td>\n",
       "      <td>0.733</td>\n",
       "      <td>0.0800</td>\n",
       "    </tr>\n",
       "    <tr>\n",
       "      <th>1</th>\n",
       "      <td>Maroon</td>\n",
       "      <td>3eX0NZfLtGzoLUxPNvRfqm</td>\n",
       "      <td>track</td>\n",
       "      <td>0.637</td>\n",
       "      <td>0.0564</td>\n",
       "    </tr>\n",
       "    <tr>\n",
       "      <th>2</th>\n",
       "      <td>Anti-Hero</td>\n",
       "      <td>0V3wPSX9ygBnCm8psDIegu</td>\n",
       "      <td>track</td>\n",
       "      <td>0.637</td>\n",
       "      <td>0.0519</td>\n",
       "    </tr>\n",
       "    <tr>\n",
       "      <th>3</th>\n",
       "      <td>Snow On The Beach (feat. Lana Del Rey)</td>\n",
       "      <td>1wtOxkiel43cVs0Yux5Q4h</td>\n",
       "      <td>track</td>\n",
       "      <td>0.663</td>\n",
       "      <td>0.0375</td>\n",
       "    </tr>\n",
       "    <tr>\n",
       "      <th>4</th>\n",
       "      <td>You're On Your Own, Kid</td>\n",
       "      <td>4D7BCuvgdJlYvlX5WlN54t</td>\n",
       "      <td>track</td>\n",
       "      <td>0.696</td>\n",
       "      <td>0.0656</td>\n",
       "    </tr>\n",
       "  </tbody>\n",
       "</table>\n",
       "</div>"
      ],
      "text/plain": [
       "                                     name                      id   type  \\\n",
       "0                           Lavender Haze  5jQI2r1RdgtuT8S3iG8zFC  track   \n",
       "1                                  Maroon  3eX0NZfLtGzoLUxPNvRfqm  track   \n",
       "2                               Anti-Hero  0V3wPSX9ygBnCm8psDIegu  track   \n",
       "3  Snow On The Beach (feat. Lana Del Rey)  1wtOxkiel43cVs0Yux5Q4h  track   \n",
       "4                 You're On Your Own, Kid  4D7BCuvgdJlYvlX5WlN54t  track   \n",
       "\n",
       "   danceability  speechiness  \n",
       "0         0.733       0.0800  \n",
       "1         0.637       0.0564  \n",
       "2         0.637       0.0519  \n",
       "3         0.663       0.0375  \n",
       "4         0.696       0.0656  "
      ]
     },
     "execution_count": 61,
     "metadata": {},
     "output_type": "execute_result"
    }
   ],
   "source": [
    "mid_final_df= pd.merge(mid_name_df, mid_two_features_df, how = 'inner', on = 'id')\n",
    "mid_final_df.head(5)"
   ]
  },
  {
   "cell_type": "markdown",
   "id": "1bfbcd40",
   "metadata": {},
   "source": [
    "I used a Scatter plot to visualize the relationship between Speechiness vs. danceability. As suspected, the album has most songs with low \"Speechiness\" and only one that is below average, about> 0.40. However, the majority of songs are very danceable. Average danceability is about 0.65 to 0.7, which is above average. There is only one song with high danceability and high speechiness.\n",
    "\n"
   ]
  },
  {
   "cell_type": "code",
   "execution_count": 62,
   "id": "1f886716",
   "metadata": {},
   "outputs": [
    {
     "data": {
      "image/png": "[encoded data removed]",
      "text/plain": [
       "<Figure size 640x480 with 1 Axes>"
      ]
     },
     "metadata": {},
     "output_type": "display_data"
    }
   ],
   "source": [
    "fig3, ax3 =  plt.subplots()\n",
    "ax3.scatter( x = mid_final_df ['danceability'], \n",
    "             y = mid_final_df['speechiness'],alpha= .5, color='#E3001E' ) \n",
    "\n",
    "ax3.set_xlabel('Danceability')\n",
    "ax3.set_ylabel('speechiness')\n",
    "plt.show()\n"
   ]
  },
  {
   "cell_type": "markdown",
   "id": "176a07dd",
   "metadata": {},
   "source": [
    "I used a scatter plot to better show the relationship between the two albums. The graph represents two albums together based on their danceability vs. speechiness. We can see a similar pattern in terms of \"speechiness.\" Only a few songs have relatively high \"speechiness,\" and the rate is> 0.40. However, we can notice that the \"Midnight\" album has lower speechiness than the \"California\" album. For Midnight, there are only two songs below 0.45. The \"California\" album is more spread; however, danceability is >0.73"
   ]
  },
  {
   "cell_type": "code",
   "execution_count": 63,
   "id": "5cf5563a",
   "metadata": {},
   "outputs": [
    {
     "data": {
      "image/png": "[encoded data removed]",
      "text/plain": [
       "<Figure size 640x480 with 1 Axes>"
      ]
     },
     "metadata": {},
     "output_type": "display_data"
    }
   ],
   "source": [
    "fig5, ax5 =  plt.subplots()\n",
    "ax5.scatter( x = california_final_df  ['danceability'], \n",
    "             y = california_final_df ['speechiness'],\n",
    "            label = 'california Of The State',\n",
    "            color = '#2F9B61',\n",
    "            marker ='*')\n",
    "ax5.scatter( x = mid_final_df ['danceability'], \n",
    "             y = mid_final_df  ['speechiness'],\n",
    "            label = 'Midnight',\n",
    "            alpha= .5, \n",
    "            marker ='8',\n",
    "           color = '#E3001E')\n",
    "\n",
    "ax5.set_title('Midnight vs California')\n",
    "ax5.set_xlabel('Danceability')\n",
    "ax5.set_ylabel('speechiness')\n",
    "ax5.legend()\n",
    "\n",
    "plt.show()"
   ]
  },
  {
   "cell_type": "markdown",
   "id": "83bcd368",
   "metadata": {},
   "source": [
    "Also, I compared the features of the two albums separately to get a clearer view of the relationship. As we can see, the \"danceability\" between the two albums is dramatically different. \"Midnight\" is mostly popular, and \"Californa\" is spread out between 0.1 to 0.75. The mid for \"midnight\" is 0.68, and for \"California,\" 0.55"
   ]
  },
  {
   "cell_type": "code",
   "execution_count": 64,
   "id": "1194eefc",
   "metadata": {},
   "outputs": [
    {
     "data": {
      "image/png": "[encoded data removed]",
      "text/plain": [
       "<Figure size 640x480 with 1 Axes>"
      ]
     },
     "metadata": {},
     "output_type": "display_data"
    }
   ],
   "source": [
    "california_speech= california_final_df   ['danceability']\n",
    "mid_speech = mid_final_df['danceability']\n",
    "\n",
    "california_ax = [1]*len(california_speech)\n",
    "mid_ax = [2]*len(mid_speech )\n",
    "\n",
    "bur_x_jitter = np.random.uniform(-0.10,0.10,len (california_ax))\n",
    "chr_x_jitter = np.random.uniform(-0.10,0.10,len (mid_ax))\n",
    "\n",
    "fig8, ax8=  plt.subplots()\n",
    "ax8.boxplot(california_speech,positions= [1], showfliers=False)\n",
    "ax8.boxplot(mid_speech,positions= [2], showfliers=False)\n",
    "ax8.scatter(california_ax + bur_x_jitter, california_speech, alpha=0.5, color='#E3001E', marker ='8')\n",
    "ax8.scatter(mid_ax + chr_x_jitter, mid_speech, alpha=0.5, color='#2F9B61',marker ='*')\n",
    "\n",
    "\n",
    "ax5.legend()\n",
    "plt.show()"
   ]
  },
  {
   "cell_type": "markdown",
   "id": "c9245bf0",
   "metadata": {},
   "source": [
    "My last graph compares the Spechiness of both albums using a boxplot. This will allow me to get to the midpoint of the values. The graph shows that they both share almost the exact midpoint of 0.06. Both artists have little to no lyrics in those tracks, and the songs are heavily based on audio. There is one song from each playlist that has somewhat high sketchiness. However, it is still below the average rate."
   ]
  },
  {
   "cell_type": "code",
   "execution_count": 65,
   "id": "4c9810cc",
   "metadata": {},
   "outputs": [
    {
     "data": {
      "image/png": "[encoded data removed]",
      "text/plain": [
       "<Figure size 640x480 with 1 Axes>"
      ]
     },
     "metadata": {},
     "output_type": "display_data"
    }
   ],
   "source": [
    "california_speech= california_final_df   ['speechiness']\n",
    "mid_speech = mid_final_df['speechiness']\n",
    "\n",
    "california_ax = [1]*len(california_speech)\n",
    "mid_ax = [2]*len(mid_speech )\n",
    "\n",
    "bur_x_jitter = np.random.uniform(-0.10,0.10,len (california_ax))\n",
    "chr_x_jitter = np.random.uniform(-0.10,0.10,len (mid_ax))\n",
    "\n",
    "fig8, ax8=  plt.subplots()\n",
    "ax8.boxplot(california_speech,positions= [1], showfliers=False)\n",
    "ax8.boxplot(mid_speech,positions= [2], showfliers=False)\n",
    "ax8.scatter(california_ax + bur_x_jitter, california_speech, alpha=0.5, color='#E3001E', marker ='8', label='Aguilera')\n",
    "ax8.scatter(mid_ax + chr_x_jitter, mid_speech, alpha=0.5, color='#2F9B61',marker ='*', label='Sia')\n",
    "plt.show()\n"
   ]
  },
  {
   "cell_type": "markdown",
   "id": "3cb369e1",
   "metadata": {},
   "source": [
    "# Conclution\n",
    "\n",
    "For my final project, I decided to compare and contrast how music changed in America over 20 years based on \"Danceability\" and \"speechiness\" of the two popular albums, one released early 2000s and the other in mid 2022. My research and report showed me that dances became dramatically more danceable over time. During the early 2000s, the average rate of danceability based on an album called \"Californication\" was 0.52, which is in the middle of the danceability scale; however, the \"Midnight\" album that was released in mid-2022 has average danceability of 0.69, which is above average. On the other hand, both albums share the exact midpoint for \"Speechiness\" with a rate of 0.06. This is very low, meaning there must be more about lyrics in the tracks. This can include two things. One, the artist mostly expressed their feeling and goals through audio, or both albums could be more meaningful to have many lyrics. To get the answer to this question, I listened to both albums with all the tracks. I agree that words are not the only way to express emotions. Both artists did a fantastic job creating songs where the songs' melodies express the meaning. \n",
    "\n",
    "### limitations\n",
    "1. it is hard to assume by comparing only two features that describe the tracks. I picked \"danceability\" because, from my previous analysis throughout the semester, I learned that the more danceable the song is, the more popular it is, and for my analysis, I wanted to compare albums that were hit during the realized year. I also picked \"speechiness\" because there are a lot of stereotypes that nowadays have no meaning and proper lyrics. Artists repeat the same thing or play some beats instead of singing. However, these more than two features are needed to make a perfect conclusion about the overall picture. Later, to make the analysis more accurate, I would like to add more features to the data to compare and contrast more features. \n",
    "2. Realise date. I faced a challenge when I was trying to get the realized data for my tracks from the picked playlist. However, instead of giving me the release date of the stack, Spotify API gave me the release date of the album the track was in. This limited my window into comparing to albums rather than playlists. In the future, I would like to collect released data specifically for tracks by either doing it manually or learning new ways to fix this problem.\n",
    "3. Spotify. Spotify was founded around 2006, so the albums from the early 2000s and late 1999s were not in Spotify when they came out. In the first part, when I had to pick the most popular song and then the album of the early 2000s, the data was mostly collected from people born after the 2000s.\n",
    "\n",
    "### Next Step \n",
    "For my next step, I would like to create my data where I can collect all the popular tracks from the early 2000s and late hits of 2022 from different sources to get the exact released date and more features about tracks that will help me draw more accurate conclusions about how music teste changed over time in America. "
   ]
  },
  {
   "cell_type": "code",
   "execution_count": null,
   "id": "11312fa2",
   "metadata": {},
   "outputs": [],
   "source": []
  }
 ],
 "metadata": {
  "kernelspec": {
   "display_name": "Python 3 (ipykernel)",
   "language": "python",
   "name": "python3"
  },
  "language_info": {
   "codemirror_mode": {
    "name": "ipython",
    "version": 3
   },
   "file_extension": ".py",
   "mimetype": "text/x-python",
   "name": "python",
   "nbconvert_exporter": "python",
   "pygments_lexer": "ipython3",
   "version": "3.11.5"
  }
 },
 "nbformat": 4,
 "nbformat_minor": 5
}
